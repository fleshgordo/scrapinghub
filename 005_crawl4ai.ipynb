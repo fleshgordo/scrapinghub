{
  "nbformat": 4,
  "nbformat_minor": 0,
  "metadata": {
    "colab": {
      "provenance": [],
      "authorship_tag": "ABX9TyMbRTRKwW04CQcx5XTF7dLq",
      "include_colab_link": true
    },
    "kernelspec": {
      "name": "python3",
      "display_name": "Python 3"
    },
    "language_info": {
      "name": "python"
    }
  },
  "cells": [
    {
      "cell_type": "markdown",
      "metadata": {
        "id": "view-in-github",
        "colab_type": "text"
      },
      "source": [
        "<a href=\"https://colab.research.google.com/github/fleshgordo/scrapinghub/blob/main/005_crawl4ai.ipynb\" target=\"_parent\"><img src=\"https://colab.research.google.com/assets/colab-badge.svg\" alt=\"Open In Colab\"/></a>"
      ]
    },
    {
      "cell_type": "markdown",
      "source": [
        "# Crawl4AI\n",
        "\n",
        "Welcome! In this notebook, we'll explore [crawl4ai](https://github.com/unclecode/crawl4ai), a Python library designed to make web scraping easier and more efficient — especially when working with AI workflows.\n",
        "\n",
        "🔍 What is crawl4ai?\n",
        "crawl4ai is a tool that helps you:\n",
        "\n",
        "\n",
        "*   Automatically fetch, extract, and clean web content\n",
        "\n",
        "*   Work with structured and unstructured data from websites\n",
        "\n",
        "*   Prepare data for machine learning and natural language processing\n",
        "\n",
        "It simplifies the web crawling process by combining:\n",
        "\n",
        "*   requests for HTTP access\n",
        "\n",
        "*   BeautifulSoup for HTML parsing\n",
        "\n",
        "*   Useful features like deduplication, rate limiting, and content extraction"
      ],
      "metadata": {
        "id": "h1ytNLtIHf9e"
      }
    },
    {
      "cell_type": "code",
      "source": [
        "!pip install -U crawl4ai"
      ],
      "metadata": {
        "colab": {
          "base_uri": "https://localhost:8080/",
          "height": 1000
        },
        "id": "9v76Ni-J8Jis",
        "outputId": "2779626d-0d4b-4e30-ae78-b643debf5b3c"
      },
      "execution_count": 1,
      "outputs": [
        {
          "output_type": "stream",
          "name": "stdout",
          "text": [
            "Collecting crawl4ai\n",
            "  Downloading crawl4ai-0.6.2-py3-none-any.whl.metadata (36 kB)\n",
            "Collecting aiosqlite~=0.20 (from crawl4ai)\n",
            "  Downloading aiosqlite-0.21.0-py3-none-any.whl.metadata (4.3 kB)\n",
            "Requirement already satisfied: lxml~=5.3 in /usr/local/lib/python3.11/dist-packages (from crawl4ai) (5.4.0)\n",
            "Collecting litellm>=1.53.1 (from crawl4ai)\n",
            "  Downloading litellm-1.69.0-py3-none-any.whl.metadata (36 kB)\n",
            "Requirement already satisfied: numpy<3,>=1.26.0 in /usr/local/lib/python3.11/dist-packages (from crawl4ai) (2.0.2)\n",
            "Collecting pillow~=10.4 (from crawl4ai)\n",
            "  Downloading pillow-10.4.0-cp311-cp311-manylinux_2_28_x86_64.whl.metadata (9.2 kB)\n",
            "Collecting playwright>=1.49.0 (from crawl4ai)\n",
            "  Downloading playwright-1.52.0-py3-none-manylinux1_x86_64.whl.metadata (3.5 kB)\n",
            "Collecting python-dotenv~=1.0 (from crawl4ai)\n",
            "  Downloading python_dotenv-1.1.0-py3-none-any.whl.metadata (24 kB)\n",
            "Requirement already satisfied: requests~=2.26 in /usr/local/lib/python3.11/dist-packages (from crawl4ai) (2.32.3)\n",
            "Requirement already satisfied: beautifulsoup4~=4.12 in /usr/local/lib/python3.11/dist-packages (from crawl4ai) (4.13.4)\n",
            "Collecting tf-playwright-stealth>=1.1.0 (from crawl4ai)\n",
            "  Downloading tf_playwright_stealth-1.1.2-py3-none-any.whl.metadata (2.6 kB)\n",
            "Collecting xxhash~=3.4 (from crawl4ai)\n",
            "  Downloading xxhash-3.5.0-cp311-cp311-manylinux_2_17_x86_64.manylinux2014_x86_64.whl.metadata (12 kB)\n",
            "Collecting rank-bm25~=0.2 (from crawl4ai)\n",
            "  Downloading rank_bm25-0.2.2-py3-none-any.whl.metadata (3.2 kB)\n",
            "Collecting aiofiles>=24.1.0 (from crawl4ai)\n",
            "  Downloading aiofiles-24.1.0-py3-none-any.whl.metadata (10 kB)\n",
            "Collecting colorama~=0.4 (from crawl4ai)\n",
            "  Downloading colorama-0.4.6-py2.py3-none-any.whl.metadata (17 kB)\n",
            "Requirement already satisfied: snowballstemmer~=2.2 in /usr/local/lib/python3.11/dist-packages (from crawl4ai) (2.2.0)\n",
            "Requirement already satisfied: pydantic>=2.10 in /usr/local/lib/python3.11/dist-packages (from crawl4ai) (2.11.4)\n",
            "Collecting pyOpenSSL>=24.3.0 (from crawl4ai)\n",
            "  Downloading pyOpenSSL-25.0.0-py3-none-any.whl.metadata (16 kB)\n",
            "Collecting psutil>=6.1.1 (from crawl4ai)\n",
            "  Downloading psutil-7.0.0-cp36-abi3-manylinux_2_12_x86_64.manylinux2010_x86_64.manylinux_2_17_x86_64.manylinux2014_x86_64.whl.metadata (22 kB)\n",
            "Requirement already satisfied: nltk>=3.9.1 in /usr/local/lib/python3.11/dist-packages (from crawl4ai) (3.9.1)\n",
            "Requirement already satisfied: rich>=13.9.4 in /usr/local/lib/python3.11/dist-packages (from crawl4ai) (13.9.4)\n",
            "Collecting cssselect>=1.2.0 (from crawl4ai)\n",
            "  Downloading cssselect-1.3.0-py3-none-any.whl.metadata (2.6 kB)\n",
            "Requirement already satisfied: httpx>=0.27.2 in /usr/local/lib/python3.11/dist-packages (from crawl4ai) (0.28.1)\n",
            "Collecting fake-useragent>=2.0.3 (from crawl4ai)\n",
            "  Downloading fake_useragent-2.2.0-py3-none-any.whl.metadata (17 kB)\n",
            "Requirement already satisfied: click>=8.1.7 in /usr/local/lib/python3.11/dist-packages (from crawl4ai) (8.1.8)\n",
            "Requirement already satisfied: pyperclip>=1.8.2 in /usr/local/lib/python3.11/dist-packages (from crawl4ai) (1.9.0)\n",
            "Requirement already satisfied: chardet>=5.2.0 in /usr/local/lib/python3.11/dist-packages (from crawl4ai) (5.2.0)\n",
            "Requirement already satisfied: aiohttp>=3.11.11 in /usr/local/lib/python3.11/dist-packages (from crawl4ai) (3.11.15)\n",
            "Collecting brotli>=1.1.0 (from crawl4ai)\n",
            "  Downloading Brotli-1.1.0-cp311-cp311-manylinux_2_17_x86_64.manylinux2014_x86_64.whl.metadata (5.5 kB)\n",
            "Requirement already satisfied: humanize>=4.10.0 in /usr/local/lib/python3.11/dist-packages (from crawl4ai) (4.12.3)\n",
            "Requirement already satisfied: aiohappyeyeballs>=2.3.0 in /usr/local/lib/python3.11/dist-packages (from aiohttp>=3.11.11->crawl4ai) (2.6.1)\n",
            "Requirement already satisfied: aiosignal>=1.1.2 in /usr/local/lib/python3.11/dist-packages (from aiohttp>=3.11.11->crawl4ai) (1.3.2)\n",
            "Requirement already satisfied: attrs>=17.3.0 in /usr/local/lib/python3.11/dist-packages (from aiohttp>=3.11.11->crawl4ai) (25.3.0)\n",
            "Requirement already satisfied: frozenlist>=1.1.1 in /usr/local/lib/python3.11/dist-packages (from aiohttp>=3.11.11->crawl4ai) (1.6.0)\n",
            "Requirement already satisfied: multidict<7.0,>=4.5 in /usr/local/lib/python3.11/dist-packages (from aiohttp>=3.11.11->crawl4ai) (6.4.3)\n",
            "Requirement already satisfied: propcache>=0.2.0 in /usr/local/lib/python3.11/dist-packages (from aiohttp>=3.11.11->crawl4ai) (0.3.1)\n",
            "Requirement already satisfied: yarl<2.0,>=1.17.0 in /usr/local/lib/python3.11/dist-packages (from aiohttp>=3.11.11->crawl4ai) (1.20.0)\n",
            "Requirement already satisfied: typing_extensions>=4.0 in /usr/local/lib/python3.11/dist-packages (from aiosqlite~=0.20->crawl4ai) (4.13.2)\n",
            "Requirement already satisfied: soupsieve>1.2 in /usr/local/lib/python3.11/dist-packages (from beautifulsoup4~=4.12->crawl4ai) (2.7)\n",
            "Requirement already satisfied: anyio in /usr/local/lib/python3.11/dist-packages (from httpx>=0.27.2->crawl4ai) (4.9.0)\n",
            "Requirement already satisfied: certifi in /usr/local/lib/python3.11/dist-packages (from httpx>=0.27.2->crawl4ai) (2025.4.26)\n",
            "Requirement already satisfied: httpcore==1.* in /usr/local/lib/python3.11/dist-packages (from httpx>=0.27.2->crawl4ai) (1.0.9)\n",
            "Requirement already satisfied: idna in /usr/local/lib/python3.11/dist-packages (from httpx>=0.27.2->crawl4ai) (3.10)\n",
            "Requirement already satisfied: h11>=0.16 in /usr/local/lib/python3.11/dist-packages (from httpcore==1.*->httpx>=0.27.2->crawl4ai) (0.16.0)\n",
            "Requirement already satisfied: importlib-metadata>=6.8.0 in /usr/local/lib/python3.11/dist-packages (from litellm>=1.53.1->crawl4ai) (8.7.0)\n",
            "Requirement already satisfied: jinja2<4.0.0,>=3.1.2 in /usr/local/lib/python3.11/dist-packages (from litellm>=1.53.1->crawl4ai) (3.1.6)\n",
            "Requirement already satisfied: jsonschema<5.0.0,>=4.22.0 in /usr/local/lib/python3.11/dist-packages (from litellm>=1.53.1->crawl4ai) (4.23.0)\n",
            "Collecting openai<1.76.0,>=1.68.2 (from litellm>=1.53.1->crawl4ai)\n",
            "  Downloading openai-1.75.0-py3-none-any.whl.metadata (25 kB)\n",
            "Collecting tiktoken>=0.7.0 (from litellm>=1.53.1->crawl4ai)\n",
            "  Downloading tiktoken-0.9.0-cp311-cp311-manylinux_2_17_x86_64.manylinux2014_x86_64.whl.metadata (6.7 kB)\n",
            "Requirement already satisfied: tokenizers in /usr/local/lib/python3.11/dist-packages (from litellm>=1.53.1->crawl4ai) (0.21.1)\n",
            "Requirement already satisfied: joblib in /usr/local/lib/python3.11/dist-packages (from nltk>=3.9.1->crawl4ai) (1.4.2)\n",
            "Requirement already satisfied: regex>=2021.8.3 in /usr/local/lib/python3.11/dist-packages (from nltk>=3.9.1->crawl4ai) (2024.11.6)\n",
            "Requirement already satisfied: tqdm in /usr/local/lib/python3.11/dist-packages (from nltk>=3.9.1->crawl4ai) (4.67.1)\n",
            "Collecting pyee<14,>=13 (from playwright>=1.49.0->crawl4ai)\n",
            "  Downloading pyee-13.0.0-py3-none-any.whl.metadata (2.9 kB)\n",
            "Requirement already satisfied: greenlet<4.0.0,>=3.1.1 in /usr/local/lib/python3.11/dist-packages (from playwright>=1.49.0->crawl4ai) (3.2.1)\n",
            "Requirement already satisfied: annotated-types>=0.6.0 in /usr/local/lib/python3.11/dist-packages (from pydantic>=2.10->crawl4ai) (0.7.0)\n",
            "Requirement already satisfied: pydantic-core==2.33.2 in /usr/local/lib/python3.11/dist-packages (from pydantic>=2.10->crawl4ai) (2.33.2)\n",
            "Requirement already satisfied: typing-inspection>=0.4.0 in /usr/local/lib/python3.11/dist-packages (from pydantic>=2.10->crawl4ai) (0.4.0)\n",
            "Requirement already satisfied: cryptography<45,>=41.0.5 in /usr/local/lib/python3.11/dist-packages (from pyOpenSSL>=24.3.0->crawl4ai) (43.0.3)\n",
            "Requirement already satisfied: charset-normalizer<4,>=2 in /usr/local/lib/python3.11/dist-packages (from requests~=2.26->crawl4ai) (3.4.1)\n",
            "Requirement already satisfied: urllib3<3,>=1.21.1 in /usr/local/lib/python3.11/dist-packages (from requests~=2.26->crawl4ai) (2.4.0)\n",
            "Requirement already satisfied: markdown-it-py>=2.2.0 in /usr/local/lib/python3.11/dist-packages (from rich>=13.9.4->crawl4ai) (3.0.0)\n",
            "Requirement already satisfied: pygments<3.0.0,>=2.13.0 in /usr/local/lib/python3.11/dist-packages (from rich>=13.9.4->crawl4ai) (2.19.1)\n",
            "Collecting fake-http-header<0.4.0,>=0.3.5 (from tf-playwright-stealth>=1.1.0->crawl4ai)\n",
            "  Downloading fake_http_header-0.3.5-py3-none-any.whl.metadata (3.5 kB)\n",
            "Requirement already satisfied: cffi>=1.12 in /usr/local/lib/python3.11/dist-packages (from cryptography<45,>=41.0.5->pyOpenSSL>=24.3.0->crawl4ai) (1.17.1)\n",
            "Requirement already satisfied: zipp>=3.20 in /usr/local/lib/python3.11/dist-packages (from importlib-metadata>=6.8.0->litellm>=1.53.1->crawl4ai) (3.21.0)\n",
            "Requirement already satisfied: MarkupSafe>=2.0 in /usr/local/lib/python3.11/dist-packages (from jinja2<4.0.0,>=3.1.2->litellm>=1.53.1->crawl4ai) (3.0.2)\n",
            "Requirement already satisfied: jsonschema-specifications>=2023.03.6 in /usr/local/lib/python3.11/dist-packages (from jsonschema<5.0.0,>=4.22.0->litellm>=1.53.1->crawl4ai) (2025.4.1)\n",
            "Requirement already satisfied: referencing>=0.28.4 in /usr/local/lib/python3.11/dist-packages (from jsonschema<5.0.0,>=4.22.0->litellm>=1.53.1->crawl4ai) (0.36.2)\n",
            "Requirement already satisfied: rpds-py>=0.7.1 in /usr/local/lib/python3.11/dist-packages (from jsonschema<5.0.0,>=4.22.0->litellm>=1.53.1->crawl4ai) (0.24.0)\n",
            "Requirement already satisfied: mdurl~=0.1 in /usr/local/lib/python3.11/dist-packages (from markdown-it-py>=2.2.0->rich>=13.9.4->crawl4ai) (0.1.2)\n",
            "Requirement already satisfied: distro<2,>=1.7.0 in /usr/local/lib/python3.11/dist-packages (from openai<1.76.0,>=1.68.2->litellm>=1.53.1->crawl4ai) (1.9.0)\n",
            "Requirement already satisfied: jiter<1,>=0.4.0 in /usr/local/lib/python3.11/dist-packages (from openai<1.76.0,>=1.68.2->litellm>=1.53.1->crawl4ai) (0.9.0)\n",
            "Requirement already satisfied: sniffio in /usr/local/lib/python3.11/dist-packages (from openai<1.76.0,>=1.68.2->litellm>=1.53.1->crawl4ai) (1.3.1)\n",
            "Requirement already satisfied: huggingface-hub<1.0,>=0.16.4 in /usr/local/lib/python3.11/dist-packages (from tokenizers->litellm>=1.53.1->crawl4ai) (0.30.2)\n",
            "Requirement already satisfied: pycparser in /usr/local/lib/python3.11/dist-packages (from cffi>=1.12->cryptography<45,>=41.0.5->pyOpenSSL>=24.3.0->crawl4ai) (2.22)\n",
            "Requirement already satisfied: filelock in /usr/local/lib/python3.11/dist-packages (from huggingface-hub<1.0,>=0.16.4->tokenizers->litellm>=1.53.1->crawl4ai) (3.18.0)\n",
            "Requirement already satisfied: fsspec>=2023.5.0 in /usr/local/lib/python3.11/dist-packages (from huggingface-hub<1.0,>=0.16.4->tokenizers->litellm>=1.53.1->crawl4ai) (2025.3.2)\n",
            "Requirement already satisfied: packaging>=20.9 in /usr/local/lib/python3.11/dist-packages (from huggingface-hub<1.0,>=0.16.4->tokenizers->litellm>=1.53.1->crawl4ai) (24.2)\n",
            "Requirement already satisfied: pyyaml>=5.1 in /usr/local/lib/python3.11/dist-packages (from huggingface-hub<1.0,>=0.16.4->tokenizers->litellm>=1.53.1->crawl4ai) (6.0.2)\n",
            "Downloading crawl4ai-0.6.2-py3-none-any.whl (287 kB)\n",
            "\u001b[2K   \u001b[90m━━━━━━━━━━━━━━━━━━━━━━━━━━━━━━━━━━━━━━━━\u001b[0m \u001b[32m287.2/287.2 kB\u001b[0m \u001b[31m7.1 MB/s\u001b[0m eta \u001b[36m0:00:00\u001b[0m\n",
            "\u001b[?25hDownloading aiofiles-24.1.0-py3-none-any.whl (15 kB)\n",
            "Downloading aiosqlite-0.21.0-py3-none-any.whl (15 kB)\n",
            "Downloading Brotli-1.1.0-cp311-cp311-manylinux_2_17_x86_64.manylinux2014_x86_64.whl (2.9 MB)\n",
            "\u001b[2K   \u001b[90m━━━━━━━━━━━━━━━━━━━━━━━━━━━━━━━━━━━━━━━━\u001b[0m \u001b[32m2.9/2.9 MB\u001b[0m \u001b[31m45.4 MB/s\u001b[0m eta \u001b[36m0:00:00\u001b[0m\n",
            "\u001b[?25hDownloading colorama-0.4.6-py2.py3-none-any.whl (25 kB)\n",
            "Downloading cssselect-1.3.0-py3-none-any.whl (18 kB)\n",
            "Downloading fake_useragent-2.2.0-py3-none-any.whl (161 kB)\n",
            "\u001b[2K   \u001b[90m━━━━━━━━━━━━━━━━━━━━━━━━━━━━━━━━━━━━━━━━\u001b[0m \u001b[32m161.7/161.7 kB\u001b[0m \u001b[31m2.3 MB/s\u001b[0m eta \u001b[36m0:00:00\u001b[0m\n",
            "\u001b[?25hDownloading litellm-1.69.0-py3-none-any.whl (7.7 MB)\n",
            "\u001b[2K   \u001b[90m━━━━━━━━━━━━━━━━━━━━━━━━━━━━━━━━━━━━━━━━\u001b[0m \u001b[32m7.7/7.7 MB\u001b[0m \u001b[31m60.2 MB/s\u001b[0m eta \u001b[36m0:00:00\u001b[0m\n",
            "\u001b[?25hDownloading pillow-10.4.0-cp311-cp311-manylinux_2_28_x86_64.whl (4.5 MB)\n",
            "\u001b[2K   \u001b[90m━━━━━━━━━━━━━━━━━━━━━━━━━━━━━━━━━━━━━━━━\u001b[0m \u001b[32m4.5/4.5 MB\u001b[0m \u001b[31m56.2 MB/s\u001b[0m eta \u001b[36m0:00:00\u001b[0m\n",
            "\u001b[?25hDownloading playwright-1.52.0-py3-none-manylinux1_x86_64.whl (45.1 MB)\n",
            "\u001b[2K   \u001b[90m━━━━━━━━━━━━━━━━━━━━━━━━━━━━━━━━━━━━━━━━\u001b[0m \u001b[32m45.1/45.1 MB\u001b[0m \u001b[31m13.1 MB/s\u001b[0m eta \u001b[36m0:00:00\u001b[0m\n",
            "\u001b[?25hDownloading psutil-7.0.0-cp36-abi3-manylinux_2_12_x86_64.manylinux2010_x86_64.manylinux_2_17_x86_64.manylinux2014_x86_64.whl (277 kB)\n",
            "\u001b[2K   \u001b[90m━━━━━━━━━━━━━━━━━━━━━━━━━━━━━━━━━━━━━━━━\u001b[0m \u001b[32m278.0/278.0 kB\u001b[0m \u001b[31m11.4 MB/s\u001b[0m eta \u001b[36m0:00:00\u001b[0m\n",
            "\u001b[?25hDownloading pyOpenSSL-25.0.0-py3-none-any.whl (56 kB)\n",
            "\u001b[2K   \u001b[90m━━━━━━━━━━━━━━━━━━━━━━━━━━━━━━━━━━━━━━━━\u001b[0m \u001b[32m56.5/56.5 kB\u001b[0m \u001b[31m3.2 MB/s\u001b[0m eta \u001b[36m0:00:00\u001b[0m\n",
            "\u001b[?25hDownloading python_dotenv-1.1.0-py3-none-any.whl (20 kB)\n",
            "Downloading rank_bm25-0.2.2-py3-none-any.whl (8.6 kB)\n",
            "Downloading tf_playwright_stealth-1.1.2-py3-none-any.whl (33 kB)\n",
            "Downloading xxhash-3.5.0-cp311-cp311-manylinux_2_17_x86_64.manylinux2014_x86_64.whl (194 kB)\n",
            "\u001b[2K   \u001b[90m━━━━━━━━━━━━━━━━━━━━━━━━━━━━━━━━━━━━━━━━\u001b[0m \u001b[32m194.8/194.8 kB\u001b[0m \u001b[31m11.5 MB/s\u001b[0m eta \u001b[36m0:00:00\u001b[0m\n",
            "\u001b[?25hDownloading fake_http_header-0.3.5-py3-none-any.whl (14 kB)\n",
            "Downloading openai-1.75.0-py3-none-any.whl (646 kB)\n",
            "\u001b[2K   \u001b[90m━━━━━━━━━━━━━━━━━━━━━━━━━━━━━━━━━━━━━━━━\u001b[0m \u001b[32m647.0/647.0 kB\u001b[0m \u001b[31m30.0 MB/s\u001b[0m eta \u001b[36m0:00:00\u001b[0m\n",
            "\u001b[?25hDownloading pyee-13.0.0-py3-none-any.whl (15 kB)\n",
            "Downloading tiktoken-0.9.0-cp311-cp311-manylinux_2_17_x86_64.manylinux2014_x86_64.whl (1.2 MB)\n",
            "\u001b[2K   \u001b[90m━━━━━━━━━━━━━━━━━━━━━━━━━━━━━━━━━━━━━━━━\u001b[0m \u001b[32m1.2/1.2 MB\u001b[0m \u001b[31m33.3 MB/s\u001b[0m eta \u001b[36m0:00:00\u001b[0m\n",
            "\u001b[?25hInstalling collected packages: brotli, xxhash, rank-bm25, python-dotenv, pyee, psutil, pillow, fake-useragent, fake-http-header, cssselect, colorama, aiosqlite, aiofiles, tiktoken, playwright, tf-playwright-stealth, pyOpenSSL, openai, litellm, crawl4ai\n",
            "  Attempting uninstall: psutil\n",
            "    Found existing installation: psutil 5.9.5\n",
            "    Uninstalling psutil-5.9.5:\n",
            "      Successfully uninstalled psutil-5.9.5\n",
            "  Attempting uninstall: pillow\n",
            "    Found existing installation: pillow 11.2.1\n",
            "    Uninstalling pillow-11.2.1:\n",
            "      Successfully uninstalled pillow-11.2.1\n",
            "  Attempting uninstall: pyOpenSSL\n",
            "    Found existing installation: pyOpenSSL 24.2.1\n",
            "    Uninstalling pyOpenSSL-24.2.1:\n",
            "      Successfully uninstalled pyOpenSSL-24.2.1\n",
            "  Attempting uninstall: openai\n",
            "    Found existing installation: openai 1.76.2\n",
            "    Uninstalling openai-1.76.2:\n",
            "      Successfully uninstalled openai-1.76.2\n",
            "\u001b[31mERROR: pip's dependency resolver does not currently take into account all the packages that are installed. This behaviour is the source of the following dependency conflicts.\n",
            "pydrive2 1.21.3 requires pyOpenSSL<=24.2.1,>=19.1.0, but you have pyopenssl 25.0.0 which is incompatible.\u001b[0m\u001b[31m\n",
            "\u001b[0mSuccessfully installed aiofiles-24.1.0 aiosqlite-0.21.0 brotli-1.1.0 colorama-0.4.6 crawl4ai-0.6.2 cssselect-1.3.0 fake-http-header-0.3.5 fake-useragent-2.2.0 litellm-1.69.0 openai-1.75.0 pillow-10.4.0 playwright-1.52.0 psutil-7.0.0 pyOpenSSL-25.0.0 pyee-13.0.0 python-dotenv-1.1.0 rank-bm25-0.2.2 tf-playwright-stealth-1.1.2 tiktoken-0.9.0 xxhash-3.5.0\n"
          ]
        },
        {
          "output_type": "display_data",
          "data": {
            "application/vnd.colab-display-data+json": {
              "pip_warning": {
                "packages": [
                  "PIL",
                  "psutil"
                ]
              },
              "id": "d7dd9b2b9af34b47b6906dea13a96017"
            }
          },
          "metadata": {}
        }
      ]
    },
    {
      "cell_type": "code",
      "source": [
        "!crawl4ai-setup"
      ],
      "metadata": {
        "colab": {
          "base_uri": "https://localhost:8080/"
        },
        "id": "cJMeZ73s8Xlo",
        "outputId": "1f09219f-f72e-4649-8055-bce24aaddb52"
      },
      "execution_count": 1,
      "outputs": [
        {
          "output_type": "stream",
          "name": "stdout",
          "text": [
            "\u001b[36m[INIT].... → Running post-installation setup...\u001b[0m\n",
            "\u001b[36m[INIT].... → Installing Playwright browsers...\u001b[0m\n",
            "Installing dependencies...\n",
            "Get:1 https://cloud.r-project.org/bin/linux/ubuntu jammy-cran40/ InRelease [3,632 B]\n",
            "Hit:2 https://developer.download.nvidia.com/compute/cuda/repos/ubuntu2204/x86_64  InRelease\n",
            "Get:3 http://security.ubuntu.com/ubuntu jammy-security InRelease [129 kB]\n",
            "Get:4 https://r2u.stat.illinois.edu/ubuntu jammy InRelease [6,555 B]\n",
            "Hit:5 http://archive.ubuntu.com/ubuntu jammy InRelease\n",
            "Get:6 http://archive.ubuntu.com/ubuntu jammy-updates InRelease [128 kB]\n",
            "Hit:7 https://ppa.launchpadcontent.net/deadsnakes/ppa/ubuntu jammy InRelease\n",
            "Get:8 https://r2u.stat.illinois.edu/ubuntu jammy/main all Packages [8,927 kB]\n",
            "Hit:9 https://ppa.launchpadcontent.net/graphics-drivers/ppa/ubuntu jammy InRelease\n",
            "Hit:10 https://ppa.launchpadcontent.net/ubuntugis/ppa/ubuntu jammy InRelease\n",
            "Get:11 http://archive.ubuntu.com/ubuntu jammy-backports InRelease [127 kB]\n",
            "Get:12 https://r2u.stat.illinois.edu/ubuntu jammy/main amd64 Packages [2,720 kB]\n",
            "Get:13 http://security.ubuntu.com/ubuntu jammy-security/main amd64 Packages [2,901 kB]\n",
            "Get:14 http://archive.ubuntu.com/ubuntu jammy-updates/main amd64 Packages [3,211 kB]\n",
            "Get:15 http://security.ubuntu.com/ubuntu jammy-security/universe amd64 Packages [1,245 kB]\n",
            "Get:16 http://archive.ubuntu.com/ubuntu jammy-updates/universe amd64 Packages [1,546 kB]\n",
            "Fetched 20.9 MB in 2s (8,583 kB/s)\n",
            "Reading package lists... Done\n",
            "W: Skipping acquire of configured file 'main/source/Sources' as repository 'https://r2u.stat.illinois.edu/ubuntu jammy InRelease' does not seem to provide it (sources.list entry misspelt?)\n",
            "Reading package lists... Done\n",
            "Building dependency tree... Done\n",
            "Reading state information... Done\n",
            "fonts-liberation is already the newest version (1:1.07.4-11).\n",
            "libasound2 is already the newest version (1.2.6.1-1ubuntu1).\n",
            "libasound2 set to manually installed.\n",
            "libatk-bridge2.0-0 is already the newest version (2.38.0-3).\n",
            "libatk-bridge2.0-0 set to manually installed.\n",
            "libatk1.0-0 is already the newest version (2.36.0-3build1).\n",
            "libatk1.0-0 set to manually installed.\n",
            "libatspi2.0-0 is already the newest version (2.44.0-3).\n",
            "libatspi2.0-0 set to manually installed.\n",
            "libcairo2 is already the newest version (1.16.0-5ubuntu2).\n",
            "libcairo2 set to manually installed.\n",
            "libfontconfig1 is already the newest version (2.13.1-4.2ubuntu5).\n",
            "libxcb1 is already the newest version (1.14-3ubuntu3).\n",
            "libxcb1 set to manually installed.\n",
            "libxcomposite1 is already the newest version (1:0.4.5-1build2).\n",
            "libxcomposite1 set to manually installed.\n",
            "libxdamage1 is already the newest version (1:1.1.5-2build2).\n",
            "libxdamage1 set to manually installed.\n",
            "libxext6 is already the newest version (2:1.3.4-1build1).\n",
            "libxfixes3 is already the newest version (1:6.0.0-1).\n",
            "libxfixes3 set to manually installed.\n",
            "libxkbcommon0 is already the newest version (1.4.0-1).\n",
            "libxkbcommon0 set to manually installed.\n",
            "libxrandr2 is already the newest version (2:1.5.2-1build1).\n",
            "libxrandr2 set to manually installed.\n",
            "libcups2 is already the newest version (2.4.1op1-1ubuntu4.11).\n",
            "libcups2 set to manually installed.\n",
            "libdbus-1-3 is already the newest version (1.12.20-2ubuntu4.1).\n",
            "libdbus-1-3 set to manually installed.\n",
            "libdrm2 is already the newest version (2.4.113-2~ubuntu0.22.04.1).\n",
            "libdrm2 set to manually installed.\n",
            "libfreetype6 is already the newest version (2.11.1+dfsg-1ubuntu0.3).\n",
            "libfreetype6 set to manually installed.\n",
            "libgbm1 is already the newest version (23.2.1-1ubuntu3.1~22.04.3).\n",
            "libgbm1 set to manually installed.\n",
            "libglib2.0-0 is already the newest version (2.72.4-0ubuntu2.4).\n",
            "libnspr4 is already the newest version (2:4.35-0ubuntu0.22.04.1).\n",
            "libnspr4 set to manually installed.\n",
            "libnss3 is already the newest version (2:3.98-0ubuntu0.22.04.2).\n",
            "libnss3 set to manually installed.\n",
            "libpango-1.0-0 is already the newest version (1.50.6+ds-2ubuntu1).\n",
            "libpango-1.0-0 set to manually installed.\n",
            "libwayland-client0 is already the newest version (1.20.0-1ubuntu0.1).\n",
            "libwayland-client0 set to manually installed.\n",
            "libx11-6 is already the newest version (2:1.7.5-1ubuntu0.3).\n",
            "libx11-6 set to manually installed.\n",
            "xvfb is already the newest version (2:21.1.4-2ubuntu1.7~22.04.14).\n",
            "The following additional packages will be installed:\n",
            "  xfonts-encodings xfonts-utils\n",
            "Recommended packages:\n",
            "  fonts-ipafont-mincho fonts-tlwg-loma\n",
            "The following NEW packages will be installed:\n",
            "  fonts-freefont-ttf fonts-ipafont-gothic fonts-noto-color-emoji\n",
            "  fonts-tlwg-loma-otf fonts-unifont fonts-wqy-zenhei xfonts-cyrillic\n",
            "  xfonts-encodings xfonts-scalable xfonts-utils\n",
            "0 upgraded, 10 newly installed, 0 to remove and 35 not upgraded.\n",
            "Need to get 28.4 MB of archives.\n",
            "After this operation, 67.9 MB of additional disk space will be used.\n",
            "Get:1 http://archive.ubuntu.com/ubuntu jammy/universe amd64 fonts-ipafont-gothic all 00303-21ubuntu1 [3,513 kB]\n",
            "Get:2 http://archive.ubuntu.com/ubuntu jammy/main amd64 fonts-freefont-ttf all 20120503-10build1 [2,388 kB]\n",
            "Get:3 http://archive.ubuntu.com/ubuntu jammy-updates/main amd64 fonts-noto-color-emoji all 2.047-0ubuntu0.22.04.1 [10.0 MB]\n",
            "Get:4 http://archive.ubuntu.com/ubuntu jammy/universe amd64 fonts-tlwg-loma-otf all 1:0.7.3-1 [107 kB]\n",
            "Get:5 http://archive.ubuntu.com/ubuntu jammy/universe amd64 fonts-unifont all 1:14.0.01-1 [3,551 kB]\n",
            "Get:6 http://archive.ubuntu.com/ubuntu jammy/universe amd64 fonts-wqy-zenhei all 0.9.45-8 [7,472 kB]\n",
            "Get:7 http://archive.ubuntu.com/ubuntu jammy/main amd64 xfonts-encodings all 1:1.0.5-0ubuntu2 [578 kB]\n",
            "Get:8 http://archive.ubuntu.com/ubuntu jammy/main amd64 xfonts-utils amd64 1:7.7+6build2 [94.6 kB]\n",
            "Get:9 http://archive.ubuntu.com/ubuntu jammy/universe amd64 xfonts-cyrillic all 1:1.0.5 [386 kB]\n",
            "Get:10 http://archive.ubuntu.com/ubuntu jammy/main amd64 xfonts-scalable all 1:1.0.3-1.2ubuntu1 [306 kB]\n",
            "Fetched 28.4 MB in 2s (17.6 MB/s)\n",
            "Selecting previously unselected package fonts-ipafont-gothic.\n",
            "(Reading database ... 126102 files and directories currently installed.)\n",
            "Preparing to unpack .../0-fonts-ipafont-gothic_00303-21ubuntu1_all.deb ...\n",
            "Unpacking fonts-ipafont-gothic (00303-21ubuntu1) ...\n",
            "Selecting previously unselected package fonts-freefont-ttf.\n",
            "Preparing to unpack .../1-fonts-freefont-ttf_20120503-10build1_all.deb ...\n",
            "Unpacking fonts-freefont-ttf (20120503-10build1) ...\n",
            "Selecting previously unselected package fonts-noto-color-emoji.\n",
            "Preparing to unpack .../2-fonts-noto-color-emoji_2.047-0ubuntu0.22.04.1_all.deb ...\n",
            "Unpacking fonts-noto-color-emoji (2.047-0ubuntu0.22.04.1) ...\n",
            "Selecting previously unselected package fonts-tlwg-loma-otf.\n",
            "Preparing to unpack .../3-fonts-tlwg-loma-otf_1%3a0.7.3-1_all.deb ...\n",
            "Unpacking fonts-tlwg-loma-otf (1:0.7.3-1) ...\n",
            "Selecting previously unselected package fonts-unifont.\n",
            "Preparing to unpack .../4-fonts-unifont_1%3a14.0.01-1_all.deb ...\n",
            "Unpacking fonts-unifont (1:14.0.01-1) ...\n",
            "Selecting previously unselected package fonts-wqy-zenhei.\n",
            "Preparing to unpack .../5-fonts-wqy-zenhei_0.9.45-8_all.deb ...\n",
            "Unpacking fonts-wqy-zenhei (0.9.45-8) ...\n",
            "Selecting previously unselected package xfonts-encodings.\n",
            "Preparing to unpack .../6-xfonts-encodings_1%3a1.0.5-0ubuntu2_all.deb ...\n",
            "Unpacking xfonts-encodings (1:1.0.5-0ubuntu2) ...\n",
            "Selecting previously unselected package xfonts-utils.\n",
            "Preparing to unpack .../7-xfonts-utils_1%3a7.7+6build2_amd64.deb ...\n",
            "Unpacking xfonts-utils (1:7.7+6build2) ...\n",
            "Selecting previously unselected package xfonts-cyrillic.\n",
            "Preparing to unpack .../8-xfonts-cyrillic_1%3a1.0.5_all.deb ...\n",
            "Unpacking xfonts-cyrillic (1:1.0.5) ...\n",
            "Selecting previously unselected package xfonts-scalable.\n",
            "Preparing to unpack .../9-xfonts-scalable_1%3a1.0.3-1.2ubuntu1_all.deb ...\n",
            "Unpacking xfonts-scalable (1:1.0.3-1.2ubuntu1) ...\n",
            "Setting up fonts-noto-color-emoji (2.047-0ubuntu0.22.04.1) ...\n",
            "Setting up fonts-wqy-zenhei (0.9.45-8) ...\n",
            "Setting up fonts-freefont-ttf (20120503-10build1) ...\n",
            "Setting up fonts-tlwg-loma-otf (1:0.7.3-1) ...\n",
            "Setting up xfonts-encodings (1:1.0.5-0ubuntu2) ...\n",
            "Setting up fonts-ipafont-gothic (00303-21ubuntu1) ...\n",
            "update-alternatives: using /usr/share/fonts/opentype/ipafont-gothic/ipag.ttf to provide /usr/share/fonts/truetype/fonts-japanese-gothic.ttf (fonts-japanese-gothic.ttf) in auto mode\n",
            "Setting up fonts-unifont (1:14.0.01-1) ...\n",
            "Setting up xfonts-utils (1:7.7+6build2) ...\n",
            "Setting up xfonts-cyrillic (1:1.0.5) ...\n",
            "Setting up xfonts-scalable (1:1.0.3-1.2ubuntu1) ...\n",
            "Processing triggers for man-db (2.10.2-1) ...\n",
            "Processing triggers for fontconfig (2.13.1-4.2ubuntu5) ...\n",
            "Downloading Chromium 136.0.7103.25 (playwright build v1169)\u001b[2m from https://cdn.playwright.dev/dbazure/download/playwright/builds/chromium/1169/chromium-linux.zip\u001b[22m\n",
            "\u001b[1G167.7 MiB [] 0% 127.6s\u001b[0K\u001b[1G167.7 MiB [] 0% 48.5s\u001b[0K\u001b[1G167.7 MiB [] 0% 35.8s\u001b[0K\u001b[1G167.7 MiB [] 0% 24.0s\u001b[0K\u001b[1G167.7 MiB [] 0% 13.4s\u001b[0K\u001b[1G167.7 MiB [] 0% 9.2s\u001b[0K\u001b[1G167.7 MiB [] 1% 8.8s\u001b[0K\u001b[1G167.7 MiB [] 2% 4.8s\u001b[0K\u001b[1G167.7 MiB [] 2% 4.2s\u001b[0K\u001b[1G167.7 MiB [] 3% 3.8s\u001b[0K\u001b[1G167.7 MiB [] 4% 3.5s\u001b[0K\u001b[1G167.7 MiB [] 5% 3.3s\u001b[0K\u001b[1G167.7 MiB [] 5% 3.2s\u001b[0K\u001b[1G167.7 MiB [] 5% 3.5s\u001b[0K\u001b[1G167.7 MiB [] 6% 3.5s\u001b[0K\u001b[1G167.7 MiB [] 7% 3.5s\u001b[0K\u001b[1G167.7 MiB [] 7% 3.4s\u001b[0K\u001b[1G167.7 MiB [] 8% 3.2s\u001b[0K\u001b[1G167.7 MiB [] 9% 3.2s\u001b[0K\u001b[1G167.7 MiB [] 10% 3.2s\u001b[0K\u001b[1G167.7 MiB [] 11% 3.1s\u001b[0K\u001b[1G167.7 MiB [] 12% 2.9s\u001b[0K\u001b[1G167.7 MiB [] 12% 2.8s\u001b[0K\u001b[1G167.7 MiB [] 13% 2.8s\u001b[0K\u001b[1G167.7 MiB [] 14% 2.8s\u001b[0K\u001b[1G167.7 MiB [] 15% 2.7s\u001b[0K\u001b[1G167.7 MiB [] 16% 2.6s\u001b[0K\u001b[1G167.7 MiB [] 17% 2.5s\u001b[0K\u001b[1G167.7 MiB [] 18% 2.5s\u001b[0K\u001b[1G167.7 MiB [] 19% 2.4s\u001b[0K\u001b[1G167.7 MiB [] 19% 2.3s\u001b[0K\u001b[1G167.7 MiB [] 20% 2.3s\u001b[0K\u001b[1G167.7 MiB [] 21% 2.3s\u001b[0K\u001b[1G167.7 MiB [] 22% 2.2s\u001b[0K\u001b[1G167.7 MiB [] 23% 2.2s\u001b[0K\u001b[1G167.7 MiB [] 24% 2.1s\u001b[0K\u001b[1G167.7 MiB [] 25% 2.0s\u001b[0K\u001b[1G167.7 MiB [] 26% 2.0s\u001b[0K\u001b[1G167.7 MiB [] 27% 2.0s\u001b[0K\u001b[1G167.7 MiB [] 27% 2.1s\u001b[0K\u001b[1G167.7 MiB [] 27% 2.2s\u001b[0K\u001b[1G167.7 MiB [] 28% 2.2s\u001b[0K\u001b[1G167.7 MiB [] 29% 2.2s\u001b[0K\u001b[1G167.7 MiB [] 30% 2.1s\u001b[0K\u001b[1G167.7 MiB [] 32% 2.0s\u001b[0K\u001b[1G167.7 MiB [] 33% 1.9s\u001b[0K\u001b[1G167.7 MiB [] 34% 1.9s\u001b[0K\u001b[1G167.7 MiB [] 35% 1.8s\u001b[0K\u001b[1G167.7 MiB [] 36% 1.7s\u001b[0K\u001b[1G167.7 MiB [] 37% 1.7s\u001b[0K\u001b[1G167.7 MiB [] 38% 1.7s\u001b[0K\u001b[1G167.7 MiB [] 39% 1.6s\u001b[0K\u001b[1G167.7 MiB [] 40% 1.6s\u001b[0K\u001b[1G167.7 MiB [] 41% 1.6s\u001b[0K\u001b[1G167.7 MiB [] 42% 1.5s\u001b[0K\u001b[1G167.7 MiB [] 43% 1.5s\u001b[0K\u001b[1G167.7 MiB [] 44% 1.4s\u001b[0K\u001b[1G167.7 MiB [] 45% 1.4s\u001b[0K\u001b[1G167.7 MiB [] 46% 1.3s\u001b[0K\u001b[1G167.7 MiB [] 47% 1.3s\u001b[0K\u001b[1G167.7 MiB [] 49% 1.3s\u001b[0K\u001b[1G167.7 MiB [] 50% 1.2s\u001b[0K\u001b[1G167.7 MiB [] 51% 1.2s\u001b[0K\u001b[1G167.7 MiB [] 52% 1.1s\u001b[0K\u001b[1G167.7 MiB [] 53% 1.1s\u001b[0K\u001b[1G167.7 MiB [] 54% 1.1s\u001b[0K\u001b[1G167.7 MiB [] 55% 1.1s\u001b[0K\u001b[1G167.7 MiB [] 55% 1.0s\u001b[0K\u001b[1G167.7 MiB [] 56% 1.0s\u001b[0K\u001b[1G167.7 MiB [] 57% 1.0s\u001b[0K\u001b[1G167.7 MiB [] 58% 1.0s\u001b[0K\u001b[1G167.7 MiB [] 59% 0.9s\u001b[0K\u001b[1G167.7 MiB [] 60% 0.9s\u001b[0K\u001b[1G167.7 MiB [] 61% 0.9s\u001b[0K\u001b[1G167.7 MiB [] 63% 0.8s\u001b[0K\u001b[1G167.7 MiB [] 64% 0.8s\u001b[0K\u001b[1G167.7 MiB [] 65% 0.8s\u001b[0K\u001b[1G167.7 MiB [] 66% 0.7s\u001b[0K\u001b[1G167.7 MiB [] 67% 0.7s\u001b[0K\u001b[1G167.7 MiB [] 68% 0.7s\u001b[0K\u001b[1G167.7 MiB [] 69% 0.7s\u001b[0K\u001b[1G167.7 MiB [] 70% 0.7s\u001b[0K\u001b[1G167.7 MiB [] 71% 0.7s\u001b[0K\u001b[1G167.7 MiB [] 71% 0.6s\u001b[0K\u001b[1G167.7 MiB [] 72% 0.6s\u001b[0K\u001b[1G167.7 MiB [] 73% 0.6s\u001b[0K\u001b[1G167.7 MiB [] 74% 0.6s\u001b[0K\u001b[1G167.7 MiB [] 75% 0.6s\u001b[0K\u001b[1G167.7 MiB [] 76% 0.5s\u001b[0K\u001b[1G167.7 MiB [] 77% 0.5s\u001b[0K\u001b[1G167.7 MiB [] 78% 0.5s\u001b[0K\u001b[1G167.7 MiB [] 79% 0.5s\u001b[0K\u001b[1G167.7 MiB [] 80% 0.4s\u001b[0K\u001b[1G167.7 MiB [] 81% 0.4s\u001b[0K\u001b[1G167.7 MiB [] 82% 0.4s\u001b[0K\u001b[1G167.7 MiB [] 83% 0.4s\u001b[0K\u001b[1G167.7 MiB [] 84% 0.3s\u001b[0K\u001b[1G167.7 MiB [] 85% 0.3s\u001b[0K\u001b[1G167.7 MiB [] 86% 0.3s\u001b[0K\u001b[1G167.7 MiB [] 87% 0.3s\u001b[0K\u001b[1G167.7 MiB [] 88% 0.3s\u001b[0K\u001b[1G167.7 MiB [] 89% 0.2s\u001b[0K\u001b[1G167.7 MiB [] 90% 0.2s\u001b[0K\u001b[1G167.7 MiB [] 91% 0.2s\u001b[0K\u001b[1G167.7 MiB [] 92% 0.2s\u001b[0K\u001b[1G167.7 MiB [] 93% 0.1s\u001b[0K\u001b[1G167.7 MiB [] 94% 0.1s\u001b[0K\u001b[1G167.7 MiB [] 95% 0.1s\u001b[0K\u001b[1G167.7 MiB [] 96% 0.1s\u001b[0K\u001b[1G167.7 MiB [] 97% 0.1s\u001b[0K\u001b[1G167.7 MiB [] 98% 0.0s\u001b[0K\u001b[1G167.7 MiB [] 99% 0.0s\u001b[0K\u001b[1G167.7 MiB [] 100% 0.0s\u001b[0K\n",
            "Chromium 136.0.7103.25 (playwright build v1169) downloaded to /root/.cache/ms-playwright/chromium-1169\n",
            "Downloading FFMPEG playwright build v1011\u001b[2m from https://cdn.playwright.dev/dbazure/download/playwright/builds/ffmpeg/1011/ffmpeg-linux.zip\u001b[22m\n",
            "\u001b[1G2.3 MiB [] 0% 0.0s\u001b[0K\u001b[1G2.3 MiB [] 3% 0.5s\u001b[0K\u001b[1G2.3 MiB [] 7% 0.4s\u001b[0K\u001b[1G2.3 MiB [] 14% 0.3s\u001b[0K\u001b[1G2.3 MiB [] 35% 0.1s\u001b[0K\u001b[1G2.3 MiB [] 85% 0.0s\u001b[0K\u001b[1G2.3 MiB [] 100% 0.0s\u001b[0K\n",
            "FFMPEG playwright build v1011 downloaded to /root/.cache/ms-playwright/ffmpeg-1011\n",
            "Downloading Chromium Headless Shell 136.0.7103.25 (playwright build v1169)\u001b[2m from https://cdn.playwright.dev/dbazure/download/playwright/builds/chromium/1169/chromium-headless-shell-linux.zip\u001b[22m\n",
            "\u001b[1G101.4 MiB [] 0% 0.0s\u001b[0K\u001b[1G101.4 MiB [] 0% 22.9s\u001b[0K\u001b[1G101.4 MiB [] 0% 13.5s\u001b[0K\u001b[1G101.4 MiB [] 0% 7.6s\u001b[0K\u001b[1G101.4 MiB [] 1% 3.7s\u001b[0K\u001b[1G101.4 MiB [] 3% 2.5s\u001b[0K\u001b[1G101.4 MiB [] 4% 2.0s\u001b[0K\u001b[1G101.4 MiB [] 6% 1.8s\u001b[0K\u001b[1G101.4 MiB [] 7% 1.6s\u001b[0K\u001b[1G101.4 MiB [] 9% 1.4s\u001b[0K\u001b[1G101.4 MiB [] 9% 1.5s\u001b[0K\u001b[1G101.4 MiB [] 11% 1.4s\u001b[0K\u001b[1G101.4 MiB [] 12% 1.3s\u001b[0K\u001b[1G101.4 MiB [] 14% 1.2s\u001b[0K\u001b[1G101.4 MiB [] 16% 1.2s\u001b[0K\u001b[1G101.4 MiB [] 17% 1.2s\u001b[0K\u001b[1G101.4 MiB [] 18% 1.1s\u001b[0K\u001b[1G101.4 MiB [] 21% 1.0s\u001b[0K\u001b[1G101.4 MiB [] 22% 1.0s\u001b[0K\u001b[1G101.4 MiB [] 23% 1.0s\u001b[0K\u001b[1G101.4 MiB [] 25% 1.0s\u001b[0K\u001b[1G101.4 MiB [] 27% 0.9s\u001b[0K\u001b[1G101.4 MiB [] 29% 0.9s\u001b[0K\u001b[1G101.4 MiB [] 31% 0.8s\u001b[0K\u001b[1G101.4 MiB [] 34% 0.8s\u001b[0K\u001b[1G101.4 MiB [] 36% 0.7s\u001b[0K\u001b[1G101.4 MiB [] 38% 0.7s\u001b[0K\u001b[1G101.4 MiB [] 40% 0.6s\u001b[0K\u001b[1G101.4 MiB [] 42% 0.6s\u001b[0K\u001b[1G101.4 MiB [] 44% 0.6s\u001b[0K\u001b[1G101.4 MiB [] 45% 0.6s\u001b[0K\u001b[1G101.4 MiB [] 46% 0.6s\u001b[0K\u001b[1G101.4 MiB [] 49% 0.5s\u001b[0K\u001b[1G101.4 MiB [] 52% 0.5s\u001b[0K\u001b[1G101.4 MiB [] 54% 0.5s\u001b[0K\u001b[1G101.4 MiB [] 55% 0.4s\u001b[0K\u001b[1G101.4 MiB [] 57% 0.4s\u001b[0K\u001b[1G101.4 MiB [] 59% 0.4s\u001b[0K\u001b[1G101.4 MiB [] 61% 0.4s\u001b[0K\u001b[1G101.4 MiB [] 63% 0.4s\u001b[0K\u001b[1G101.4 MiB [] 66% 0.3s\u001b[0K\u001b[1G101.4 MiB [] 69% 0.3s\u001b[0K\u001b[1G101.4 MiB [] 71% 0.3s\u001b[0K\u001b[1G101.4 MiB [] 73% 0.3s\u001b[0K\u001b[1G101.4 MiB [] 74% 0.2s\u001b[0K\u001b[1G101.4 MiB [] 76% 0.2s\u001b[0K\u001b[1G101.4 MiB [] 77% 0.2s\u001b[0K\u001b[1G101.4 MiB [] 79% 0.2s\u001b[0K\u001b[1G101.4 MiB [] 80% 0.2s\u001b[0K\u001b[1G101.4 MiB [] 82% 0.2s\u001b[0K\u001b[1G101.4 MiB [] 83% 0.2s\u001b[0K\u001b[1G101.4 MiB [] 86% 0.1s\u001b[0K\u001b[1G101.4 MiB [] 88% 0.1s\u001b[0K\u001b[1G101.4 MiB [] 91% 0.1s\u001b[0K\u001b[1G101.4 MiB [] 93% 0.1s\u001b[0K\u001b[1G101.4 MiB [] 96% 0.0s\u001b[0K\u001b[1G101.4 MiB [] 98% 0.0s\u001b[0K\u001b[1G101.4 MiB [] 100% 0.0s\u001b[0K\n",
            "Chromium Headless Shell 136.0.7103.25 (playwright build v1169) downloaded to /root/.cache/ms-playwright/chromium_headless_shell-1169\n",
            "\u001b[32m[COMPLETE] ● Playwright installation completed successfully.\u001b[0m\n",
            "\u001b[36m[INIT].... → Starting database initialization...\u001b[0m\n",
            "\u001b[36m[COMPLETE] ● Database backup created at: /root/.crawl4ai/crawl4ai.db.backup_20250512_052245\u001b[0m\n",
            "\u001b[36m[INIT].... → Starting database migration...\u001b[0m\n",
            "\u001b[32m[COMPLETE] ● Migration completed. 0 records processed.\u001b[0m\n",
            "\u001b[32m[COMPLETE] ● Database initialization completed successfully.\u001b[0m\n",
            "\u001b[32m[COMPLETE] ● Post-installation setup completed!\u001b[0m\n",
            "\u001b[0m"
          ]
        }
      ]
    },
    {
      "cell_type": "code",
      "source": [
        "!crawl4ai-doctor"
      ],
      "metadata": {
        "colab": {
          "base_uri": "https://localhost:8080/"
        },
        "id": "sZGaq1BC9EVs",
        "outputId": "66d56c59-df80-4569-89e2-81297da2cb3c"
      },
      "execution_count": 6,
      "outputs": [
        {
          "output_type": "stream",
          "name": "stdout",
          "text": [
            "[INIT].... → Running Crawl4AI health check...\n",
            "[INIT].... → Crawl4AI 0.6.2\n",
            "[TEST].... ℹ Testing crawling capabilities...\n",
            "[EXPORT].. ℹ Exporting media (PDF/MHTML/screenshot) took 2.48s\n",
            "[FETCH]... ↓ https://crawl4ai.com                                                                                 | ✓ | ⏱: 5.07s\n",
            "[SCRAPE].. ◆ https://crawl4ai.com                                                                                 | ✓ | ⏱: 0.13s\n",
            "[COMPLETE] ● https://crawl4ai.com                                                                                 | ✓ | ⏱: 5.20s\n",
            "[COMPLETE] ● ✅ Crawling test passed!\n"
          ]
        }
      ]
    },
    {
      "cell_type": "markdown",
      "source": [],
      "metadata": {
        "id": "5VwaOUDfHcUs"
      }
    },
    {
      "cell_type": "code",
      "source": [
        "import asyncio\n",
        "from playwright.async_api import async_playwright\n",
        "\n",
        "async def test_browser():\n",
        "    async with async_playwright() as p:\n",
        "        browser = await p.chromium.launch(headless=True)\n",
        "        page = await browser.new_page()\n",
        "        await page.goto('https://nzz.ch')\n",
        "        print(f'Title: {await page.title()}')\n",
        "        await browser.close()\n",
        "\n",
        "await test_browser()"
      ],
      "metadata": {
        "colab": {
          "base_uri": "https://localhost:8080/"
        },
        "id": "UBG6S0648ibj",
        "outputId": "d2ec9ae2-621f-41c7-a984-48a27f23715a"
      },
      "execution_count": 10,
      "outputs": [
        {
          "output_type": "stream",
          "name": "stdout",
          "text": [
            "Title: NZZ – Neue Zürcher Zeitung | Aktuelle News, Hintergründe & mehr\n"
          ]
        }
      ]
    },
    {
      "cell_type": "code",
      "source": [
        "# prompt: RuntimeError: asyncio.run() cannot be called from a running event loop\n",
        "\n",
        "import asyncio\n",
        "from playwright.async_api import async_playwright\n",
        "\n",
        "async def test_browser():\n",
        "    async with async_playwright() as p:\n",
        "        browser = await p.chromium.launch(headless=True)\n",
        "        page = await browser.new_page()\n",
        "        await page.goto('https://example.com')\n",
        "        print(f'Title: {await page.title()}')\n",
        "        await browser.close()\n",
        "\n",
        "await test_browser()\n"
      ],
      "metadata": {
        "colab": {
          "base_uri": "https://localhost:8080/"
        },
        "id": "kKkdUKDC9PMK",
        "outputId": "60f2a93b-1933-42ac-961d-1bd5186e4624"
      },
      "execution_count": 8,
      "outputs": [
        {
          "output_type": "stream",
          "name": "stdout",
          "text": [
            "Title: Example Domain\n"
          ]
        }
      ]
    }
  ]
}