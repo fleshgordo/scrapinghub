{
 "cells": [
  {
   "cell_type": "markdown",
   "metadata": {
    "colab_type": "text",
    "id": "view-in-github"
   },
   "source": [
    "<a href=\"https://colab.research.google.com/github/fleshgordo/cocreate22/blob/main/001_python_first_steps_EN.ipynb\" target=\"_parent\"><img src=\"https://colab.research.google.com/assets/colab-badge.svg\" alt=\"Open In Colab\"/></a>"
   ]
  },
  {
   "cell_type": "markdown",
   "metadata": {
    "id": "n1OBx-EGRIZL"
   },
   "source": [
    "# First steps in Python\n",
    "\n",
    "Python is an easy-to-learn but powerful programming language. Python is an interpreted language, which saves a lot of time in programme development because compiling and linking are not necessary. The interpreter can be used interactively like this notebook.\n",
    "\n",
    "The boxes below contain Python code. You can click on the box, change the content and then simply start the programme with the play button, or with Shift-Enter (Apple-Enter) and let it execute. Try adding two numbers and see what happens. You can change the numbers directly in the input window.\n",
    "\n"
   ]
  },
  {
   "cell_type": "code",
   "execution_count": null,
   "metadata": {
    "colab": {
     "base_uri": "https://localhost:8080/"
    },
    "id": "t74FtVvkRIZN",
    "outputId": "661c61d3-d458-4de6-dab4-57979465ed73"
   },
   "outputs": [
    {
     "data": {
      "text/plain": [
       "12"
      ]
     },
     "execution_count": 6,
     "metadata": {},
     "output_type": "execute_result"
    }
   ],
   "source": [
    "11+1"
   ]
  },
  {
   "cell_type": "markdown",
   "metadata": {
    "id": "eCliD3X7RIZS"
   },
   "source": [
    "Try another mathematical operation, e.g. * - / . What results in 5/2? "
   ]
  },
  {
   "cell_type": "code",
   "execution_count": null,
   "metadata": {
    "colab": {
     "base_uri": "https://localhost:8080/"
    },
    "id": "7Iq0Nt4IRIZS",
    "outputId": "37c8c8b1-1997-4ce6-b5b3-ace5d354df36"
   },
   "outputs": [
    {
     "data": {
      "text/plain": [
       "0.5"
      ]
     },
     "execution_count": 7,
     "metadata": {},
     "output_type": "execute_result"
    }
   ],
   "source": [
    "5/10\n"
   ]
  },
  {
   "cell_type": "markdown",
   "metadata": {
    "id": "T_x8i5fORIZT"
   },
   "source": [
    "Python can easily be used as a calculator:"
   ]
  },
  {
   "cell_type": "code",
   "execution_count": null,
   "metadata": {
    "colab": {
     "base_uri": "https://localhost:8080/"
    },
    "id": "FHGOpXkCRIZV",
    "outputId": "c2ec0808-fa11-412e-b097-d9ddd4da6ad3"
   },
   "outputs": [
    {
     "data": {
      "text/plain": [
       "13.333333333333334"
      ]
     },
     "execution_count": 8,
     "metadata": {},
     "output_type": "execute_result"
    }
   ],
   "source": [
    "(50-10) / (2 + 1)"
   ]
  },
  {
   "cell_type": "markdown",
   "metadata": {
    "id": "_vcPQnW4RIZW"
   },
   "source": [
    "### Strings versus numbers"
   ]
  },
  {
   "cell_type": "markdown",
   "metadata": {
    "id": "q0b5r0y_Qvcc"
   },
   "source": [
    "If you use quote-signs \"\", Python does not interpret the number as a number but suddenly as text (in English, this is a string):"
   ]
  },
  {
   "cell_type": "code",
   "execution_count": null,
   "metadata": {
    "colab": {
     "base_uri": "https://localhost:8080/",
     "height": 35
    },
    "id": "aaTWTS00RIZY",
    "outputId": "e99ef2d7-5435-4ea8-fe62-96000dffb022"
   },
   "outputs": [
    {
     "data": {
      "application/vnd.google.colaboratory.intrinsic+json": {
       "type": "string"
      },
      "text/plain": [
       "'21'"
      ]
     },
     "execution_count": 9,
     "metadata": {},
     "output_type": "execute_result"
    }
   ],
   "source": [
    "\"2\" + \"1\""
   ]
  },
  {
   "cell_type": "markdown",
   "metadata": {
    "id": "Cin0bG2hRIZZ"
   },
   "source": [
    "Try to concatenate two words. This is called \"concatenating\" or \"to concatenate\" in English (hello world)."
   ]
  },
  {
   "cell_type": "code",
   "execution_count": null,
   "metadata": {
    "collapsed": true,
    "id": "ROjyGv6zRIZa"
   },
   "outputs": [],
   "source": []
  },
  {
   "cell_type": "markdown",
   "metadata": {
    "id": "GfRv0676RIZb"
   },
   "source": [
    "What's the result of 2 + \"2\""
   ]
  },
  {
   "cell_type": "code",
   "execution_count": null,
   "metadata": {
    "colab": {
     "base_uri": "https://localhost:8080/"
    },
    "id": "g_rb4lclRIZb",
    "outputId": "205d5447-6981-49e6-cb7e-d30c15e30c6b"
   },
   "outputs": [
    {
     "data": {
      "text/plain": [
       "4"
      ]
     },
     "execution_count": 10,
     "metadata": {},
     "output_type": "execute_result"
    }
   ],
   "source": [
    "str(3) + \"1\"\n",
    "int(\"2\") + 2"
   ]
  },
  {
   "cell_type": "markdown",
   "metadata": {
    "id": "-rxBNxTrRIZc"
   },
   "source": [
    "### Variables\n",
    "\n",
    "A variable in the broadest sense is simply a container for holding certain values, e.g. strings or numbers. In the course of the programme, one can access these variables, or more precisely the value of their content, or assign a new value to them."
   ]
  },
  {
   "cell_type": "code",
   "execution_count": null,
   "metadata": {
    "colab": {
     "base_uri": "https://localhost:8080/"
    },
    "id": "UygEv-lTRIZc",
    "outputId": "aeb156e8-88e2-4d67-dd56-614b70097498"
   },
   "outputs": [
    {
     "name": "stdout",
     "output_type": "stream",
     "text": [
      "Yes we can!\n"
     ]
    }
   ],
   "source": [
    "meineVariable = \"Yes\"\n",
    "nochEineVariable = \"we can!\"\n",
    "print (meineVariable + \" \" + nochEineVariable)"
   ]
  },
  {
   "cell_type": "code",
   "execution_count": null,
   "metadata": {
    "colab": {
     "base_uri": "https://localhost:8080/"
    },
    "id": "8WoN4bSORIZd",
    "outputId": "4f11c476-ba24-49ac-8e2e-5f25f62971fe"
   },
   "outputs": [
    {
     "name": "stdout",
     "output_type": "stream",
     "text": [
      "hello world!\n"
     ]
    }
   ],
   "source": [
    "print(\"hello world!\")\n"
   ]
  },
  {
   "cell_type": "code",
   "execution_count": null,
   "metadata": {
    "collapsed": true,
    "id": "eSYocqVqRIZd"
   },
   "outputs": [],
   "source": []
  },
  {
   "cell_type": "markdown",
   "metadata": {
    "id": "pJxdT-KWRIZe"
   },
   "source": [
    "But it's about to get a little more mathematical. The variable name is freely selectable, but there are a few words that you are not allowed to use (e.g. python-specific commands like print). Try the addition again and try to change the value of the variable: "
   ]
  },
  {
   "cell_type": "code",
   "execution_count": 4,
   "metadata": {
    "colab": {
     "base_uri": "https://localhost:8080/"
    },
    "id": "WhiGqjPcRIZe",
    "outputId": "e8729fa4-8566-4120-e0c4-5cf5c6280c2c"
   },
   "outputs": [
    {
     "data": {
      "text/plain": [
       "2.5"
      ]
     },
     "execution_count": 4,
     "metadata": {},
     "output_type": "execute_result"
    }
   ],
   "source": [
    "nummer1 = 5\n",
    "nummer2 = 2\n",
    "nummer1 * nummer2\n",
    "nummer1 + nummer2\n",
    "nummer1 - nummer2\n",
    "nummer1 / nummer2"
   ]
  },
  {
   "cell_type": "markdown",
   "metadata": {
    "id": "sdSHkEMDRIZf"
   },
   "source": [
    "Actually, we would expect the command line to spit out 4 values, right? You can use the \"print\" statement to print values in the terminal since the notebook terminal only prints the last command that outputs."
   ]
  },
  {
   "cell_type": "code",
   "execution_count": null,
   "metadata": {
    "colab": {
     "base_uri": "https://localhost:8080/"
    },
    "id": "7_FGTjq_RIZf",
    "outputId": "1d3957f7-e43e-403f-dffb-f8f22d02ae21"
   },
   "outputs": [
    {
     "name": "stdout",
     "output_type": "stream",
     "text": [
      "5.5\n"
     ]
    }
   ],
   "source": [
    "nummer1 = 11\n",
    "nummer2 = 2\n",
    "nummer3 = 2\n",
    "# ALT 3 print nummer3 * nummer2\n",
    "#print nummer1 + nummer2\n",
    "#print nummer1 - nummer2\n",
    "# lajdfljasdlfjasdjlf\n",
    "# schautaljdfljasdlkfjlasdjflasdjf\n",
    "\"\"\"\n",
    "yolo\n",
    "ascii art plz\n",
    "\"\"\"\n",
    "print(nummer1 / nummer2)"
   ]
  },
  {
   "cell_type": "markdown",
   "metadata": {
    "id": "zll2fSj7RIZg"
   },
   "source": [
    "Now we try to \"assign\" the value 42 to the variable i, i.e. the content of i is 42 after the assignment. You can also change this value of the variable afterwards, as you can see in the following example: "
   ]
  },
  {
   "cell_type": "code",
   "execution_count": null,
   "metadata": {
    "colab": {
     "base_uri": "https://localhost:8080/"
    },
    "id": "yLSKIQflRIZg",
    "outputId": "2ab2c2ba-1361-4b70-ebb0-145b6cf53c15"
   },
   "outputs": [
    {
     "name": "stdout",
     "output_type": "stream",
     "text": [
      "42\n",
      "43\n",
      "43\n"
     ]
    }
   ],
   "source": [
    "i = 42\n",
    "print(i)\n",
    "i = i + 1\n",
    "print(i)\n",
    "i = 43\n",
    "print(i)"
   ]
  },
  {
   "cell_type": "markdown",
   "metadata": {
    "id": "WmN7q23PRIZh"
   },
   "source": [
    "You can make a mistake once in a while. The syntax must always be exact, for example Upper/lower case characters, a typing error such as Print instead of print immediately throws up an error:"
   ]
  },
  {
   "cell_type": "code",
   "execution_count": null,
   "metadata": {
    "colab": {
     "base_uri": "https://localhost:8080/"
    },
    "id": "x4fv90ykRIZh",
    "outputId": "683c9a26-7e8e-410f-d5ec-5b1ae310c1fc"
   },
   "outputs": [
    {
     "name": "stdout",
     "output_type": "stream",
     "text": [
      "43\n"
     ]
    }
   ],
   "source": [
    "Print i\n",
    "#print(i)"
   ]
  },
  {
   "cell_type": "markdown",
   "metadata": {
    "id": "hU7cu_enRIZh"
   },
   "source": [
    "You get a syntax error. The first line of the error message immediately tells you where the error is. Because our programme has only one line, it is \"line 1\". You can also see that the word print is no longer green, as it was before!"
   ]
  },
  {
   "cell_type": "markdown",
   "metadata": {
    "id": "mQhOyz64RIZi"
   },
   "source": [
    "How much is i divided by 5? Write it yourself in the terminal below. Shift+Enter will execute the code. Try it out:"
   ]
  },
  {
   "cell_type": "code",
   "execution_count": null,
   "metadata": {
    "colab": {
     "base_uri": "https://localhost:8080/"
    },
    "id": "5_1sfdNfRIZi",
    "outputId": "7572e33a-8856-4cb4-d56f-c4b994c0ec30"
   },
   "outputs": [
    {
     "data": {
      "text/plain": [
       "8.6"
      ]
     },
     "execution_count": 17,
     "metadata": {},
     "output_type": "execute_result"
    }
   ],
   "source": [
    "43 / 5\n"
   ]
  },
  {
   "cell_type": "markdown",
   "metadata": {
    "id": "XO5p9oD3RIZi"
   },
   "source": [
    "43 / 5 should not result in 8, but 8.6. However, Python interprets the numbers as integers and also outputs them as integers. But if you add a dot to the number, Python suddenly understands the whole thing as a floating point number:\n"
   ]
  },
  {
   "cell_type": "code",
   "execution_count": null,
   "metadata": {
    "colab": {
     "base_uri": "https://localhost:8080/"
    },
    "id": "-MPQqezcRIZi",
    "outputId": "c9aa8eb7-472b-4aa8-bdee-081a909467ce"
   },
   "outputs": [
    {
     "data": {
      "text/plain": [
       "8.6"
      ]
     },
     "execution_count": 18,
     "metadata": {},
     "output_type": "execute_result"
    }
   ],
   "source": [
    "43 / 5."
   ]
  },
  {
   "cell_type": "markdown",
   "metadata": {
    "id": "5Dpbm62ERIZi"
   },
   "source": [
    "Floating point numbers are called float in English. Integers as integer!\n",
    "\n",
    "##### Comments\n",
    "\n",
    "With the hash character # you can write comments in the source code, which the Python interpreter does not interpret as code, but only as a comment/annotation. "
   ]
  },
  {
   "cell_type": "code",
   "execution_count": 7,
   "metadata": {
    "colab": {
     "base_uri": "https://localhost:8080/",
     "height": 53
    },
    "id": "dVRB7eKURIZj",
    "outputId": "1744142d-353f-4b5f-cb3d-0ca908ca2fd7"
   },
   "outputs": [
    {
     "name": "stdout",
     "output_type": "stream",
     "text": [
      "wow, bit slower plz\n"
     ]
    },
    {
     "data": {
      "application/vnd.google.colaboratory.intrinsic+json": {
       "type": "string"
      },
      "text/plain": [
       "'\\ncomments \\nover \\nmultiple\\nlines\\n'"
      ]
     },
     "execution_count": 7,
     "metadata": {},
     "output_type": "execute_result"
    }
   ],
   "source": [
    "# Das ist ein Kommentar\n",
    "print(\"wow, bit slower plz\")\n",
    "# WTF is this code? Are you 'brogramming'?\n",
    "\n",
    "\"\"\"\n",
    "comments \n",
    "over \n",
    "multiple\n",
    "lines\n",
    "\"\"\""
   ]
  },
  {
   "cell_type": "markdown",
   "metadata": {
    "id": "YDXBACToRIZj"
   },
   "source": [
    "##### Random numbers\n",
    "\n",
    "Now, let's get to know our first function. Functions are something like little sub-programmes that can give us a certain value. \n",
    "\n",
    "The function randint(m, n) returns a randomly selected number from the number range {m, m+1, ..., n}. A call randint(1, 6) thus returns a natural number between 1 and 6."
   ]
  },
  {
   "cell_type": "code",
   "execution_count": 8,
   "metadata": {
    "colab": {
     "base_uri": "https://localhost:8080/",
     "height": 171
    },
    "id": "0NUoqiWTRIZj",
    "outputId": "08ed2d63-8feb-4306-b9b7-746388b35d23"
   },
   "outputs": [
    {
     "ename": "NameError",
     "evalue": "ignored",
     "output_type": "error",
     "traceback": [
      "\u001b[0;31m---------------------------------------------------------------------------\u001b[0m",
      "\u001b[0;31mNameError\u001b[0m                                 Traceback (most recent call last)",
      "\u001b[0;32m<ipython-input-8-db9205f7976d>\u001b[0m in \u001b[0;36m<module>\u001b[0;34m\u001b[0m\n\u001b[0;32m----> 1\u001b[0;31m \u001b[0mrandint\u001b[0m\u001b[0;34m(\u001b[0m\u001b[0;36m1\u001b[0m\u001b[0;34m,\u001b[0m\u001b[0;36m6\u001b[0m\u001b[0;34m)\u001b[0m\u001b[0;34m\u001b[0m\u001b[0;34m\u001b[0m\u001b[0m\n\u001b[0m",
      "\u001b[0;31mNameError\u001b[0m: name 'randint' is not defined"
     ]
    }
   ],
   "source": [
    "randint(1,6)"
   ]
  },
  {
   "cell_type": "markdown",
   "metadata": {
    "id": "HSJ4YEQpRIZk"
   },
   "source": [
    "But we get an error message that 'randint' is not defined. What does this mean? Python is very modular. The random function is an extra module and must first be imported:"
   ]
  },
  {
   "cell_type": "code",
   "execution_count": 23,
   "metadata": {
    "collapsed": true,
    "id": "vftRtXmRRIZk"
   },
   "outputs": [],
   "source": [
    "from random import randint"
   ]
  },
  {
   "cell_type": "markdown",
   "metadata": {
    "id": "9_m08ksTRIZk"
   },
   "source": [
    "If you Shift-Enter the block above, nothing happens at first. But the random module has now been automatically loaded into our notebook and we can now try again whether the randint function works:"
   ]
  },
  {
   "cell_type": "code",
   "execution_count": null,
   "metadata": {
    "id": "1xp7LW6SXrrc"
   },
   "outputs": [],
   "source": [
    "import this # for more eastereggs look here https://xkcd.com/353/"
   ]
  },
  {
   "cell_type": "code",
   "execution_count": null,
   "metadata": {
    "id": "MN5t08rdRIZk"
   },
   "outputs": [],
   "source": [
    "randint(0,4)"
   ]
  },
  {
   "cell_type": "markdown",
   "metadata": {
    "id": "Z1CfbZpRRIZk"
   },
   "source": [
    "Try it more often. The output should change with each call! Now try to save the output of randint in a variable and output it later. If this works, try to add some text, e.g. \"Your lucky number today is: \" Use the randint function and 2x the print statement:"
   ]
  },
  {
   "cell_type": "code",
   "execution_count": null,
   "metadata": {
    "id": "zwZD42n2RIZl"
   },
   "outputs": [],
   "source": []
  },
  {
   "cell_type": "markdown",
   "metadata": {
    "id": "IktiBNFERIZl"
   },
   "source": [
    "### Conditional statements\n",
    "\n",
    "At some points in your code , you want to detect or distinguis certain stages/conditions. So far, we have been able to write programmes in which one instruction follows another and they are also executed in this order. In a programming language, a conditional statement, as branching is also called, means parts of code that are executed under certain conditions. If the condition is not present, this code is not executed. In other words, a branch determines which of two (or more) programme parts (alternatives) will be executed depending on one (or more) conditions. Normally it looks like this in Python:\n",
    "\n",
    "```\n",
    "if condition1:\n",
    "    instructions1\n",
    "\n",
    "```\n",
    "\n"
   ]
  },
  {
   "cell_type": "code",
   "execution_count": 8,
   "metadata": {
    "collapsed": true,
    "id": "K67lgpjwRIZl"
   },
   "outputs": [],
   "source": []
  },
  {
   "cell_type": "markdown",
   "metadata": {
    "id": "tAG8MFHQRIZl"
   },
   "source": [
    "You see the second line is indented. The tabulator key is used to make the indentation. How do these instructions work? With the condition, you check whether a state is \"true\" or \"false\"."
   ]
  },
  {
   "cell_type": "code",
   "execution_count": 16,
   "metadata": {
    "colab": {
     "base_uri": "https://localhost:8080/"
    },
    "id": "NjbgEFicRIZl",
    "outputId": "433d838f-e533-4956-9e1e-a9fde637a936"
   },
   "outputs": [
    {
     "name": "stdout",
     "output_type": "stream",
     "text": [
      "that's true\n",
      "wait what???\n",
      "--------------\n"
     ]
    }
   ],
   "source": [
    "nummer1 = 3\n",
    "nummer2 = 5\n",
    "if nummer1 == nummer2:\n",
    "    print(\"true!!!!\")\n",
    "else:\n",
    "    print(\"that's true\")\n",
    "    print(\"wait what???\")\n",
    "    print(\"--------------\")"
   ]
  },
  {
   "cell_type": "markdown",
   "metadata": {
    "id": "t-pYz_NMRIZm"
   },
   "source": [
    "Now try changing the numbers. Suddenly the output disappears because the condition no longer applies. Here you use two == characters to compare the two values. The counterpart to the *if* is the *else*, with which you can catch everything that does not apply:\n"
   ]
  },
  {
   "cell_type": "code",
   "execution_count": 10,
   "metadata": {
    "colab": {
     "base_uri": "https://localhost:8080/"
    },
    "id": "-lXQtVsqRIZm",
    "outputId": "bc5cad79-a772-49f9-c282-a8fff1ab3607"
   },
   "outputs": [
    {
     "name": "stdout",
     "output_type": "stream",
     "text": [
      "das ist wahr\n"
     ]
    }
   ],
   "source": [
    "nummer1 = 3\n",
    "nummer2 = 5\n",
    "if nummer1 != nummer2:\n",
    "    print(\"that's true\")\n",
    "else:\n",
    "    print(\"fake news\")"
   ]
  },
  {
   "cell_type": "markdown",
   "metadata": {
    "id": "qpxf-rbxRIZn"
   },
   "source": [
    "The output should be fake news. Now try to output \"that's true\". What do you have to change?"
   ]
  },
  {
   "cell_type": "markdown",
   "metadata": {
    "id": "WI78c_DhRIZn"
   },
   "source": [
    "But you can also check if the value exceeds a certain limit with the less and greater sign < >: try to swap the > with the <. Does the output change?"
   ]
  },
  {
   "cell_type": "code",
   "execution_count": 17,
   "metadata": {
    "colab": {
     "base_uri": "https://localhost:8080/"
    },
    "id": "Lj9rsitgRIZn",
    "outputId": "3ce28079-cfcb-49aa-b349-a4242fe503c0"
   },
   "outputs": [
    {
     "name": "stdout",
     "output_type": "stream",
     "text": [
      "number 1 is bigger than number 2\n"
     ]
    }
   ],
   "source": [
    "nummer1 = 5\n",
    "nummer2 = 3\n",
    "if nummer1 > nummer2:\n",
    "    print(\"number 1 is bigger than number 2\")\n",
    "else:\n",
    "    print(\"## number 2 is bigger than number 1\")"
   ]
  },
  {
   "cell_type": "markdown",
   "metadata": {
    "id": "qd2Lw0xSRIZo"
   },
   "source": [
    "A problem that occurs relatively often is when you want to link two different types of data (e.g. a number and a text). See for yourself:"
   ]
  },
  {
   "cell_type": "code",
   "execution_count": null,
   "metadata": {
    "id": "zSXTys5zRIZo"
   },
   "outputs": [],
   "source": [
    "\"Your lucky number is: \" + 2 + \" soooo lucky\"\n"
   ]
  },
  {
   "cell_type": "markdown",
   "metadata": {
    "id": "SrGXQ5M0RIZo"
   },
   "source": [
    "We get the error message \"TypeError: cannot concatenate 'str' and 'int' objects\". This means: Python cannot concatenate a number with a text. But you can automatically convert the number (the int object) into a text. To do this, use the str() function. "
   ]
  },
  {
   "cell_type": "code",
   "execution_count": 13,
   "metadata": {
    "colab": {
     "base_uri": "https://localhost:8080/",
     "height": 35
    },
    "id": "OtCdMUlgRIZo",
    "outputId": "861e8259-689c-4be2-9280-e75fae2e0c3e"
   },
   "outputs": [
    {
     "data": {
      "application/vnd.google.colaboratory.intrinsic+json": {
       "type": "string"
      },
      "text/plain": [
       "'3'"
      ]
     },
     "execution_count": 13,
     "metadata": {},
     "output_type": "execute_result"
    }
   ],
   "source": [
    "str(3)"
   ]
  },
  {
   "cell_type": "code",
   "execution_count": 21,
   "metadata": {
    "colab": {
     "base_uri": "https://localhost:8080/",
     "height": 35
    },
    "id": "rjAHnxdRRIZp",
    "outputId": "b39cc7f7-3cbc-4e16-b68c-04612a286438"
   },
   "outputs": [
    {
     "data": {
      "application/vnd.google.colaboratory.intrinsic+json": {
       "type": "string"
      },
      "text/plain": [
       "'Your lucky number is: 4'"
      ]
     },
     "execution_count": 21,
     "metadata": {},
     "output_type": "execute_result"
    }
   ],
   "source": [
    "\"Your lucky number is: \" + str(4)"
   ]
  },
  {
   "cell_type": "markdown",
   "metadata": {
    "id": "tRaGZoQWRIZp"
   },
   "source": [
    "Now try to link this text \"The random number is: \" with the random function. A new number should appear each time the function is executed."
   ]
  },
  {
   "cell_type": "code",
   "execution_count": 14,
   "metadata": {
    "collapsed": true,
    "id": "VAUL9EjvRIZp"
   },
   "outputs": [],
   "source": []
  },
  {
   "cell_type": "markdown",
   "metadata": {
    "id": "PkAaUHmHRIZp"
   },
   "source": [
    "Besides if and else, there is also elif to write conditional statements. "
   ]
  },
  {
   "cell_type": "code",
   "execution_count": 26,
   "metadata": {
    "colab": {
     "base_uri": "https://localhost:8080/"
    },
    "id": "d8-J0s6yRIZp",
    "outputId": "49f08ced-87df-4eff-f0c3-ecd9cfef7ad1"
   },
   "outputs": [
    {
     "name": "stdout",
     "output_type": "stream",
     "text": [
      "7\n",
      "number is between 5 and 10\n"
     ]
    }
   ],
   "source": [
    "nummer = randint(1,11)\n",
    "print(nummer)\n",
    "#nummer = 2\n",
    "if nummer == 1:\n",
    "    print(\"number is 1\")\n",
    "elif nummer == 2:\n",
    "    print(\"number is 2\")\n",
    "elif nummer == 3:\n",
    "    print(\"number is 3\")\n",
    "elif nummer == 4:\n",
    "    print(\"number is 4\")\n",
    "elif 4 < nummer < 11:\n",
    "    print(\"number is between 5 and 10\")\n",
    "else:\n",
    "    print(\"none of the above\")"
   ]
  },
  {
   "cell_type": "markdown",
   "metadata": {
    "id": "sT6y4uxvRIZq"
   },
   "source": [
    "Use these elements to build a random dice between 1 and 6. Draw the logic of the programme on a piece of paper.  Write the code in the code block below: "
   ]
  },
  {
   "cell_type": "code",
   "execution_count": null,
   "metadata": {
    "collapsed": true,
    "id": "wuJG_xQkRIZq"
   },
   "outputs": [],
   "source": []
  },
  {
   "cell_type": "markdown",
   "metadata": {
    "id": "mvlZM5ooRIZq"
   },
   "source": [
    "### Loops\n",
    "\n",
    "What are loops? You can make the computer do repetitive things quite easily with loops. Loops, are needed to repeatedly execute a block of code, also called a loop body. In Python, there are two types of loops: the while loop and the for loop."
   ]
  },
  {
   "cell_type": "code",
   "execution_count": 27,
   "metadata": {
    "colab": {
     "base_uri": "https://localhost:8080/"
    },
    "id": "OWkPGK0ORIZq",
    "outputId": "7f4dc961-676c-4122-a6b1-21a5de585ba7"
   },
   "outputs": [
    {
     "name": "stdout",
     "output_type": "stream",
     "text": [
      "1\n",
      "hello world\n",
      "2\n",
      "hello world\n",
      "3\n",
      "hello world\n",
      "4\n",
      "hello world\n"
     ]
    }
   ],
   "source": [
    "a = 0\n",
    "while a < 4:\n",
    "    #a = a + 1\n",
    "    a += 1\n",
    "    print(a)\n",
    "    print(\"hello world\")\n"
   ]
  },
  {
   "cell_type": "code",
   "execution_count": null,
   "metadata": {
    "id": "kJMio2LARIZq"
   },
   "outputs": [],
   "source": [
    "for i in range(35):\n",
    "    print(\"hello\")\n",
    "    print(i)"
   ]
  },
  {
   "cell_type": "markdown",
   "metadata": {
    "id": "HNpfQZuLRIZr"
   },
   "source": [
    "#### Time and delays"
   ]
  },
  {
   "cell_type": "markdown",
   "metadata": {
    "id": "KN7_rSxTRIZr"
   },
   "source": [
    "With the module \"time\" you can add a time component to our Python scripts"
   ]
  },
  {
   "cell_type": "code",
   "execution_count": null,
   "metadata": {
    "colab": {
     "base_uri": "https://localhost:8080/"
    },
    "id": "DXPFEVvURIZr",
    "outputId": "7e33014b-0548-4421-befa-26d7c117f435"
   },
   "outputs": [
    {
     "name": "stdout",
     "output_type": "stream",
     "text": [
      "hello\n",
      "world\n"
     ]
    }
   ],
   "source": [
    "from time import sleep\n",
    "\n",
    "print(\"hello\")\n",
    "sleep(4)\n",
    "print(\"world\")"
   ]
  },
  {
   "cell_type": "markdown",
   "metadata": {
    "id": "xnrw3BS4RIZr"
   },
   "source": [
    "With sleep you can pause the programme for a certain time. This means that the computer pauses for the time specified in the round brackets (1 second). Try changing the value. Does 0.1 work?"
   ]
  },
  {
   "cell_type": "code",
   "execution_count": null,
   "metadata": {
    "id": "DNhYMp0CRIZr"
   },
   "outputs": [],
   "source": [
    "sleep(0.1)\n",
    "print(\"yes\")"
   ]
  },
  {
   "cell_type": "markdown",
   "metadata": {
    "id": "UmM1bF6lRIZr"
   },
   "source": [
    "Let's link this to the for loop to understand in more detail what happens in the loop:"
   ]
  },
  {
   "cell_type": "code",
   "execution_count": null,
   "metadata": {
    "id": "XUfAaCzBRIZs"
   },
   "outputs": [],
   "source": [
    "for i in range(5):\n",
    "    print(i)\n",
    "    sleep(5)"
   ]
  },
  {
   "cell_type": "code",
   "execution_count": null,
   "metadata": {
    "id": "b3qpslXURIZs"
   },
   "outputs": [],
   "source": [
    "from time import sleep\n",
    "counter = 1\n",
    "for i in range(10):\n",
    "    countdown = counter + i\n",
    "    print(countdown)\n",
    "    if countdown == 10:\n",
    "        print(\"BOOOOOOOOOM\")\n",
    "    sleep(0.5)"
   ]
  },
  {
   "cell_type": "markdown",
   "metadata": {
    "id": "yhstrOGyRIZs"
   },
   "source": [
    "How can you build a down-counting counter from this? Try to think it through on a piece of paper. Tip: you have to subtract something!"
   ]
  },
  {
   "cell_type": "code",
   "execution_count": null,
   "metadata": {
    "id": "y6UcOFg0RIZs",
    "scrolled": false
   },
   "outputs": [],
   "source": []
  },
  {
   "cell_type": "markdown",
   "metadata": {
    "id": "6PZ9VpnvRIZs"
   },
   "source": [
    "### Lists\n",
    "\n",
    "A list can be thought of as an array of single elements. You can create lists of any length, either with numbers or with text, or with both. A list of values (elements) is separated by commas and enclosed in square brackets. To define a list"
   ]
  },
  {
   "cell_type": "code",
   "execution_count": 2,
   "metadata": {
    "colab": {
     "base_uri": "https://localhost:8080/"
    },
    "id": "0rK11-4jRIZs",
    "outputId": "223ca8a8-6891-4572-cf87-102fe12df9df"
   },
   "outputs": [
    {
     "name": "stdout",
     "output_type": "stream",
     "text": [
      "['batman', 'saxplayer', 'technoviking', 'nyancat']\n"
     ]
    }
   ],
   "source": [
    "meineListe = [\"batman\",\"saxplayer\",\"technoviking\",\"nyancat\"]\n",
    "print(meineListe)"
   ]
  },
  {
   "cell_type": "markdown",
   "metadata": {
    "id": "eubcnO8vRIZt"
   },
   "source": [
    "Lists are often helpful (we will see this later in web scraping), where a lot of data is usually stored via lists. To read the individual texts from the list, you can write:"
   ]
  },
  {
   "cell_type": "code",
   "execution_count": 3,
   "metadata": {
    "colab": {
     "base_uri": "https://localhost:8080/"
    },
    "id": "FoGYjsugRIZt",
    "outputId": "749582fb-992f-45c3-dce4-91d7a3fb2ff3"
   },
   "outputs": [
    {
     "name": "stdout",
     "output_type": "stream",
     "text": [
      "batman is so boring\n",
      "saxplayer is so boring\n"
     ]
    }
   ],
   "source": [
    "print(meineListe[0] + \" is so boring\")\n",
    "print(meineListe[1] + \" is so boring\")"
   ]
  },
  {
   "cell_type": "markdown",
   "metadata": {
    "id": "BMLNEM_9RIZt"
   },
   "source": [
    "Try printing all four list elements:"
   ]
  },
  {
   "cell_type": "code",
   "execution_count": null,
   "metadata": {
    "collapsed": true,
    "id": "ZcLsZl3URIZt"
   },
   "outputs": [],
   "source": []
  },
  {
   "cell_type": "markdown",
   "metadata": {
    "id": "DMEnMhi1RIZv"
   },
   "source": [
    "The practical thing is that you can use loops together with lists."
   ]
  },
  {
   "cell_type": "code",
   "execution_count": null,
   "metadata": {
    "id": "nS_qtCQMRIZv"
   },
   "outputs": [],
   "source": [
    "for element in meineListe:\n",
    "    print(element + \" is so boring\")"
   ]
  },
  {
   "cell_type": "markdown",
   "metadata": {
    "id": "sykulWTrRIZv"
   },
   "source": [
    "If I change the length of the list, I can use the same for loop to output them all:"
   ]
  },
  {
   "cell_type": "code",
   "execution_count": null,
   "metadata": {
    "id": "PZLX4_GkRIZw"
   },
   "outputs": [],
   "source": [
    "meineListe = [\"batman\",\"saxplayer\",\"technoviking\",\"nyancat\",\"tronkid\",\"trollface\",\"Rick Ross\"]\n",
    "for element in meineListe:\n",
    "    print(element)"
   ]
  },
  {
   "cell_type": "markdown",
   "metadata": {
    "id": "MRajLJ7JRIZw"
   },
   "source": [
    "We can randomly mix up the order in the list with the shuffle function: "
   ]
  },
  {
   "cell_type": "code",
   "execution_count": 40,
   "metadata": {
    "id": "4JDRcyhzRIZw"
   },
   "outputs": [],
   "source": [
    "import random\n",
    "random.shuffle(meineListe)"
   ]
  },
  {
   "cell_type": "markdown",
   "metadata": {
    "id": "I3CmHMdrRIZw"
   },
   "source": [
    "This does nothing at first, at least it looks like it. But the order has already been changed, so if we now output myList, we see the following:"
   ]
  },
  {
   "cell_type": "code",
   "execution_count": null,
   "metadata": {
    "id": "pxbfxngERIZx"
   },
   "outputs": [],
   "source": [
    "meineListe"
   ]
  },
  {
   "cell_type": "markdown",
   "metadata": {
    "id": "dNQzdCbcRIZx"
   },
   "source": [
    "Now try random.shuffle(mylist) again in the bottom row"
   ]
  },
  {
   "cell_type": "code",
   "execution_count": null,
   "metadata": {
    "collapsed": true,
    "id": "5xDR0WOuRIZx"
   },
   "outputs": [],
   "source": []
  },
  {
   "cell_type": "markdown",
   "metadata": {
    "id": "7Runv0LgRIZx"
   },
   "source": [
    "If you want to output the list as a whole sentence again, you can chain them together with join:"
   ]
  },
  {
   "cell_type": "code",
   "execution_count": null,
   "metadata": {
    "id": "q9inPD34RIZx"
   },
   "outputs": [],
   "source": [
    "from time import sleep\n",
    "newList = [\"in\",\"the\",\"beginning\",\"there\",\"was\",\"the\",\"word\"]\n",
    "\n",
    "\n",
    "for i in range(10):\n",
    "    random.shuffle(newList)\n",
    "    print(\" \".join(newList))\n",
    "    sleep(1)"
   ]
  },
  {
   "cell_type": "markdown",
   "metadata": {
    "collapsed": true,
    "id": "Iqcqz5OxRIZx"
   },
   "source": [
    "Try to pack the whole thing into a file (i.e. copy/paste into a file randomgenerator.py). Which lines do we need? Save the file and call it in the terminal:\n",
    "~~~\n",
    "python randomgenerator.py\n",
    "~~~"
   ]
  },
  {
   "cell_type": "code",
   "execution_count": null,
   "metadata": {
    "collapsed": true,
    "id": "g4J42lRsRIZy"
   },
   "outputs": [],
   "source": []
  }
 ],
 "metadata": {
  "colab": {
   "include_colab_link": true,
   "provenance": []
  },
  "kernelspec": {
   "display_name": "Python 3 (ipykernel)",
   "language": "python",
   "name": "python3"
  },
  "language_info": {
   "codemirror_mode": {
    "name": "ipython",
    "version": 3
   },
   "file_extension": ".py",
   "mimetype": "text/x-python",
   "name": "python",
   "nbconvert_exporter": "python",
   "pygments_lexer": "ipython3",
   "version": "3.7.12"
  }
 },
 "nbformat": 4,
 "nbformat_minor": 1
}
