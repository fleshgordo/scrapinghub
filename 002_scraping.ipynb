{
  "cells": [
    {
      "cell_type": "markdown",
      "metadata": {
        "id": "view-in-github",
        "colab_type": "text"
      },
      "source": [
        "<a href=\"https://colab.research.google.com/github/fleshgordo/scrapinghub/blob/main/002_scraping.ipynb\" target=\"_parent\"><img src=\"https://colab.research.google.com/assets/colab-badge.svg\" alt=\"Open In Colab\"/></a>"
      ]
    },
    {
      "cell_type": "markdown",
      "metadata": {
        "id": "wx0ajS7btaM-"
      },
      "source": [
        "# Scraping data from the web\n",
        "\n",
        "In this exercise we will work with the [xeno-canto](https://xeno-canto.org/) archive of bird recordings.\n",
        "\n",
        "### Requirements\n",
        "\n",
        "- Download and install [Insomnium](https://github.com/ArchGPT/insomnium). It's a tool that helps to quickly test an [API](https://en.wikipedia.org/wiki/API#Web_APIs) on the web.\n",
        "\n",
        "A basic search URL looks like:\n",
        "\n",
        "````\n",
        "https://www.xeno-canto.org/api/2/recordings?\n",
        "\n",
        "````\n",
        "\n",
        "As described in the [API documentation](https://xeno-canto.org/explore/api) you can pass several parameters in order to filter your search. This parameters are added to the end of the URL as shown in the screenshot from Insomnia:\n",
        "\n",
        "![alt text](https://github.com/fleshgordo/cocreate22/raw/main/img/insomnia_query.jpg \"Title\")\n",
        "\n",
        "The URL looks like this:\n",
        "````\n",
        "https://www.xeno-canto.org/api/2/recordings?query=sparrow\n",
        "\n",
        "````\n",
        "\n",
        "The response to this query is in the format of JavaScript Object Notation (JSON). One can observe the number of Recordings ```numRecordings``` (16488 in total) and the number of species ```numSpecies``` (125). Since there are many results the API serves only the first page which means the first 500 results to this query. If you want to access the results from 500-1000 you'll have to add a second parameter ```page=2```. The URL would look like:\n",
        "\n",
        "````\n",
        "https://www.xeno-canto.org/api/2/recordings?query=sparrow&page=2\n",
        "\n",
        "````\n",
        "\n",
        "The entry recordings is a list that contains all recordings related to the search. Within Insomnia you can now look at the structure of the data to get a better understanding of its architecture. You can also filter the response with the filter function on the bottom bar:\n",
        "\n",
        "![alt text](https://github.com/fleshgordo/cocreate22/raw/main/img/insomnia_filter.jpg \"Title\")\n",
        "\n",
        "Only show countries:\n",
        "\n",
        "````\n",
        "$.recordings[*].cnt\n",
        "````\n",
        "\n",
        "Or show just the remarks for the recordings:\n",
        "\n",
        "````\n",
        "$.recordings[*].rmk\n",
        "````\n",
        "\n",
        "Furter query parameters (such as time, geolocation, search terms) are possible. Look for sparrows in Switzerland that have only quality A tag:\n",
        "\n",
        "The URL looks like this:\n",
        "````\n",
        "https://www.xeno-canto.org/api/2/recordings?query=sparrow cnt:Switzerland q:A\n",
        "\n",
        "````\n",
        "\n",
        "Using the filter again we can obtain the links to the spectrogram files of the recordings:\n",
        "\n",
        "````\n",
        "$.recordings[*].sono.full\n",
        "````\n",
        "\n",
        "You can copy the link and open it in a browser.\n",
        "\n",
        "In the next section we will automate our query requests and automatically fetch the files.\n"
      ]
    },
    {
      "cell_type": "markdown",
      "metadata": {
        "id": "vbekotIRQESY"
      },
      "source": [
        "# Scraping data with python"
      ]
    },
    {
      "cell_type": "markdown",
      "metadata": {
        "id": "zdOlK_r7xvvC"
      },
      "source": [
        "### Scrape from xeno-canto\n",
        "\n",
        "We will use a python library called [requests](https://requests.readthedocs.io/en/latest/) with the slogan **HTTP for Humans** to open a URL and to \"imitate\" a browser. First, we make make sure our API URL is correct and gives a response:"
      ]
    },
    {
      "cell_type": "code",
      "execution_count": null,
      "metadata": {
        "id": "YsEONCHdxuwk"
      },
      "outputs": [],
      "source": [
        "#params= \"cnt:'brazil'\"\n",
        "params = \"cnt:switzerland loc:basel\"\n",
        "url=\"https://www.xeno-canto.org/api/2/recordings?query=\"+params\n",
        "print(url)\n"
      ]
    },
    {
      "cell_type": "code",
      "execution_count": null,
      "metadata": {
        "id": "BxTy_B8NtN9t"
      },
      "outputs": [],
      "source": [
        "import requests"
      ]
    },
    {
      "cell_type": "markdown",
      "metadata": {
        "id": "xTs7zU0i8EfI"
      },
      "source": [
        "Next step. __requests__ has a function ```get()```that expects two arguments, i.e. the URL that should be called and the some information on the header. In our case the response is in [JSON](https://en.wikipedia.org/wiki/JSON) format, hence the headers Content-Type needs to declared. The response itself will be stored in a variable called ```resp```"
      ]
    },
    {
      "cell_type": "code",
      "execution_count": null,
      "metadata": {
        "id": "B5WBtDur8DE3"
      },
      "outputs": [],
      "source": [
        "r = requests.get(url, headers={\"Content-Type\":\"json\"})\n",
        "resp = r.json()\n",
        "print(resp)"
      ]
    },
    {
      "cell_type": "markdown",
      "metadata": {
        "id": "sAFyDivN8g_g"
      },
      "source": [
        "### Download remote files\n",
        "For reference, read the introduction into [working with files in Google Colab](https://neptune.ai/blog/google-colab-dealing-with-files )\n",
        "\n",
        "Specific information on working with external data in Colab: [Local Files, Drive, Sheets, and Cloud Storage](https://colab.research.google.com/notebooks/io.ipynb)"
      ]
    },
    {
      "cell_type": "code",
      "execution_count": null,
      "metadata": {
        "id": "bo8FyvIg6bGL"
      },
      "outputs": [],
      "source": [
        "fileurl = resp[\"recordings\"][0][\"sono\"][\"small\"]\n",
        "download = requests.get(\"https:\" + fileurl)\n",
        "file = open(\"sample_data/sample_image.png\", \"wb\")\n",
        "file.write(download.content)\n",
        "file.close()"
      ]
    },
    {
      "cell_type": "markdown",
      "metadata": {
        "id": "ivzmxhygwUom"
      },
      "source": [
        "### NASA images over time\n",
        "\n",
        "With the NASA planetary API you can get satellite images for a specific timeframe. Look at the [documentation](https://api.nasa.gov/) for further parameters. Be sure to provide an API key!"
      ]
    },
    {
      "cell_type": "code",
      "execution_count": null,
      "metadata": {
        "id": "HIFFxI1vy90M"
      },
      "outputs": [],
      "source": [
        "lat = \"47.1227347\"\n",
        "lon = \"8.1855324\"\n",
        "date = \"2020-05-01\"\n",
        "api_key = \"\"\n",
        "dim = \"0.1\"\n",
        "\n",
        "url = f\"https://api.nasa.gov/planetary/earth/imagery?lon={lon}&lat={lat}&date={date}&dim={dim}&api_key={api_key}\"\n",
        "print(url)"
      ]
    },
    {
      "cell_type": "markdown",
      "metadata": {
        "id": "-vXjT2nPzqPO"
      },
      "source": [
        "A new syntax was used to create the string. It's called [literal f-string interpolation](https://www.geeksforgeeks.org/formatted-string-literals-f-strings-python/) and helps to create strings and variables by wrapping a {} around them. This should help making more complicated string concatinations easier to read. See what the resulting url looks like and the string literals should be self-explaining."
      ]
    },
    {
      "cell_type": "markdown",
      "metadata": {
        "id": "8aMs4BBT1A9p"
      },
      "source": [
        "We now create a list of dates for which we are going to create URLs as well:"
      ]
    },
    {
      "cell_type": "code",
      "execution_count": null,
      "metadata": {
        "id": "u68MNVVH2Rbt"
      },
      "outputs": [],
      "source": [
        "dates = [\"2020-05-01\",\"2019-05-01\",\"2018-05-01\",\"2017-05-01\",\"2016-05-01\"]"
      ]
    },
    {
      "cell_type": "markdown",
      "metadata": {
        "id": "2KMk6wg72gXE"
      },
      "source": [
        "Creating a loop for each entry in this list, looks like:"
      ]
    },
    {
      "cell_type": "code",
      "execution_count": null,
      "metadata": {
        "id": "AuXqx1L_2eOg"
      },
      "outputs": [],
      "source": [
        "for date in dates:\n",
        "  print(date)"
      ]
    },
    {
      "cell_type": "markdown",
      "metadata": {
        "id": "OcugT1OZ28Rs"
      },
      "source": [
        "Try to combine the loop with the URL example of the satellite imagery. Your results should look like this:\n",
        "\n",
        "\n",
        "\n",
        "```\n",
        "https://api.nasa.gov/planetary/earth/imagery?lon=8.1855324&lat=47.1227347&date=2020-05-01&dim=0.1&api_key=APIKEY\n",
        "https://api.nasa.gov/planetary/earth/imagery?lon=8.1855324&lat=47.1227347&date=2020-06-01&dim=0.1&api_key=APIKEY\n",
        "https://api.nasa.gov/planetary/earth/imagery?lon=8.1855324&lat=47.1227347&date=2020-07-01&dim=0.1&api_key=APIKEY\n",
        "https://api.nasa.gov/planetary/earth/imagery?lon=8.1855324&lat=47.1227347&date=2020-08-01&dim=0.1&api_key=APIKEY\n",
        "etc...\n",
        "```\n",
        "\n"
      ]
    },
    {
      "cell_type": "code",
      "execution_count": null,
      "metadata": {
        "id": "xXIgX_g9276d"
      },
      "outputs": [],
      "source": [
        "# try it yourself here"
      ]
    },
    {
      "cell_type": "markdown",
      "metadata": {
        "id": "Bv7ZY6ui3ey8"
      },
      "source": [
        "Now, we want to actually save these requests with filename and ideally store the date also in the filename:"
      ]
    },
    {
      "cell_type": "code",
      "execution_count": null,
      "metadata": {
        "id": "pq0Y-wWC8F1t"
      },
      "outputs": [],
      "source": [
        "#@title Show result\n",
        "for date in dates:\n",
        "  # compose file url\n",
        "  url = f\"https://api.nasa.gov/planetary/earth/imagery?lon={lon}&lat={lat}&date={date}&dim={dim}&api_key={api_key}\"\n",
        "  print(f\"downloading from: {url}\") # show filename (optional)\n",
        "  download = requests.get(url) # this will download the image file\n",
        "  file = open(f\"sample_data/{date}-sursee.jpg\", \"wb\") # create a filehandler and give path\n",
        "  file.write(download.content) # write image content to filename\n",
        "  file.close() # close filehandler"
      ]
    },
    {
      "cell_type": "markdown",
      "metadata": {
        "id": "Ji8VG22889Im"
      },
      "source": [
        "### Get satellite images from specific locations\n",
        "\n",
        "We are preparing a `locations.csv` file with a couple of location points (lat,long) seperated with a comma. Make sure you store a locations.csv file in your sample_data directory. Downloading with `wget` directly into the google drive:"
      ]
    },
    {
      "cell_type": "code",
      "execution_count": null,
      "metadata": {
        "id": "iyrR7XQ5-AjA"
      },
      "outputs": [],
      "source": [
        "!wget https://raw.githubusercontent.com/fleshgordo/scrapinghub/main/data/locations.csv -O sample_data/locations.csv"
      ]
    },
    {
      "cell_type": "code",
      "execution_count": null,
      "metadata": {
        "id": "o3ocl-Ro9WOG"
      },
      "outputs": [],
      "source": [
        "with (open(\"sample_data/locations.csv\") as f):\n",
        "  locations = f.readlines()[1:] # skip first line with [1:]\n",
        "\n",
        "date = \"2016-01-01\"\n",
        "for location in locations: # read only first five entries\n",
        "  place = location.strip().split(\",\") # remove newlines and split the csv file into a list with split()\n",
        "  lat = place[2]\n",
        "  lon = place[1]\n",
        "  #print(f\"lat: {place[2]} lon: {place[1]} \")\n",
        "  url = f\"https://api.nasa.gov/planetary/earth/imagery?lon={lon}&lat={lat}&date={date}&dim={dim}&api_key={api_key}\"\n",
        "  print(url)\n",
        "  download = requests.get(url) # this will download the image file\n",
        "  file = open(f\"sample_data/locations-{place[0]}.jpg\", \"wb\") # create a filehandler and give path\n",
        "  file.write(download.content) # write image content to filename\n",
        "  file.close() # close filehandler"
      ]
    },
    {
      "cell_type": "markdown",
      "metadata": {
        "id": "mJspCWE1HEeG"
      },
      "source": [
        "Try to replace the locations.csv file with coordinates that might be interesting for you to spot. Can you combine the dates and the locations into one big batch download?"
      ]
    },
    {
      "cell_type": "code",
      "execution_count": null,
      "metadata": {
        "id": "ItkoYVlcHQJg"
      },
      "outputs": [],
      "source": [
        "# experiment here"
      ]
    },
    {
      "cell_type": "markdown",
      "metadata": {
        "id": "G7BpldHgHRbO"
      },
      "source": [
        "### Fetching satellite images using Google API\n",
        "\n",
        "In order to fetch satellite views directly as images, a Google API key is needed (this limits the amount of free requests). The API key needs to be enabled for map services. A typical request could look like:\n",
        "\n",
        "```\n",
        "https://maps.googleapis.com/maps/api/staticmap?key={key}&center={center}&zoom={zoom}&maptype={maptype}&size={size}\"\n",
        "```\n",
        "\n",
        "The values inside the {} need to be replaced."
      ]
    },
    {
      "cell_type": "code",
      "execution_count": null,
      "metadata": {
        "id": "bFNog4Pfw5Ht"
      },
      "outputs": [],
      "source": [
        "# general params\n",
        "key = \"\" # API key THIS IS NEEDED!!!!\n",
        "zoom = 17\n",
        "maptype = \"satellite\"\n",
        "size = \"600x600\"\n",
        "lat = \"60.1492271\"\n",
        "lon = \"24.9798789\"\n",
        "center = f\"{lat},{lon}\"\n",
        "\n",
        "url = f\"https://maps.googleapis.com/maps/api/staticmap?key={key}&center={center}&zoom={zoom}&maptype={maptype}&size={size}\"\n",
        "print(url)"
      ]
    },
    {
      "cell_type": "markdown",
      "metadata": {
        "id": "HDsyIfZ4xSxY"
      },
      "source": [
        "To download the file we can again use the `requests.get()` function:"
      ]
    },
    {
      "cell_type": "code",
      "execution_count": null,
      "metadata": {
        "id": "ksVfOdJywzq2"
      },
      "outputs": [],
      "source": [
        "response = requests.get(url) # fetch the image\n",
        "image_content = response.content # save the response in a variable\n",
        "image_file = open(\"test.jpg\", \"wb\") # open a file-handler\n",
        "image_file.write(image_content) # write the saved image into the file\n",
        "image_file.close() # close the file-handler"
      ]
    },
    {
      "cell_type": "markdown",
      "metadata": {
        "id": "eSY_TMghxZV3"
      },
      "source": [
        "Combining this with `locations.csv` creates following code (in case you don't have the locations file in your drive please make sure you have downloaded it by executing following cell:"
      ]
    },
    {
      "cell_type": "code",
      "execution_count": null,
      "metadata": {
        "id": "kEkqeLoWPsFP"
      },
      "outputs": [],
      "source": [
        "!wget https://raw.githubusercontent.com/fleshgordo/scrapinghub/main/data/locations.csv -O sample_data/locations.csv"
      ]
    },
    {
      "cell_type": "code",
      "execution_count": null,
      "metadata": {
        "id": "hDMZpNZ3xdr7"
      },
      "outputs": [],
      "source": [
        "with (open(\"sample_data/locations.csv\") as f):\n",
        "  locations = f.readlines()[1:]\n",
        "  for location in locations:\n",
        "    place = location.strip().split(\",\") # remove newlines and split the csv file into a list with split()\n",
        "    lat = place[2]\n",
        "    lon = place[1]\n",
        "    center = f\"{lat},{lon}\"\n",
        "    zoom = 17\n",
        "    maptype = \"satellite\"\n",
        "    size = \"600x600\"\n",
        "    url = f\"https://maps.googleapis.com/maps/api/staticmap?key={key}&center={center}&zoom={zoom}&maptype={maptype}&size={size}\"\n",
        "    print(url)"
      ]
    },
    {
      "cell_type": "markdown",
      "metadata": {
        "id": "8gTNDJfYyUlU"
      },
      "source": [
        "### Fun with text-to-speech\n",
        "\n",
        "gtts is a Python library to interface with Google Translate's text-to-speech API. Write spoken mp3 data to a file with any python string you want. As usual, we first need to install the library:"
      ]
    },
    {
      "cell_type": "code",
      "execution_count": null,
      "metadata": {
        "id": "z5_PezvJybkF"
      },
      "outputs": [],
      "source": [
        "!pip install gtts"
      ]
    },
    {
      "cell_type": "code",
      "execution_count": null,
      "metadata": {
        "id": "GQV1VrlRyXYz"
      },
      "outputs": [],
      "source": [
        "from gtts import gTTS\n",
        "import requests\n",
        "import json"
      ]
    },
    {
      "cell_type": "markdown",
      "metadata": {
        "id": "f_rlIg-P1NwY"
      },
      "source": [
        "This example queries the [openweather API](https://openweathermap.org/current) and parses the response text into a JSON object. Further, it creates a sentence with some of the received information to"
      ]
    },
    {
      "cell_type": "code",
      "execution_count": null,
      "metadata": {
        "id": "HG3hlPyIyk0K"
      },
      "outputs": [],
      "source": [
        "# API endpoint and parameters\n",
        "url = \"https://api.openweathermap.org/data/2.5/weather\"\n",
        "city = \"Emmenbrücke\"\n",
        "params = {\n",
        "    \"q\": city,\n",
        "    \"appid\": \"\", # put your api key!!!!!\n",
        "    \"units\": \"metric\"\n",
        "}\n",
        "\n",
        "# Send GET request to API endpoint\n",
        "response = requests.get(url, params=params)\n",
        "print(response.text)\n",
        "# Save response to file\n",
        "#with open(\"sample_data/weather.json\", \"w\") as file:\n",
        "#    file.write(response.text)\n"
      ]
    },
    {
      "cell_type": "code",
      "execution_count": null,
      "metadata": {
        "id": "NE8udaw2zJm0"
      },
      "outputs": [],
      "source": [
        "answer = json.loads(response.text)\n",
        "print(answer['main'])\n",
        "\n",
        "# create phrase that is going to be sent to text-to-speech\n",
        "phrase = f\"In {city} it feels like {answer['main']['feels_like']} degrees\"\n",
        "\n",
        "tts = gTTS(text=phrase, lang=\"en\")\n",
        "tts.save(\"weather.mp3\") # saves the output file to weather.mp3"
      ]
    }
  ],
  "metadata": {
    "colab": {
      "provenance": [],
      "include_colab_link": true
    },
    "kernelspec": {
      "display_name": "Python 3 (ipykernel)",
      "language": "python",
      "name": "python3"
    },
    "language_info": {
      "codemirror_mode": {
        "name": "ipython",
        "version": 3
      },
      "file_extension": ".py",
      "mimetype": "text/x-python",
      "name": "python",
      "nbconvert_exporter": "python",
      "pygments_lexer": "ipython3",
      "version": "3.7.12"
    },
    "vscode": {
      "interpreter": {
        "hash": "aee8b7b246df8f9039afb4144a1f6fd8d2ca17a180786b69acc140d282b71a49"
      }
    }
  },
  "nbformat": 4,
  "nbformat_minor": 0
}