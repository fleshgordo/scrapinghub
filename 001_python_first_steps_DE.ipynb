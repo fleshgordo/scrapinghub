{
 "cells": [
  {
   "cell_type": "markdown",
   "metadata": {
    "colab_type": "text",
    "id": "view-in-github"
   },
   "source": [
    "<a href=\"https://colab.research.google.com/github/fleshgordo/cocreate22/blob/main/001_python_first_steps_DE.ipynb\" target=\"_parent\"><img src=\"https://colab.research.google.com/assets/colab-badge.svg\" alt=\"Open In Colab\"/></a>"
   ]
  },
  {
   "cell_type": "markdown",
   "metadata": {
    "id": "n1OBx-EGRIZL"
   },
   "source": [
    "# Erste Schritte in Python\n",
    "\n",
    "Python ist eine einfach zu lernende, aber mächtige Programmiersprache. Python ist eine interpretierte Sprache, wodurch sich bei der Programmentwicklung erheblich Zeit sparen lässt, da Kompilieren und Linken nicht nötig sind. Der Interpreter kann interaktiv genutzt werden so wie dieses Notebook.\n",
    "\n",
    "In den einzelnen Boxen steht Python Code. Man kann auf die Box klicken, den Inhalt verändern und das Programm dann einfach mit der Play-Taste oben, oder mit Shift-Enter starten und diese eine Zeile ausführen lassen. Probiert es mal aus zwei Zahlen zu addieren und seht was passiert. Ihr könnt die Zahlen direkt im Eingabefenster verändern:"
   ]
  },
  {
   "cell_type": "code",
   "execution_count": null,
   "metadata": {
    "colab": {
     "base_uri": "https://localhost:8080/"
    },
    "id": "t74FtVvkRIZN",
    "outputId": "661c61d3-d458-4de6-dab4-57979465ed73"
   },
   "outputs": [
    {
     "data": {
      "text/plain": [
       "12"
      ]
     },
     "execution_count": 6,
     "metadata": {},
     "output_type": "execute_result"
    }
   ],
   "source": [
    "11+1"
   ]
  },
  {
   "cell_type": "markdown",
   "metadata": {
    "id": "eCliD3X7RIZS"
   },
   "source": [
    "Versucht einmal eine andere mathematische Operation z.b. * - / . Was ergibt 5/2? "
   ]
  },
  {
   "cell_type": "code",
   "execution_count": null,
   "metadata": {
    "colab": {
     "base_uri": "https://localhost:8080/"
    },
    "id": "7Iq0Nt4IRIZS",
    "outputId": "37c8c8b1-1997-4ce6-b5b3-ace5d354df36"
   },
   "outputs": [
    {
     "data": {
      "text/plain": [
       "0.5"
      ]
     },
     "execution_count": 7,
     "metadata": {},
     "output_type": "execute_result"
    }
   ],
   "source": [
    "5/10\n"
   ]
  },
  {
   "cell_type": "markdown",
   "metadata": {
    "id": "T_x8i5fORIZT"
   },
   "source": [
    "Python kann man ganz einfach auch als Taschenrechner verwenden:"
   ]
  },
  {
   "cell_type": "code",
   "execution_count": null,
   "metadata": {
    "colab": {
     "base_uri": "https://localhost:8080/"
    },
    "id": "FHGOpXkCRIZV",
    "outputId": "c2ec0808-fa11-412e-b097-d9ddd4da6ad3"
   },
   "outputs": [
    {
     "data": {
      "text/plain": [
       "13.333333333333334"
      ]
     },
     "execution_count": 8,
     "metadata": {},
     "output_type": "execute_result"
    }
   ],
   "source": [
    "(50-10) / (2 + 1)"
   ]
  },
  {
   "cell_type": "markdown",
   "metadata": {
    "id": "_vcPQnW4RIZW"
   },
   "source": [
    "### Text versus Zahlen"
   ]
  },
  {
   "cell_type": "markdown",
   "metadata": {
    "id": "ZeL0xO2sRIZY"
   },
   "source": [
    "Wenn man Anführungsstriche verwendet, dann interpretiert Python die Zahl nicht als Zahl sondern plötzlich als Text (auf Englisch ist das ein String):"
   ]
  },
  {
   "cell_type": "code",
   "execution_count": null,
   "metadata": {
    "colab": {
     "base_uri": "https://localhost:8080/",
     "height": 35
    },
    "id": "aaTWTS00RIZY",
    "outputId": "e99ef2d7-5435-4ea8-fe62-96000dffb022"
   },
   "outputs": [
    {
     "data": {
      "application/vnd.google.colaboratory.intrinsic+json": {
       "type": "string"
      },
      "text/plain": [
       "'21'"
      ]
     },
     "execution_count": 9,
     "metadata": {},
     "output_type": "execute_result"
    }
   ],
   "source": [
    "\"2\" + \"1\""
   ]
  },
  {
   "cell_type": "markdown",
   "metadata": {
    "id": "Cin0bG2hRIZZ"
   },
   "source": [
    "Versucht mal zwei Wörter zu verbinden. Man spricht hier von \"verketten\" oder to concatenate auf Englisch (hello world)"
   ]
  },
  {
   "cell_type": "code",
   "execution_count": null,
   "metadata": {
    "collapsed": true,
    "id": "ROjyGv6zRIZa"
   },
   "outputs": [],
   "source": []
  },
  {
   "cell_type": "markdown",
   "metadata": {
    "id": "GfRv0676RIZb"
   },
   "source": [
    "Wieviel ergibt 2 + \"2\""
   ]
  },
  {
   "cell_type": "code",
   "execution_count": null,
   "metadata": {
    "colab": {
     "base_uri": "https://localhost:8080/"
    },
    "id": "g_rb4lclRIZb",
    "outputId": "205d5447-6981-49e6-cb7e-d30c15e30c6b"
   },
   "outputs": [
    {
     "data": {
      "text/plain": [
       "4"
      ]
     },
     "execution_count": 10,
     "metadata": {},
     "output_type": "execute_result"
    }
   ],
   "source": [
    "str(3) + \"1\"\n",
    "int(\"2\") + 2"
   ]
  },
  {
   "cell_type": "markdown",
   "metadata": {
    "id": "6h-66EG5OfV8"
   },
   "source": [
    "Mit dem ```print()``` könnt ihr Zahlen, Wörter und sonstiges in der Kommandozeile ausgegeben werden:"
   ]
  },
  {
   "cell_type": "code",
   "execution_count": null,
   "metadata": {
    "colab": {
     "base_uri": "https://localhost:8080/"
    },
    "id": "IRkFRDHWOgMk",
    "outputId": "aea29e2f-2eb6-41f6-a5ae-368a4efce9ae"
   },
   "outputs": [
    {
     "name": "stdout",
     "output_type": "stream",
     "text": [
      "hello\n",
      "1\n",
      "world\n"
     ]
    }
   ],
   "source": [
    "print(\"hello\")\n",
    "print(1)\n",
    "print(\"world\")"
   ]
  },
  {
   "cell_type": "markdown",
   "metadata": {
    "id": "7CsEaz0EOsX4"
   },
   "source": [
    "##### Kommentare\n",
    "\n",
    "Mit dem Raute-Zeichen # kann man Kommentare im Quelltext schreiben, welcher der Python Interpreter nicht als Code interpretiert, sondern nur als Kommentar/Anmerkung dient "
   ]
  },
  {
   "cell_type": "code",
   "execution_count": null,
   "metadata": {
    "colab": {
     "base_uri": "https://localhost:8080/"
    },
    "id": "72cQxMuHPEkp",
    "outputId": "0a0e632d-08ae-4088-d7c3-7fa7c05dd881"
   },
   "outputs": [
    {
     "name": "stdout",
     "output_type": "stream",
     "text": [
      "wow, bit slower plz\n"
     ]
    }
   ],
   "source": [
    "# Das ist ein Kommentar\n",
    "print(\"wow, bit slower plz\")\n",
    "# Are you 'bro-gramming'?"
   ]
  },
  {
   "cell_type": "markdown",
   "metadata": {
    "id": "-rxBNxTrRIZc"
   },
   "source": [
    "### Variablen\n",
    "\n",
    "Eine Variable im allgemeinsten Sinne ist einfach ein Behälter (Container) zur Aufbewahrung von bestimmten Werten, also z.B. Strings oder Zahlen. Man kann im Verlauf des Programms auf diese Variablen, oder genauer auf den Wert ihres Inhaltes zugreifen, oder ihnen einen neuen Wert zuweisen."
   ]
  },
  {
   "cell_type": "code",
   "execution_count": null,
   "metadata": {
    "colab": {
     "base_uri": "https://localhost:8080/"
    },
    "id": "UygEv-lTRIZc",
    "outputId": "aeb156e8-88e2-4d67-dd56-614b70097498"
   },
   "outputs": [
    {
     "name": "stdout",
     "output_type": "stream",
     "text": [
      "Yes we can!\n"
     ]
    }
   ],
   "source": [
    "meineVariable = \"Yes\"\n",
    "nochEineVariable = \"we can!\"\n",
    "print (meineVariable + \" \" + nochEineVariable)"
   ]
  },
  {
   "cell_type": "code",
   "execution_count": null,
   "metadata": {
    "colab": {
     "base_uri": "https://localhost:8080/"
    },
    "id": "8WoN4bSORIZd",
    "outputId": "4f11c476-ba24-49ac-8e2e-5f25f62971fe"
   },
   "outputs": [
    {
     "name": "stdout",
     "output_type": "stream",
     "text": [
      "hello world!\n"
     ]
    }
   ],
   "source": [
    "print(\"hello world!\")\n"
   ]
  },
  {
   "cell_type": "code",
   "execution_count": null,
   "metadata": {
    "collapsed": true,
    "id": "eSYocqVqRIZd"
   },
   "outputs": [],
   "source": []
  },
  {
   "cell_type": "markdown",
   "metadata": {
    "id": "pJxdT-KWRIZe"
   },
   "source": [
    "Aber es wird gleich ein wenig mathematischer. Der Variablen-Name ist frei wählbar, es gibt allerdings ein paar Wörter, die man nicht benutzen darf (z.b. python-spezifische Kommandos wie print). Probiert mal wieder die Addition und versucht den Wert der Variable zu ändern: "
   ]
  },
  {
   "cell_type": "code",
   "execution_count": null,
   "metadata": {
    "colab": {
     "base_uri": "https://localhost:8080/"
    },
    "id": "WhiGqjPcRIZe",
    "outputId": "66d0e80a-926b-4e23-ea42-a5220d5fa424"
   },
   "outputs": [
    {
     "data": {
      "text/plain": [
       "10"
      ]
     },
     "execution_count": 13,
     "metadata": {},
     "output_type": "execute_result"
    }
   ],
   "source": [
    "nummer1 = 5\n",
    "nummer2 = 2\n",
    "nummer1 * nummer2\n",
    "#nummer1 + nummer2\n",
    "#nummer1 - nummer2\n",
    "#nummer1 / nummer2"
   ]
  },
  {
   "cell_type": "markdown",
   "metadata": {
    "id": "sdSHkEMDRIZf"
   },
   "source": [
    "Eigentlich würden wir erwarten, dass die Kommandozeile 4 Werte ausspuckt, oder? Man kann das \"print\" statement benutzen, um Werte im Terminal ausgeben zu lassen:"
   ]
  },
  {
   "cell_type": "code",
   "execution_count": null,
   "metadata": {
    "colab": {
     "base_uri": "https://localhost:8080/"
    },
    "id": "7_FGTjq_RIZf",
    "outputId": "1d3957f7-e43e-403f-dffb-f8f22d02ae21"
   },
   "outputs": [
    {
     "name": "stdout",
     "output_type": "stream",
     "text": [
      "5.5\n"
     ]
    }
   ],
   "source": [
    "nummer1 = 11\n",
    "nummer2 = 2\n",
    "nummer3 = 2\n",
    "# ALT 3 print nummer3 * nummer2\n",
    "#print nummer1 + nummer2\n",
    "#print nummer1 - nummer2\n",
    "# lajdfljasdlfjasdjlf\n",
    "# schautaljdfljasdlkfjlasdjflasdjf\n",
    "\"\"\"\n",
    "yolo\n",
    "ascii art plz\n",
    "\"\"\"\n",
    "print(nummer1 / nummer2)"
   ]
  },
  {
   "cell_type": "markdown",
   "metadata": {
    "id": "zll2fSj7RIZg"
   },
   "source": [
    "Das sieht nun besser aus. \n",
    "\n",
    "Nun probieren wir der Variable i den Wert 42 zuzuweisen\", d.h. der Inhalt von i ist nach der Zuweisung 42. Man kann diesen Wert der Variablen auch, wie man im folgenden Beispiel sieht, anschließend ändern: "
   ]
  },
  {
   "cell_type": "code",
   "execution_count": null,
   "metadata": {
    "colab": {
     "base_uri": "https://localhost:8080/"
    },
    "id": "yLSKIQflRIZg",
    "outputId": "2ab2c2ba-1361-4b70-ebb0-145b6cf53c15"
   },
   "outputs": [
    {
     "name": "stdout",
     "output_type": "stream",
     "text": [
      "42\n",
      "43\n",
      "43\n"
     ]
    }
   ],
   "source": [
    "i = 42\n",
    "print(i)\n",
    "i = i + 1\n",
    "print(i)\n",
    "i = 43\n",
    "print(i)"
   ]
  },
  {
   "cell_type": "markdown",
   "metadata": {
    "id": "WmN7q23PRIZh"
   },
   "source": [
    "Es kann einem aber ruhig mal ein Fehler passieren. Die Syntax muss nämlich immer exakt sein. Gross/Kleinschreibung, ein Tippfehler wie z.B. statt print Print wirft gleich einen Fehler auf:"
   ]
  },
  {
   "cell_type": "code",
   "execution_count": null,
   "metadata": {
    "colab": {
     "base_uri": "https://localhost:8080/",
     "height": 135
    },
    "id": "x4fv90ykRIZh",
    "outputId": "8ea54f19-798f-40ea-f9f8-26430fccc000"
   },
   "outputs": [
    {
     "ename": "SyntaxError",
     "evalue": "ignored",
     "output_type": "error",
     "traceback": [
      "\u001b[0;36m  File \u001b[0;32m\"<ipython-input-3-e4a4b4fd6954>\"\u001b[0;36m, line \u001b[0;32m1\u001b[0m\n\u001b[0;31m    Print i\u001b[0m\n\u001b[0m          ^\u001b[0m\n\u001b[0;31mSyntaxError\u001b[0m\u001b[0;31m:\u001b[0m invalid syntax\n"
     ]
    }
   ],
   "source": [
    "Print i\n",
    "#print(i)"
   ]
  },
  {
   "cell_type": "markdown",
   "metadata": {
    "id": "hU7cu_enRIZh"
   },
   "source": [
    "Ihr bekommt einen Syntax Error. Die erste Zeile von der Fehlermeldung gibt sofort Aufschluss wo sich der Fehler befindet. Dadurch dass unser Programm nur eine Zeile hat, ist das eben \"line 1\". Ihr seht auch, dass das Wort print nicht mehr grün ist, so wie vorher!"
   ]
  },
  {
   "cell_type": "markdown",
   "metadata": {
    "id": "mQhOyz64RIZi"
   },
   "source": [
    "Wieviel ergibt i dividiert durch 5? Schreib es selbst in den Terminal unten. Mit Shift+Enter wird der Code ausgeführt. Probiert es mal aus:"
   ]
  },
  {
   "cell_type": "code",
   "execution_count": null,
   "metadata": {
    "colab": {
     "base_uri": "https://localhost:8080/"
    },
    "id": "5_1sfdNfRIZi",
    "outputId": "7572e33a-8856-4cb4-d56f-c4b994c0ec30"
   },
   "outputs": [
    {
     "data": {
      "text/plain": [
       "8.6"
      ]
     },
     "execution_count": 17,
     "metadata": {},
     "output_type": "execute_result"
    }
   ],
   "source": [
    "43 / 5\n"
   ]
  },
  {
   "cell_type": "markdown",
   "metadata": {
    "id": "XO5p9oD3RIZi"
   },
   "source": [
    "43 / 5 sollte aber nicht 8 ergeben, sondern 8.6. Python interpretiert die Zahlen aber als Ganzzahlen und gibt sie als Ganzzahlen auch wieder aus. Wenn man aber einen Punkt an die Zahl anfügt, dann versteht Python das ganze plötzlich als Fliesskommazahl:\n"
   ]
  },
  {
   "cell_type": "code",
   "execution_count": null,
   "metadata": {
    "colab": {
     "base_uri": "https://localhost:8080/"
    },
    "id": "-MPQqezcRIZi",
    "outputId": "c9aa8eb7-472b-4aa8-bdee-081a909467ce"
   },
   "outputs": [
    {
     "data": {
      "text/plain": [
       "8.6"
      ]
     },
     "execution_count": 18,
     "metadata": {},
     "output_type": "execute_result"
    }
   ],
   "source": [
    "43 / 5."
   ]
  },
  {
   "cell_type": "markdown",
   "metadata": {
    "id": "5Dpbm62ERIZi"
   },
   "source": [
    "Fliesskommazahlen werden auf Englisch float bezeichnet. Ganzzahlen als integer!\n"
   ]
  },
  {
   "cell_type": "markdown",
   "metadata": {
    "id": "YDXBACToRIZj"
   },
   "source": [
    "##### Zufallszahlen\n",
    "\n",
    "Nun, lernen wir unsere erste Funktion kennen. Funktionen sind so etwas wie kleine Sub-programme, die uns einen gewissen Wert liefern können. \n",
    "\n",
    "Die Funktion randint(m, n) liefert eine zufällig ausgewählte Zahl aus dem Zahlenbereich {m, m+1, ..., n}. Ein Aufruf randint(1, 6) liefert also eine natürliche Zahl zwischen 1 und 6."
   ]
  },
  {
   "cell_type": "code",
   "execution_count": null,
   "metadata": {
    "colab": {
     "base_uri": "https://localhost:8080/",
     "height": 171
    },
    "id": "0NUoqiWTRIZj",
    "outputId": "b13e9a19-7d33-4a6f-8434-6ae34e7c5ab1"
   },
   "outputs": [
    {
     "ename": "NameError",
     "evalue": "ignored",
     "output_type": "error",
     "traceback": [
      "\u001b[0;31m---------------------------------------------------------------------------\u001b[0m",
      "\u001b[0;31mNameError\u001b[0m                                 Traceback (most recent call last)",
      "\u001b[0;32m<ipython-input-4-db9205f7976d>\u001b[0m in \u001b[0;36m<module>\u001b[0;34m\u001b[0m\n\u001b[0;32m----> 1\u001b[0;31m \u001b[0mrandint\u001b[0m\u001b[0;34m(\u001b[0m\u001b[0;36m1\u001b[0m\u001b[0;34m,\u001b[0m\u001b[0;36m6\u001b[0m\u001b[0;34m)\u001b[0m\u001b[0;34m\u001b[0m\u001b[0;34m\u001b[0m\u001b[0m\n\u001b[0m",
      "\u001b[0;31mNameError\u001b[0m: name 'randint' is not defined"
     ]
    }
   ],
   "source": [
    "randint(1,6)"
   ]
  },
  {
   "cell_type": "markdown",
   "metadata": {
    "id": "HSJ4YEQpRIZk"
   },
   "source": [
    "Wir bekommen aber eine Fehlermeldung dass 'randint' nicht definiert ist. Was bedeutet das? Python ist sehr modular aufgebaut. Die random Funktion ist ein extra Modul und muss zunächst importiert werden:"
   ]
  },
  {
   "cell_type": "code",
   "execution_count": null,
   "metadata": {
    "collapsed": true,
    "id": "vftRtXmRRIZk"
   },
   "outputs": [],
   "source": [
    "from random import randint"
   ]
  },
  {
   "cell_type": "markdown",
   "metadata": {
    "id": "9_m08ksTRIZk"
   },
   "source": [
    "Wenn ihr den Block oben mit Shift-Enter passiert zunächst nichts. Aber das random Modul wurde nun automatisch in unser Notizbuch geladen und wir können nun nochmals probieren, ob die randint Funktion funktioniert:\n"
   ]
  },
  {
   "cell_type": "code",
   "execution_count": null,
   "metadata": {
    "id": "MN5t08rdRIZk"
   },
   "outputs": [],
   "source": [
    "randint(0,4)"
   ]
  },
  {
   "cell_type": "markdown",
   "metadata": {
    "id": "Z1CfbZpRRIZk"
   },
   "source": [
    "Probiert es öfter. Bei jedem Aufruf sollte sich die Ausgabe verändern! Versucht nun die Ausgabe von randint in einer Variable zu speichern und erst später ausgeben zu lassen. Wenn das klappt, dann probiert noch einen Text hinzuzufügen z.B. \"Deine heutige Glueckszahl ist: \" Verwende dazu die randint Funktion und 2x das print statement:"
   ]
  },
  {
   "cell_type": "code",
   "execution_count": null,
   "metadata": {
    "id": "zwZD42n2RIZl"
   },
   "outputs": [],
   "source": []
  },
  {
   "cell_type": "markdown",
   "metadata": {
    "id": "IktiBNFERIZl"
   },
   "source": [
    "### Bedingte Anweisungen\n",
    "\n",
    "Zu bestimmten Zeiten sind gewisse Entscheidungen unvermeidlich. Bisher sind wir in der Lage Programme zu schreiben, in denen eine Anweisung auf die andere folgt und diese auch in dieser Reihenfolge ausgeführt werden. In einer Programmiersprache versteht man unter einer bedingten Anweisung, wie man Verzweigungen auch nennt, Codeteile, die unter bestimmten Bedingungen ausgeführt werden. Liegt die Bedingung nicht vor, wird dieser Code nicht ausgeführt. Anders ausgedrückt: Eine Verzweigung legt fest welcher von zwei (oder auch mehr) Programmteilen (Alternativen) in Abhängigkeit von einer (oder mehreren) Bedingungen ausgeführt wird. Normalerweise sieht das so in Python aus:\n",
    "\n",
    "```\n",
    "if bedingung1:\n",
    "    anweisungen1\n",
    "\n",
    "```\n",
    "\n"
   ]
  },
  {
   "cell_type": "code",
   "execution_count": null,
   "metadata": {
    "collapsed": true,
    "id": "K67lgpjwRIZl"
   },
   "outputs": [],
   "source": []
  },
  {
   "cell_type": "markdown",
   "metadata": {
    "id": "tAG8MFHQRIZl"
   },
   "source": [
    "Ihr seht die zweite Zeile ist eingerückt. Mit der Tabulator-Taste macht man die Einrückung. Wie funktionieren nun diese Anweisung. Mit der Bedingung überprüft man ob ein Zustand \"wahr\" oder \"falsch\" ist\n"
   ]
  },
  {
   "cell_type": "code",
   "execution_count": null,
   "metadata": {
    "colab": {
     "base_uri": "https://localhost:8080/"
    },
    "id": "NjbgEFicRIZl",
    "outputId": "549dea72-5bc7-4d8a-99e6-3c3d247d5903"
   },
   "outputs": [
    {
     "name": "stdout",
     "output_type": "stream",
     "text": [
      "das ist falsch\n",
      "aussendraussen\n",
      "--------------\n"
     ]
    }
   ],
   "source": [
    "nummer1 = 3\n",
    "nummer2 = 5\n",
    "if nummer1 == nummer2:\n",
    "    print(\"wahr!!!!\")\n",
    "else:\n",
    "    print(\"das ist falsch\")\n",
    "    print(\"aussendraussen\")\n",
    "    print(\"--------------\")"
   ]
  },
  {
   "cell_type": "markdown",
   "metadata": {
    "id": "t-pYz_NMRIZm"
   },
   "source": [
    "Versucht nun mal die Nummern zu ändern. Plötzlich verschwindet der Output, weil die Bedingung nicht mehr zutrifft. Man verwendet hir zwei == Zeichen, um die beiden Werte zu vergleichen. Das Gegenstück zum *if* ist das *else*, mit welchem man alles abfangen kann, was nicht zutrifft:\n"
   ]
  },
  {
   "cell_type": "code",
   "execution_count": null,
   "metadata": {
    "colab": {
     "base_uri": "https://localhost:8080/"
    },
    "id": "-lXQtVsqRIZm",
    "outputId": "678424a5-8dfe-48a2-fa2e-a2867495b705"
   },
   "outputs": [
    {
     "name": "stdout",
     "output_type": "stream",
     "text": [
      "das ist wahr\n"
     ]
    }
   ],
   "source": [
    "nummer1 = 3\n",
    "nummer2 = 5\n",
    "if nummer1 != nummer2:\n",
    "    print(\"das ist wahr\")\n",
    "else:\n",
    "    print(\"meow\")"
   ]
  },
  {
   "cell_type": "markdown",
   "metadata": {
    "id": "qpxf-rbxRIZn"
   },
   "source": [
    "Der Output sollte meow sein. Probiert jetzt mal \"das ist wahr\" ausgeben zu lassen. Was muss man verändern?"
   ]
  },
  {
   "cell_type": "markdown",
   "metadata": {
    "id": "WI78c_DhRIZn"
   },
   "source": [
    "Man kann aber auch überprüfen ob der Wert einen gewisse Grenze überschreitet mit dem kleiner und grösser Zeichen < >: versucht das > mit dem < zu vertauschen. Verändert sich der Output?\n"
   ]
  },
  {
   "cell_type": "code",
   "execution_count": null,
   "metadata": {
    "colab": {
     "base_uri": "https://localhost:8080/"
    },
    "id": "Lj9rsitgRIZn",
    "outputId": "3f1a7f48-60ec-4cd0-c612-45081f566c08"
   },
   "outputs": [
    {
     "name": "stdout",
     "output_type": "stream",
     "text": [
      "nummer1 ist groesser als nummer2\n"
     ]
    }
   ],
   "source": [
    "nummer1 = 5\n",
    "nummer2 = 3\n",
    "if nummer1 > nummer2:\n",
    "    print(\"nummer1 ist groesser als nummer2\")\n",
    "else:\n",
    "    print(\"## nummer2 ist groesser als nummer1\")"
   ]
  },
  {
   "cell_type": "markdown",
   "metadata": {
    "id": "qd2Lw0xSRIZo"
   },
   "source": [
    "Ein Problem, dass relativ oft vorkommt, ist wenn man zwei verschiedene Datentypen (z.B. eine Zahl und einen Text) miteinander verknüpfen mag. Seht selbst:"
   ]
  },
  {
   "cell_type": "code",
   "execution_count": null,
   "metadata": {
    "colab": {
     "base_uri": "https://localhost:8080/",
     "height": 35
    },
    "id": "zSXTys5zRIZo",
    "outputId": "b209a51d-74b4-4d17-8874-8bf91125a021"
   },
   "outputs": [
    {
     "data": {
      "application/vnd.google.colaboratory.intrinsic+json": {
       "type": "string"
      },
      "text/plain": [
       "'Die Zufallszahl ist: 2 soooo lucky'"
      ]
     },
     "execution_count": 24,
     "metadata": {},
     "output_type": "execute_result"
    }
   ],
   "source": [
    "\"Die Zufallszahl ist: \" + str(2) + \" soooo lucky\"\n"
   ]
  },
  {
   "cell_type": "markdown",
   "metadata": {
    "id": "SrGXQ5M0RIZo"
   },
   "source": [
    "Wir bekommen die Fehlermeldung \"TypeError: cannot concatenate 'str' and 'int' objects\". Heisst übersetzt: Python kann nicht eine Zahl mit einem Text verknüpfen. Man kann aber die Zahl (also das int objekt) automatische in einen Text verwandeln. Dazu verwendet man die str() Funktion. "
   ]
  },
  {
   "cell_type": "code",
   "execution_count": null,
   "metadata": {
    "id": "OtCdMUlgRIZo"
   },
   "outputs": [],
   "source": [
    "str(3)"
   ]
  },
  {
   "cell_type": "code",
   "execution_count": null,
   "metadata": {
    "id": "rjAHnxdRRIZp"
   },
   "outputs": [],
   "source": [
    "\"Die Zufallszahl ist: \" + str(4)"
   ]
  },
  {
   "cell_type": "markdown",
   "metadata": {
    "id": "tRaGZoQWRIZp"
   },
   "source": [
    "Versucht diesen Text \"Die Zufallszahl ist: \" nun mit der random Funktion zu verknüpfen. Bei jedem Ausführen soll eine neue Zahl erscheinen."
   ]
  },
  {
   "cell_type": "code",
   "execution_count": null,
   "metadata": {
    "collapsed": true,
    "id": "VAUL9EjvRIZp"
   },
   "outputs": [],
   "source": []
  },
  {
   "cell_type": "markdown",
   "metadata": {
    "id": "PkAaUHmHRIZp"
   },
   "source": [
    "Neben if und else gibt es aber noch elif um bedingte Anweisungen zu schreiben. \n"
   ]
  },
  {
   "cell_type": "code",
   "execution_count": null,
   "metadata": {
    "id": "d8-J0s6yRIZp"
   },
   "outputs": [],
   "source": [
    "nummer = randint(1,11)\n",
    "print(nummer)\n",
    "nummer = 2\n",
    "if nummer == 1:\n",
    "    print(\"die zahl ist eins\")\n",
    "elif nummer == 2:\n",
    "    print(\"die zahl ist zwei\")\n",
    "elif nummer == 3:\n",
    "    print(\"die zahl ist drei\")\n",
    "elif nummer == 4:\n",
    "    print(\"die zahl ist vier\")\n",
    "elif 4 < nummer < 11:\n",
    "    print(\"nummer zwischen 5 und 10\")\n",
    "else:\n",
    "    print(\"weder 1 noch 2\")"
   ]
  },
  {
   "cell_type": "markdown",
   "metadata": {
    "id": "sT6y4uxvRIZq"
   },
   "source": [
    "Baut mit diesen Elementen einen Zufallswürfel. Zeichnet euch auf einem Blatt Papier die Logik von dem Programm auf. Man verwendet hierfür oft ein sogenanntes [Block-Diagramm](https://en.wikipedia.org/wiki/Functional_block_diagram). Schreibt den Code in den unteren Code-Block: "
   ]
  },
  {
   "cell_type": "code",
   "execution_count": null,
   "metadata": {
    "collapsed": true,
    "id": "wuJG_xQkRIZq"
   },
   "outputs": [],
   "source": []
  },
  {
   "cell_type": "markdown",
   "metadata": {
    "id": "IgSRyY98RIZq"
   },
   "source": [
    "Es geht nun weiter mit Schleifen ..."
   ]
  },
  {
   "cell_type": "markdown",
   "metadata": {
    "id": "mvlZM5ooRIZq"
   },
   "source": [
    "### Schleifen und Einrückungen\n",
    "\n",
    "Was sind Schleifen? Man kann den Computer repetitive Sachen ganz einfach mit Schleifen machen lassen. Schleifen, werden benötigt, um einen Codeblock, den man auch als Schleifenkörper bezeichnet, wiederholt auszuführen. In Python gibt es zwei Schleifentypen: die while-Schleife und die for-Schleife."
   ]
  },
  {
   "cell_type": "code",
   "execution_count": null,
   "metadata": {
    "id": "OWkPGK0ORIZq"
   },
   "outputs": [],
   "source": [
    "a = 0\n",
    "while a < 4:\n",
    "    #a = a + 1\n",
    "    a += 1\n",
    "    print(a)\n",
    "    print(\"hello world\")\n"
   ]
  },
  {
   "cell_type": "code",
   "execution_count": null,
   "metadata": {
    "id": "kJMio2LARIZq"
   },
   "outputs": [],
   "source": [
    "for i in range(35):\n",
    "    print(\"hello\")\n",
    "    print(i)"
   ]
  },
  {
   "cell_type": "markdown",
   "metadata": {
    "id": "HNpfQZuLRIZr"
   },
   "source": [
    "#### Zeit und Delay"
   ]
  },
  {
   "cell_type": "markdown",
   "metadata": {
    "id": "KN7_rSxTRIZr"
   },
   "source": [
    "Mit dem Modul \"time\" kann man eine Zeitkomponente zu unseren Python Skripts hinzufügen"
   ]
  },
  {
   "cell_type": "code",
   "execution_count": null,
   "metadata": {
    "colab": {
     "base_uri": "https://localhost:8080/"
    },
    "id": "DXPFEVvURIZr",
    "outputId": "7e33014b-0548-4421-befa-26d7c117f435"
   },
   "outputs": [
    {
     "name": "stdout",
     "output_type": "stream",
     "text": [
      "hello\n",
      "world\n"
     ]
    }
   ],
   "source": [
    "from time import sleep\n",
    "\n",
    "print(\"hello\")\n",
    "sleep(4)\n",
    "print(\"world\")"
   ]
  },
  {
   "cell_type": "markdown",
   "metadata": {
    "id": "xnrw3BS4RIZr"
   },
   "source": [
    "Mit sleep kann man das Programm für eine gewisse Zeit pausieren. D. h. der Computer pausiert für die Zeit welchen in den runden Klammern übergeben wird (1 sekunde). Probiert mal den Wert zu ändern. Funktioniert 0.1 ?"
   ]
  },
  {
   "cell_type": "code",
   "execution_count": null,
   "metadata": {
    "id": "DNhYMp0CRIZr"
   },
   "outputs": [],
   "source": [
    "sleep(0.1)\n",
    "print(\"yes\")"
   ]
  },
  {
   "cell_type": "markdown",
   "metadata": {
    "id": "UmM1bF6lRIZr"
   },
   "source": [
    "Verknüpfen wir das mit der for Schleife, um genauer zu verstehen, was in der Schleife passiert:"
   ]
  },
  {
   "cell_type": "code",
   "execution_count": null,
   "metadata": {
    "id": "XUfAaCzBRIZs"
   },
   "outputs": [],
   "source": [
    "for i in range(5):\n",
    "    print(i)\n",
    "    sleep(5)"
   ]
  },
  {
   "cell_type": "code",
   "execution_count": null,
   "metadata": {
    "colab": {
     "base_uri": "https://localhost:8080/"
    },
    "id": "b3qpslXURIZs",
    "outputId": "16c8444a-0b7d-44d7-eef7-33373c0c8430"
   },
   "outputs": [
    {
     "name": "stdout",
     "output_type": "stream",
     "text": [
      "10\n",
      "9\n",
      "8\n",
      "7\n",
      "6\n",
      "5\n",
      "4\n",
      "3\n",
      "2\n",
      "1\n",
      "BOOOOOOOOOM\n"
     ]
    }
   ],
   "source": [
    "from time import sleep\n",
    "zaehler = 10\n",
    "for i in range(zaehler):\n",
    "    countdown = zaehler -i\n",
    "    print(countdown)\n",
    "    if countdown == 1:\n",
    "        print(\"BOOOOOOOOOM\")\n",
    "    sleep(0.5)"
   ]
  },
  {
   "cell_type": "markdown",
   "metadata": {
    "id": "yhstrOGyRIZs"
   },
   "source": [
    "Wie kann man daraus einen abwärts zählenden Counter bauen? Probiert es euch auf einem Blatt Papier durchzudenken. Tipp: man muss was subtrahieren!"
   ]
  },
  {
   "cell_type": "code",
   "execution_count": null,
   "metadata": {
    "id": "y6UcOFg0RIZs",
    "scrolled": false
   },
   "outputs": [],
   "source": []
  },
  {
   "cell_type": "markdown",
   "metadata": {
    "id": "6PZ9VpnvRIZs"
   },
   "source": [
    "### Listen\n",
    "\n",
    "Eine Liste kann man als einen Stapelspeicher (englisch: stack) ansehen. Man kann beliebig lange Listen erstellen, entweder mit Zahlen oder mit Text, oder mit beiden. Eine Liste von Werten (Elemente) wird durch Kommas getrennt und von eckigen Klammern eingeschlossen. So definiert man eine Liste"
   ]
  },
  {
   "cell_type": "code",
   "execution_count": 2,
   "metadata": {
    "colab": {
     "base_uri": "https://localhost:8080/"
    },
    "id": "0rK11-4jRIZs",
    "outputId": "3bff4713-fd57-424d-b9f8-571a378d12af"
   },
   "outputs": [
    {
     "name": "stdout",
     "output_type": "stream",
     "text": [
      "['batman', 'saxplayer', 'technoviking', 'nyancat']\n"
     ]
    }
   ],
   "source": [
    "meineListe = [\"batman\",\"saxplayer\",\"technoviking\",\"nyancat\"]\n",
    "print(meineListe)"
   ]
  },
  {
   "cell_type": "markdown",
   "metadata": {
    "id": "eubcnO8vRIZt"
   },
   "source": [
    "Listen sind oft hilfreich (das werden wir später beim Web-Scraping sehen), wo viele Daten meist über Listen gespeichert werden. Um die einzelnen Texte aus der Liste nun auszulesen, kann man schreiben:"
   ]
  },
  {
   "cell_type": "code",
   "execution_count": 4,
   "metadata": {
    "colab": {
     "base_uri": "https://localhost:8080/"
    },
    "id": "FoGYjsugRIZt",
    "outputId": "539c5452-53fe-47b3-ee60-12e4fc9d2b47"
   },
   "outputs": [
    {
     "name": "stdout",
     "output_type": "stream",
     "text": [
      "batman is so boring\n",
      "saxplayer is so boring\n"
     ]
    }
   ],
   "source": [
    "print(meineListe[0] + \" is so boring\")\n",
    "print(meineListe[1] + \" is so boring\")"
   ]
  },
  {
   "cell_type": "markdown",
   "metadata": {
    "id": "BMLNEM_9RIZt"
   },
   "source": [
    "Probiert mal alle vier Listenelemente mit print auszugeben:"
   ]
  },
  {
   "cell_type": "code",
   "execution_count": null,
   "metadata": {
    "collapsed": true,
    "id": "ZcLsZl3URIZt"
   },
   "outputs": [],
   "source": []
  },
  {
   "cell_type": "markdown",
   "metadata": {
    "id": "DMEnMhi1RIZv"
   },
   "source": [
    "Das praktische ist, dass man Schleifen gemeinsam mit Listen verwenden kann."
   ]
  },
  {
   "cell_type": "code",
   "execution_count": 5,
   "metadata": {
    "id": "nS_qtCQMRIZv"
   },
   "outputs": [
    {
     "name": "stdout",
     "output_type": "stream",
     "text": [
      "batman is so boring\n",
      "saxplayer is so boring\n",
      "technoviking is so boring\n",
      "nyancat is so boring\n"
     ]
    }
   ],
   "source": [
    "for element in meineListe:\n",
    "    print(element + \" is so boring\")"
   ]
  },
  {
   "cell_type": "markdown",
   "metadata": {
    "id": "sykulWTrRIZv"
   },
   "source": [
    "Wenn ich die Länge der Liste verändere, kann ich mit derselben for Schleife alle ausgeben:"
   ]
  },
  {
   "cell_type": "code",
   "execution_count": null,
   "metadata": {
    "id": "PZLX4_GkRIZw"
   },
   "outputs": [],
   "source": [
    "meineListe = [\"batman\",\"saxplayer\",\"technoviking\",\"nyancat\",\"tronkid\",\"trollface\",\"Rick Ross\"]\n",
    "for element in meineListe:\n",
    "    print(element)"
   ]
  },
  {
   "cell_type": "markdown",
   "metadata": {
    "id": "MRajLJ7JRIZw"
   },
   "source": [
    "Wir können die Reihenfolge in der Liste mit der Funktion shuffle per Zufall durcheinanderbringen: "
   ]
  },
  {
   "cell_type": "code",
   "execution_count": null,
   "metadata": {
    "id": "4JDRcyhzRIZw"
   },
   "outputs": [],
   "source": [
    "import random\n",
    "random.shuffle(meineListe)"
   ]
  },
  {
   "cell_type": "markdown",
   "metadata": {
    "id": "I3CmHMdrRIZw"
   },
   "source": [
    "Das tut zunächst gar nichts, zumindest sieht es so aus. Aber die Reihenfolge wurde bereits geändert, wenn wir nun meineListe ausgeben lassen, sehen wir folgendes:"
   ]
  },
  {
   "cell_type": "code",
   "execution_count": null,
   "metadata": {
    "id": "pxbfxngERIZx"
   },
   "outputs": [],
   "source": [
    "meineListe"
   ]
  },
  {
   "cell_type": "markdown",
   "metadata": {
    "id": "dNQzdCbcRIZx"
   },
   "source": [
    "Probiert nun nochmal random.shuffle(meineListe) in der unteren Zeile"
   ]
  },
  {
   "cell_type": "code",
   "execution_count": null,
   "metadata": {
    "collapsed": true,
    "id": "5xDR0WOuRIZx"
   },
   "outputs": [],
   "source": []
  },
  {
   "cell_type": "markdown",
   "metadata": {
    "id": "7Runv0LgRIZx"
   },
   "source": [
    "Wenn man die Liste wieder als ganzen Satz ausgeben mag, kann man diese mit join aneinanderketten:"
   ]
  },
  {
   "cell_type": "code",
   "execution_count": null,
   "metadata": {
    "id": "q9inPD34RIZx"
   },
   "outputs": [],
   "source": [
    "from time import sleep\n",
    "neueListe = [\"in\",\"the\",\"beginning\",\"there\",\"was\",\"the\",\"word\"]\n",
    "\n",
    "\n",
    "for i in range(10):\n",
    "    random.shuffle(neueListe)\n",
    "    print(\" \".join(neueListe))\n",
    "    sleep(1)"
   ]
  },
  {
   "cell_type": "markdown",
   "metadata": {
    "collapsed": true,
    "id": "Iqcqz5OxRIZx"
   },
   "source": [
    "Versucht mal das ganze in ein File zu packen (also copy/paste in ein file randomgenerator.py). Welche Zeilen brauchen wir? Speichert das File ab und ruft es im Terminal auf:\n",
    "~~~\n",
    "python randomgenerator.py\n",
    "~~~"
   ]
  },
  {
   "cell_type": "code",
   "execution_count": null,
   "metadata": {
    "collapsed": true,
    "id": "g4J42lRsRIZy"
   },
   "outputs": [],
   "source": []
  }
 ],
 "metadata": {
  "colab": {
   "include_colab_link": true,
   "provenance": []
  },
  "kernelspec": {
   "display_name": "Python 3 (ipykernel)",
   "language": "python",
   "name": "python3"
  },
  "language_info": {
   "codemirror_mode": {
    "name": "ipython",
    "version": 3
   },
   "file_extension": ".py",
   "mimetype": "text/x-python",
   "name": "python",
   "nbconvert_exporter": "python",
   "pygments_lexer": "ipython3",
   "version": "3.7.12"
  }
 },
 "nbformat": 4,
 "nbformat_minor": 1
}
