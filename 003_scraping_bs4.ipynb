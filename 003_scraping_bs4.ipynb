{
  "nbformat": 4,
  "nbformat_minor": 0,
  "metadata": {
    "colab": {
      "provenance": [],
      "collapsed_sections": [
        "nswzAJ7UJqVM",
        "rRDx126YK6MN",
        "q1csyjjfGRw0"
      ],
      "include_colab_link": true
    },
    "kernelspec": {
      "name": "python3",
      "display_name": "Python 3"
    },
    "language_info": {
      "name": "python"
    }
  },
  "cells": [
    {
      "cell_type": "markdown",
      "metadata": {
        "id": "view-in-github",
        "colab_type": "text"
      },
      "source": [
        "<a href=\"https://colab.research.google.com/github/fleshgordo/scrapinghub/blob/main/003_scraping_bs4.ipynb\" target=\"_parent\"><img src=\"https://colab.research.google.com/assets/colab-badge.svg\" alt=\"Open In Colab\"/></a>"
      ]
    },
    {
      "cell_type": "markdown",
      "source": [
        "# Scraping a website without an API with Beautifulsoup\n"
      ],
      "metadata": {
        "id": "LxknVYOZFjw1"
      }
    },
    {
      "cell_type": "markdown",
      "source": [
        "## Requesting a website\n",
        "\n",
        "In order to entirely download a webpage and its content we first need to request the server, wait for the response and store it in a python variable. This is achieved with the [requests](https://pypi.org/project/requests/) library. Before using it, we need to import it to our current runtime (this needs to be done only once!)"
      ],
      "metadata": {
        "id": "nswzAJ7UJqVM"
      }
    },
    {
      "cell_type": "code",
      "execution_count": 9,
      "metadata": {
        "id": "BahpnCqCFe5I"
      },
      "outputs": [],
      "source": [
        "import requests"
      ]
    },
    {
      "cell_type": "markdown",
      "source": [
        "Through the [quickstart tutorial](https://requests.readthedocs.io/en/latest/user/quickstart/) we can fetch a website that interests us. In this case we will scrape the very first webpage that went online (in CERN Geneva 1989)"
      ],
      "metadata": {
        "id": "aKuNz-JAKBVn"
      }
    },
    {
      "cell_type": "code",
      "source": [
        "r = requests.get('http://info.cern.ch/hypertext/WWW/TheProject.html')\n",
        "print(r)"
      ],
      "metadata": {
        "colab": {
          "base_uri": "https://localhost:8080/"
        },
        "id": "eXyxzzVSKA39",
        "outputId": "1a6d1789-289c-48f5-9cbf-a03ce2dedd85"
      },
      "execution_count": null,
      "outputs": [
        {
          "output_type": "stream",
          "name": "stdout",
          "text": [
            "<Response [200]>\n"
          ]
        }
      ]
    },
    {
      "cell_type": "markdown",
      "source": [
        "The above code should output `Response [200]`. To output the HTML source code of the page we need to access the `text` property. The response will be stored in a variable called `source`."
      ],
      "metadata": {
        "id": "jZ20yZKsKc83"
      }
    },
    {
      "cell_type": "code",
      "source": [
        "print(r.text)\n",
        "source = r.text"
      ],
      "metadata": {
        "id": "inYzlaMmKoxe"
      },
      "execution_count": null,
      "outputs": []
    },
    {
      "cell_type": "markdown",
      "source": [
        "## BeautifulSoup \n",
        "\n",
        "The code is highly unreadable. Parsing through this source code is tedious and quickly time-consuming. Hence, [Beautifulsoup](https://www.crummy.com/software/BeautifulSoup/bs4/doc/) comes into play. This library is known for extracting data out of web pages. It provides elegant ways of navigating, searching, and modifying the parse tree of HTML and XML files. It commonly saves programmers hours or days of work. So, let's import this library:"
      ],
      "metadata": {
        "id": "rRDx126YK6MN"
      }
    },
    {
      "cell_type": "code",
      "source": [
        "from bs4 import BeautifulSoup"
      ],
      "metadata": {
        "id": "3dxWUjWIK5x1"
      },
      "execution_count": null,
      "outputs": []
    },
    {
      "cell_type": "markdown",
      "source": [
        "Our source code will be loaded into the Beautifulsoup which creates a python object that becomes browsable instead of a basic text string."
      ],
      "metadata": {
        "id": "K_8klqLHMFhM"
      }
    },
    {
      "cell_type": "code",
      "source": [
        "soup = BeautifulSoup(source, 'html.parser')\n",
        "print(soup)"
      ],
      "metadata": {
        "id": "lYvnH3GqMaKS"
      },
      "execution_count": null,
      "outputs": []
    },
    {
      "cell_type": "markdown",
      "source": [
        "With the function `prettify()` the output looks a bit cleaner:"
      ],
      "metadata": {
        "id": "38K38GbvCqC5"
      }
    },
    {
      "cell_type": "code",
      "source": [
        "print(soup.prettify())"
      ],
      "metadata": {
        "id": "4DBEomEZCxZM"
      },
      "execution_count": null,
      "outputs": []
    },
    {
      "cell_type": "markdown",
      "source": [
        "While the output of the new `soup` variable looks pretty much the same as the `source`, its major difference is that it is a python object that contains some functions in order to access the HTML structure. Let's say, we are interested only into the hyperlinks that are present on the page:"
      ],
      "metadata": {
        "id": "unUuKlZzMFY8"
      }
    },
    {
      "cell_type": "code",
      "source": [
        "soup.find_all(\"a\")"
      ],
      "metadata": {
        "id": "OwSro7NMNBs5"
      },
      "execution_count": null,
      "outputs": []
    },
    {
      "cell_type": "markdown",
      "source": [
        "We can also search only for specific HTML tags such as `<h1>` or `<p> ` \n"
      ],
      "metadata": {
        "id": "-0sjzNzNNtIK"
      }
    },
    {
      "cell_type": "code",
      "source": [
        "headlines = soup.find_all(\"h1\")\n",
        "texts = soup.find_all(\"p\")"
      ],
      "metadata": {
        "id": "5S6ub1foN3nT"
      },
      "execution_count": null,
      "outputs": []
    },
    {
      "cell_type": "code",
      "source": [
        "print(headlines)"
      ],
      "metadata": {
        "id": "ACYqUcH_OZw-"
      },
      "execution_count": null,
      "outputs": []
    },
    {
      "cell_type": "markdown",
      "source": [
        "At the time of writing, the webpage consists only of one headline `<h1>`. The text is technically an element of a list that has only one entry. In order to acces the first element of that list, we need to call it's array index:"
      ],
      "metadata": {
        "id": "gNljY5UlbZnk"
      }
    },
    {
      "cell_type": "code",
      "source": [
        "print(headlines[0])"
      ],
      "metadata": {
        "id": "U9EHxORRbwJc",
        "outputId": "4625051e-4816-4634-a5c1-ea2193549ad0",
        "colab": {
          "base_uri": "https://localhost:8080/"
        }
      },
      "execution_count": null,
      "outputs": [
        {
          "output_type": "stream",
          "name": "stdout",
          "text": [
            "<h1>World Wide Web</h1>\n"
          ]
        }
      ]
    },
    {
      "cell_type": "markdown",
      "source": [
        "The text is still wrapped around the html tags h1. If we want to access the \"pure\" text we can make use of the function getText():"
      ],
      "metadata": {
        "id": "nMEm5LhvcOH2"
      }
    },
    {
      "cell_type": "code",
      "source": [
        "print(headlines[0].getText())"
      ],
      "metadata": {
        "id": "VzpS6asDcbCb",
        "outputId": "a9722fde-965b-4c36-d28c-adb136b71880",
        "colab": {
          "base_uri": "https://localhost:8080/"
        }
      },
      "execution_count": null,
      "outputs": [
        {
          "output_type": "stream",
          "name": "stdout",
          "text": [
            "World Wide Web\n"
          ]
        }
      ]
    },
    {
      "cell_type": "markdown",
      "source": [
        "### Summary scraping CERN website\n",
        "\n",
        "To summarize all the actions it took to:\n",
        "\n",
        "1.   fetch the website content\n",
        "2.   transform source code into beautifulsoup element\n",
        "3.   find only h1 tags (titles)\n",
        "4.   print only the headline\n",
        "\n",
        "we could write:"
      ],
      "metadata": {
        "id": "EYVf_7Rqcg3q"
      }
    },
    {
      "cell_type": "code",
      "source": [
        "import requests # import necessary libraries\n",
        "from bs4 import BeautifulSoup\n",
        "\n",
        "r = requests.get('http://info.cern.ch/hypertext/WWW/TheProject.html') # fetch the website\n",
        "source = r.text # store its response in variables source\n",
        "\n",
        "soup = BeautifulSoup(source, 'html.parser') # parse the webpage source into a bs4 soup object \n",
        "headlines = soup.find_all(\"h1\") # search for h1 tags\n",
        "\n",
        "print(headlines[0].getText()) # get the text for the first found h1 tag"
      ],
      "metadata": {
        "id": "TTjkoHsGcza8",
        "outputId": "cea02bfc-a788-4fb2-9978-34101aac9843",
        "colab": {
          "base_uri": "https://localhost:8080/"
        }
      },
      "execution_count": null,
      "outputs": [
        {
          "output_type": "stream",
          "name": "stdout",
          "text": [
            "World Wide Web\n"
          ]
        }
      ]
    },
    {
      "cell_type": "markdown",
      "source": [
        "Let's look only at the links that are present on the website:"
      ],
      "metadata": {
        "id": "OPNENGrqdese"
      }
    },
    {
      "cell_type": "code",
      "source": [
        "links = soup.find_all(\"a\") # find all links on webpage\n",
        "print(links[0].getText()) # show text of first link in list"
      ],
      "metadata": {
        "id": "RH9jXHqtmWQW",
        "outputId": "cab72c3e-989c-40a1-a817-842a0c120894",
        "colab": {
          "base_uri": "https://localhost:8080/"
        }
      },
      "execution_count": null,
      "outputs": [
        {
          "output_type": "stream",
          "name": "stdout",
          "text": [
            "\n",
            "hypermedia\n"
          ]
        }
      ]
    },
    {
      "cell_type": "markdown",
      "source": [
        "There are more than one link in the webpage source. To see how many elements are in that list that we call `links`  we can print its amount of elements with the `len()` function:"
      ],
      "metadata": {
        "id": "tP6GG3v4dryd"
      }
    },
    {
      "cell_type": "code",
      "source": [
        "print(len(links))"
      ],
      "metadata": {
        "id": "XaWHBdWsd6-V",
        "outputId": "3b490ef0-da9c-474f-f923-6298ea22cfb2",
        "colab": {
          "base_uri": "https://localhost:8080/"
        }
      },
      "execution_count": null,
      "outputs": [
        {
          "output_type": "stream",
          "name": "stdout",
          "text": [
            "25\n"
          ]
        }
      ]
    },
    {
      "cell_type": "markdown",
      "source": [
        "At the time of writing, there are 25 links. Let's create a loop of that list. Study this [python tutorial](https://www.w3schools.com/python/python_lists_loop.asp) for looping a list:"
      ],
      "metadata": {
        "id": "Ic7z9IuDd9VJ"
      }
    },
    {
      "cell_type": "code",
      "source": [
        "for link in links:\n",
        "  print(link)"
      ],
      "metadata": {
        "id": "ouGuGLWleFrZ"
      },
      "execution_count": null,
      "outputs": []
    },
    {
      "cell_type": "markdown",
      "source": [
        "We can again use the `getText()` function to extract only the names of the link. See the [documentation for beautifulsoup](https://www.crummy.com/software/BeautifulSoup/bs4/doc/) to discover other useful functions for extracting data."
      ],
      "metadata": {
        "id": "9JukK4uKecHR"
      }
    },
    {
      "cell_type": "code",
      "source": [
        "for link in links:\n",
        "  print(link.getText())"
      ],
      "metadata": {
        "id": "ES27m8-Ae0Zw"
      },
      "execution_count": null,
      "outputs": []
    },
    {
      "cell_type": "markdown",
      "source": [
        "### Fake-headers\n",
        "\n",
        "It might be important now to be careful about sending the right user-agent since some website won't serve the content if the server detects that the request is coming from a python script. In this case, we need to adapt the request function a little bit. \n",
        "\n",
        "First, we need to define \"fake\" header information with a user-agent that looks inconspicous (chrome webbrowser on a macintosh computer). I copy/pasted this header from a standard web-browser.  "
      ],
      "metadata": {
        "id": "UiYNByDke7sD"
      }
    },
    {
      "cell_type": "code",
      "source": [
        "headers = {'User-Agent': 'Mozilla/5.0 (Macintosh; Intel Mac OS X 10_10_1) AppleWebKit/537.36 (KHTML, like Gecko) Chrome/39.0.2171.95 Safari/537.36'}\n"
      ],
      "metadata": {
        "id": "w0Qkxhy_frd4"
      },
      "execution_count": null,
      "outputs": []
    },
    {
      "cell_type": "markdown",
      "source": [
        "This headers variable needs to be send together with the requests function that fetches the website. That's it! No one will think again that you are a bot! Be sure to always define that fake-header in your requests:"
      ],
      "metadata": {
        "id": "ePNHSG9af9k2"
      }
    },
    {
      "cell_type": "code",
      "source": [
        "r = requests.get(\"https://google.ch/\",headers=headers) # fetch the website"
      ],
      "metadata": {
        "id": "1G0-CXO7gEwR"
      },
      "execution_count": null,
      "outputs": []
    },
    {
      "cell_type": "markdown",
      "source": [
        "### Scrape a newspage\n",
        "\n",
        "In this example we will scrape a newspaper website and try to extract only the headlines.\n"
      ],
      "metadata": {
        "id": "8gpkQYHWfuoW"
      }
    },
    {
      "cell_type": "code",
      "source": [
        "import requests # import necessary libraries\n",
        "from bs4 import BeautifulSoup\n",
        "\n",
        "my_url = \"https://nzz.ch/\"\n",
        "\n",
        "headers = {'User-Agent': 'Mozilla/5.0 (Macintosh; Intel Mac OS X 10_10_1) AppleWebKit/537.36 (KHTML, like Gecko) Chrome/39.0.2171.95 Safari/537.36'}\n",
        "\n",
        "r = requests.get(my_url,headers=headers) # fetch the website\n",
        "source = r.text # store its response in variables source\n",
        "\n",
        "soup = BeautifulSoup(source, 'html.parser') # parse the webpage source into a bs4 soup object \n",
        "print(soup.prettify())\n"
      ],
      "metadata": {
        "id": "6OhIVkI-fHzr"
      },
      "execution_count": null,
      "outputs": []
    },
    {
      "cell_type": "markdown",
      "source": [
        "Have a look at the page source in the web-inspector first to analyze the website. As a reminder on how to use web inspector watch this [tutorial](https://www.youtube.com/watch?v=TuZJD-lKjCo)"
      ],
      "metadata": {
        "id": "f7l06DHPJSN8"
      }
    },
    {
      "cell_type": "code",
      "source": [
        "\n",
        "# to extract only the teaser titles from the news, it became clear\n",
        "# that all headlines are in <h2> tags that contained the class=\"teaser__title\" attribute\n",
        "# with bs4 one can filter only those tags with the line below:\n",
        "\n",
        "teasers = soup.find_all(\"h2\", {\"class\": \"teaser__title\"}) \n",
        "#print(teasers)\n",
        "print(f\"there are {len(teasers)} headlines on the page\") # with len we get the length of the list\n",
        "for teaser in teasers:\n",
        "  print(teaser.getText())"
      ],
      "metadata": {
        "id": "VLZOBQ7tIVkh"
      },
      "execution_count": null,
      "outputs": []
    },
    {
      "cell_type": "markdown",
      "source": [
        "Can you try to find a simple website and extract some information from it? Make sure to not choose a too complex page or a platform where you need to login. \n",
        "\n",
        "Start with this code snippet:"
      ],
      "metadata": {
        "id": "d2gnfWSgeMbm"
      }
    },
    {
      "cell_type": "code",
      "source": [
        "import requests # import necessary libraries\n",
        "from bs4 import BeautifulSoup\n",
        "\n",
        "my_url = \"YOUR_URL_HERE\"\n",
        "\n",
        "headers = {'User-Agent': 'Mozilla/5.0 (Macintosh; Intel Mac OS X 10_10_1) AppleWebKit/537.36 (KHTML, like Gecko) Chrome/39.0.2171.95 Safari/537.36'}\n",
        "\n",
        "r = requests.get(my_url,headers=headers) # fetch the website\n",
        "source = r.text # store its response in variables source\n",
        "\n",
        "soup = BeautifulSoup(source, 'html.parser') # parse the webpage source into a bs4 soup object \n",
        "print(soup.prettify())"
      ],
      "metadata": {
        "id": "Ig8WGEqxeQeK"
      },
      "execution_count": null,
      "outputs": []
    },
    {
      "cell_type": "code",
      "source": [
        "# continue to analyze your soup here:\n",
        "\n"
      ],
      "metadata": {
        "id": "VpNKCYV4eTrL"
      },
      "execution_count": null,
      "outputs": []
    },
    {
      "cell_type": "markdown",
      "source": [
        "## Saving output to a file\n",
        "\n",
        "To write all headlines into CSV file, we can use the python csv module. This is for demonstration only and the CSV will only contain one column, but the principles are the same if you have more data to write to this file"
      ],
      "metadata": {
        "id": "r9GEyt3yc3YF"
      }
    },
    {
      "cell_type": "code",
      "source": [
        "import csv\n",
        "\n",
        "outputfile = \"sample_data/output.csv\" # filepath\n",
        "\n",
        "# Open a CSV file for writing\n",
        "with open(outputfile, 'w', newline='') as file:\n",
        "    # Create a writer object\n",
        "    writer = csv.writer(file)\n",
        "\n",
        "    # Write each string to a new row in the CSV file\n",
        "    for teaser in teasers:\n",
        "        writer.writerow([teaser.getText()])"
      ],
      "metadata": {
        "id": "zZ6VyEg3dGTn"
      },
      "execution_count": null,
      "outputs": []
    },
    {
      "cell_type": "markdown",
      "source": [
        "# Requesting a website that uses Javascript\n",
        "\n",
        "Many modern websites uses Javascript to render elements dynamic. One strategy is control a web-browser by using the selenium library. This became difficult to run directly in the Google Colab environment. Another library promises to render Javascript is called [requests-html](https://requests.readthedocs.io/projects/requests-html/en/latest/). It is very similar to the requests commands we already used. First, we need to install the library"
      ],
      "metadata": {
        "id": "TB6TSLqK9gJm"
      }
    },
    {
      "cell_type": "code",
      "source": [
        "!pip install requests-html"
      ],
      "metadata": {
        "id": "gWK5AZ59_mb0"
      },
      "execution_count": null,
      "outputs": []
    },
    {
      "cell_type": "markdown",
      "source": [
        "After importing the module, we need to create a HTML session:"
      ],
      "metadata": {
        "id": "vGb2Nu_kGYs5"
      }
    },
    {
      "cell_type": "code",
      "source": [
        "from requests_html import HTMLSession\n",
        "from bs4 import BeautifulSoup\n",
        "\n",
        "session = HTMLSession()"
      ],
      "metadata": {
        "id": "VP71wZxU_nzi"
      },
      "execution_count": 3,
      "outputs": []
    },
    {
      "cell_type": "markdown",
      "source": [
        "As a test, we will visit a webpage that loads images with Javascript. In case of the usual requests library the scraped webpage won't necessarily contain the img tags. Let's try"
      ],
      "metadata": {
        "id": "G1R70q7cGlaQ"
      }
    },
    {
      "cell_type": "code",
      "source": [
        "url = \"https://enviragallery.com/demo/lazy-loading-demo/\" # url to fetch\n",
        "r = requests.get(url) # sending the request\n",
        "source = r.text # store its response in variables source\n",
        "soup = BeautifulSoup(source, 'html.parser') # parse the webpage source into a bs4 soup object"
      ],
      "metadata": {
        "id": "SpY5YmAt_r59"
      },
      "execution_count": 16,
      "outputs": []
    },
    {
      "cell_type": "code",
      "source": [
        "print(len(soup.find_all(\"img\")))\n",
        "print(soup.find_all(\"img\"))"
      ],
      "metadata": {
        "id": "sDZfvYNk_xW8",
        "outputId": "a59b1c9f-4c0a-49c0-ac91-0441e9a72b45",
        "colab": {
          "base_uri": "https://localhost:8080/"
        }
      },
      "execution_count": 18,
      "outputs": [
        {
          "output_type": "stream",
          "name": "stdout",
          "text": [
            "0\n",
            "[]\n"
          ]
        }
      ]
    },
    {
      "cell_type": "markdown",
      "source": [
        "As expected, the scraper won't get any <img> tags since they are all loaded dynamically through javascript. The same code with the requests-html library looks like:"
      ],
      "metadata": {
        "id": "ZxxGbqS6HAc0"
      }
    },
    {
      "cell_type": "code",
      "source": [
        "url = \"https://enviragallery.com/demo/lazy-loading-demo/\" # url to fetch\n",
        "r = session.get(url) # sending the request through HTML session\n",
        "source = r.text # store its response in variables source\n",
        "soup = BeautifulSoup(source, 'html.parser') # parse the webpage source into a bs4 soup object"
      ],
      "metadata": {
        "id": "JM2-m7AXG17r"
      },
      "execution_count": 19,
      "outputs": []
    },
    {
      "cell_type": "code",
      "source": [
        "print(len(soup.find_all(\"img\")))\n",
        "print(soup.find_all(\"img\"))"
      ],
      "metadata": {
        "id": "tD_S34NiHmI4",
        "outputId": "603fac6d-497f-48a8-d902-d29961481b6b",
        "colab": {
          "base_uri": "https://localhost:8080/"
        }
      },
      "execution_count": 20,
      "outputs": [
        {
          "output_type": "stream",
          "name": "stdout",
          "text": [
            "43\n",
            "[<img height=\"1\" src=\"https://www.facebook.com/tr?id=511410959261450&amp;ev=PageView &amp;noscript=1\" width=\"1\"/>, <img data-lazy-src=\"https://enviragallery.com/wp-content/themes/envira-gallery/images/logo.png\" src=\"data:image/svg+xml,%3Csvg%20xmlns='http://www.w3.org/2000/svg'%20viewBox='0%200%200%200'%3E%3C/svg%3E\"/>, <img src=\"https://enviragallery.com/wp-content/themes/envira-gallery/images/logo.png\"/>, <img alt=\"\" class=\"envira-gallery-image envira-gallery-image-1 envira-lazy\" data-caption=\"\" data-envira-gallery-id=\"225278\" data-envira-index=\"0\" data-envira-item-id=\"214199\" data-envira-src=\"https://enviragallery.com/wp-content/uploads/2017/03/zion-canyon-overlook-1024x659.jpg\" data-envira-srcset=\"https://enviragallery.com/wp-content/uploads/2017/03/zion-canyon-overlook-1024x659.jpg 400w,https://enviragallery.com/wp-content/uploads/2017/03/zion-canyon-overlook-1024x659.jpg 2x\" data-envirabox=\"225278\" data-no-lazy=\"1\" data-title=\"Zion - Canyon Overlook\" draggable=\"false\" height=\"480\" id=\"envira-gallery-image-214199\" itemprop=\"thumbnailUrl\" onmousedown=\"event.preventDefault()\" src=\"https://enviragallery.com/wp-content/uploads/2017/03/zion-canyon-overlook-1024x659.jpg\" srcset=\"data:image/gif;base64,R0lGODlhAQABAIAAAP///////yH5BAEKAAEALAAAAAABAAEAAAICTAEAOw==\" tabindex=\"-1\" title=\"Zion - Canyon Overlook\" width=\"640\"/>, <img alt=\"\" class=\"envira-gallery-image envira-gallery-image-2 envira-lazy\" data-caption=\"\" data-envira-gallery-id=\"225278\" data-envira-index=\"1\" data-envira-item-id=\"214197\" data-envira-src=\"https://enviragallery.com/wp-content/uploads/2017/03/sunset-view-bryce-canyon-1024x419.jpg\" data-envira-srcset=\"https://enviragallery.com/wp-content/uploads/2017/03/sunset-view-bryce-canyon-1024x419.jpg 400w,https://enviragallery.com/wp-content/uploads/2017/03/sunset-view-bryce-canyon-1024x419.jpg 2x\" data-envirabox=\"225278\" data-no-lazy=\"1\" data-title=\"Sunset View - Bryce Canyon\" draggable=\"false\" height=\"480\" id=\"envira-gallery-image-214197\" itemprop=\"thumbnailUrl\" onmousedown=\"event.preventDefault()\" src=\"https://enviragallery.com/wp-content/uploads/2017/03/sunset-view-bryce-canyon-1024x419.jpg\" srcset=\"data:image/gif;base64,R0lGODlhAQABAIAAAP///////yH5BAEKAAEALAAAAAABAAEAAAICTAEAOw==\" tabindex=\"-1\" title=\"Sunset View - Bryce Canyon\" width=\"640\"/>, <img alt=\"\" class=\"envira-gallery-image envira-gallery-image-3 envira-lazy\" data-caption=\"\" data-envira-gallery-id=\"225278\" data-envira-index=\"2\" data-envira-item-id=\"214196\" data-envira-src=\"https://enviragallery.com/wp-content/uploads/2017/03/random-highway-1024x668.jpg\" data-envira-srcset=\"https://enviragallery.com/wp-content/uploads/2017/03/random-highway-1024x668.jpg 400w,https://enviragallery.com/wp-content/uploads/2017/03/random-highway-1024x668.jpg 2x\" data-envirabox=\"225278\" data-no-lazy=\"1\" data-title=\"Some Random Highway in Colorado - Because why not stop for mountains and stars\" draggable=\"false\" height=\"480\" id=\"envira-gallery-image-214196\" itemprop=\"thumbnailUrl\" onmousedown=\"event.preventDefault()\" src=\"https://enviragallery.com/wp-content/uploads/2017/03/random-highway-1024x668.jpg\" srcset=\"data:image/gif;base64,R0lGODlhAQABAIAAAP///////yH5BAEKAAEALAAAAAABAAEAAAICTAEAOw==\" tabindex=\"-1\" title=\"Some Random Highway in Colorado - Because why not stop for mountains and stars\" width=\"640\"/>, <img alt=\"\" class=\"envira-gallery-image envira-gallery-image-4 envira-lazy\" data-caption=\"\" data-envira-gallery-id=\"225278\" data-envira-index=\"3\" data-envira-item-id=\"214189\" data-envira-src=\"https://enviragallery.com/wp-content/uploads/2017/03/looking-up-787x1024.jpg\" data-envira-srcset=\"https://enviragallery.com/wp-content/uploads/2017/03/looking-up-787x1024.jpg 400w,https://enviragallery.com/wp-content/uploads/2017/03/looking-up-787x1024.jpg 2x\" data-envirabox=\"225278\" data-no-lazy=\"1\" data-title=\"Looking Up\" draggable=\"false\" height=\"480\" id=\"envira-gallery-image-214189\" itemprop=\"thumbnailUrl\" onmousedown=\"event.preventDefault()\" src=\"https://enviragallery.com/wp-content/uploads/2017/03/looking-up-787x1024.jpg\" srcset=\"data:image/gif;base64,R0lGODlhAQABAIAAAP///////yH5BAEKAAEALAAAAAABAAEAAAICTAEAOw==\" tabindex=\"-1\" title=\"Looking Up\" width=\"640\"/>, <img alt=\"\" class=\"envira-gallery-image envira-gallery-image-5 envira-lazy\" data-caption=\"\" data-envira-gallery-id=\"225278\" data-envira-index=\"4\" data-envira-item-id=\"214190\" data-envira-src=\"https://enviragallery.com/wp-content/uploads/2017/03/mequite-dunes-1024x683.jpg\" data-envira-srcset=\"https://enviragallery.com/wp-content/uploads/2017/03/mequite-dunes-1024x683.jpg 400w,https://enviragallery.com/wp-content/uploads/2017/03/mequite-dunes-1024x683.jpg 2x\" data-envirabox=\"225278\" data-no-lazy=\"1\" data-title=\"mequite-dunes\" draggable=\"false\" height=\"480\" id=\"envira-gallery-image-214190\" itemprop=\"thumbnailUrl\" onmousedown=\"event.preventDefault()\" src=\"https://enviragallery.com/wp-content/uploads/2017/03/mequite-dunes-1024x683.jpg\" srcset=\"data:image/gif;base64,R0lGODlhAQABAIAAAP///////yH5BAEKAAEALAAAAAABAAEAAAICTAEAOw==\" tabindex=\"-1\" title=\"mequite-dunes\" width=\"640\"/>, <img alt=\"\" class=\"envira-gallery-image envira-gallery-image-6 envira-lazy\" data-caption=\"\" data-envira-gallery-id=\"225278\" data-envira-index=\"5\" data-envira-item-id=\"214185\" data-envira-src=\"https://enviragallery.com/wp-content/uploads/2017/03/experience-1024x427.jpg\" data-envira-srcset=\"https://enviragallery.com/wp-content/uploads/2017/03/experience-1024x427.jpg 400w,https://enviragallery.com/wp-content/uploads/2017/03/experience-1024x427.jpg 2x\" data-envirabox=\"225278\" data-no-lazy=\"1\" data-title=\"It's About the Experience\" draggable=\"false\" height=\"480\" id=\"envira-gallery-image-214185\" itemprop=\"thumbnailUrl\" onmousedown=\"event.preventDefault()\" src=\"https://enviragallery.com/wp-content/uploads/2017/03/experience-1024x427.jpg\" srcset=\"data:image/gif;base64,R0lGODlhAQABAIAAAP///////yH5BAEKAAEALAAAAAABAAEAAAICTAEAOw==\" tabindex=\"-1\" title=\"It's About the Experience\" width=\"640\"/>, <img alt=\"\" class=\"envira-gallery-image envira-gallery-image-7 envira-lazy\" data-caption=\"\" data-envira-gallery-id=\"225278\" data-envira-index=\"6\" data-envira-item-id=\"214187\" data-envira-src=\"https://enviragallery.com/wp-content/uploads/2017/03/great-sand-dunes-star-trails-1024x683.jpg\" data-envira-srcset=\"https://enviragallery.com/wp-content/uploads/2017/03/great-sand-dunes-star-trails-1024x683.jpg 400w,https://enviragallery.com/wp-content/uploads/2017/03/great-sand-dunes-star-trails-1024x683.jpg 2x\" data-envirabox=\"225278\" data-no-lazy=\"1\" data-title=\"Great Sand Dunes National Park - Star Trails\" draggable=\"false\" height=\"480\" id=\"envira-gallery-image-214187\" itemprop=\"thumbnailUrl\" onmousedown=\"event.preventDefault()\" src=\"https://enviragallery.com/wp-content/uploads/2017/03/great-sand-dunes-star-trails-1024x683.jpg\" srcset=\"data:image/gif;base64,R0lGODlhAQABAIAAAP///////yH5BAEKAAEALAAAAAABAAEAAAICTAEAOw==\" tabindex=\"-1\" title=\"Great Sand Dunes National Park - Star Trails\" width=\"640\"/>, <img alt=\"\" class=\"envira-gallery-image envira-gallery-image-8 envira-lazy\" data-caption=\"\" data-envira-gallery-id=\"225278\" data-envira-index=\"7\" data-envira-item-id=\"203002\" data-envira-src=\"https://enviragallery.com/wp-content/uploads/2017/02/pexels-photo-280189-1024x683.jpg\" data-envira-srcset=\"https://enviragallery.com/wp-content/uploads/2017/02/pexels-photo-280189-1024x683.jpg 400w,https://enviragallery.com/wp-content/uploads/2017/02/pexels-photo-280189-1024x683.jpg 2x\" data-envirabox=\"225278\" data-no-lazy=\"1\" data-title=\"pexels-photo-280189\" draggable=\"false\" height=\"480\" id=\"envira-gallery-image-203002\" itemprop=\"thumbnailUrl\" onmousedown=\"event.preventDefault()\" src=\"https://enviragallery.com/wp-content/uploads/2017/02/pexels-photo-280189-1024x683.jpg\" srcset=\"data:image/gif;base64,R0lGODlhAQABAIAAAP///////yH5BAEKAAEALAAAAAABAAEAAAICTAEAOw==\" tabindex=\"-1\" title=\"pexels-photo-280189\" width=\"640\"/>, <img alt=\"\" class=\"envira-gallery-image envira-gallery-image-9 envira-lazy\" data-caption=\"\" data-envira-gallery-id=\"225278\" data-envira-index=\"8\" data-envira-item-id=\"202999\" data-envira-src=\"https://enviragallery.com/wp-content/uploads/2017/02/pexels-photo-157233-1024x576.jpg\" data-envira-srcset=\"https://enviragallery.com/wp-content/uploads/2017/02/pexels-photo-157233-1024x576.jpg 400w,https://enviragallery.com/wp-content/uploads/2017/02/pexels-photo-157233-1024x576.jpg 2x\" data-envirabox=\"225278\" data-no-lazy=\"1\" data-title=\"pexels-photo-157233\" draggable=\"false\" height=\"480\" id=\"envira-gallery-image-202999\" itemprop=\"thumbnailUrl\" onmousedown=\"event.preventDefault()\" src=\"https://enviragallery.com/wp-content/uploads/2017/02/pexels-photo-157233-1024x576.jpg\" srcset=\"data:image/gif;base64,R0lGODlhAQABAIAAAP///////yH5BAEKAAEALAAAAAABAAEAAAICTAEAOw==\" tabindex=\"-1\" title=\"pexels-photo-157233\" width=\"640\"/>, <img alt=\"\" class=\"envira-gallery-image envira-gallery-image-10 envira-lazy\" data-caption=\"\" data-envira-gallery-id=\"225278\" data-envira-index=\"9\" data-envira-item-id=\"143768\" data-envira-src=\"https://enviragallery.com/wp-content/uploads/2016/09/water2.jpeg\" data-envira-srcset=\"https://enviragallery.com/wp-content/uploads/2016/09/water2.jpeg 400w,https://enviragallery.com/wp-content/uploads/2016/09/water2.jpeg 2x\" data-envirabox=\"225278\" data-no-lazy=\"1\" data-title=\"water2\" draggable=\"false\" height=\"480\" id=\"envira-gallery-image-143768\" itemprop=\"thumbnailUrl\" onmousedown=\"event.preventDefault()\" src=\"https://enviragallery.com/wp-content/uploads/2016/09/water2.jpeg\" srcset=\"data:image/gif;base64,R0lGODlhAQABAIAAAP///////yH5BAEKAAEALAAAAAABAAEAAAICTAEAOw==\" tabindex=\"-1\" title=\"water2\" width=\"640\"/>, <img alt=\"\" class=\"envira-gallery-image envira-gallery-image-11 envira-lazy\" data-caption=\"\" data-envira-gallery-id=\"225278\" data-envira-index=\"10\" data-envira-item-id=\"143767\" data-envira-src=\"https://enviragallery.com/wp-content/uploads/2016/09/water.jpeg\" data-envira-srcset=\"https://enviragallery.com/wp-content/uploads/2016/09/water.jpeg 400w,https://enviragallery.com/wp-content/uploads/2016/09/water.jpeg 2x\" data-envirabox=\"225278\" data-no-lazy=\"1\" data-title=\"water\" draggable=\"false\" height=\"480\" id=\"envira-gallery-image-143767\" itemprop=\"thumbnailUrl\" onmousedown=\"event.preventDefault()\" src=\"https://enviragallery.com/wp-content/uploads/2016/09/water.jpeg\" srcset=\"data:image/gif;base64,R0lGODlhAQABAIAAAP///////yH5BAEKAAEALAAAAAABAAEAAAICTAEAOw==\" tabindex=\"-1\" title=\"water\" width=\"640\"/>, <img alt=\"\" class=\"envira-gallery-image envira-gallery-image-12 envira-lazy\" data-caption=\"\" data-envira-gallery-id=\"225278\" data-envira-index=\"11\" data-envira-item-id=\"143762\" data-envira-src=\"https://enviragallery.com/wp-content/uploads/2016/09/pexels-photo-120153-medium.jpeg\" data-envira-srcset=\"https://enviragallery.com/wp-content/uploads/2016/09/pexels-photo-120153-medium.jpeg 400w,https://enviragallery.com/wp-content/uploads/2016/09/pexels-photo-120153-medium.jpeg 2x\" data-envirabox=\"225278\" data-no-lazy=\"1\" data-title=\"pexels-photo-120153-medium\" draggable=\"false\" height=\"480\" id=\"envira-gallery-image-143762\" itemprop=\"thumbnailUrl\" onmousedown=\"event.preventDefault()\" src=\"https://enviragallery.com/wp-content/uploads/2016/09/pexels-photo-120153-medium.jpeg\" srcset=\"data:image/gif;base64,R0lGODlhAQABAIAAAP///////yH5BAEKAAEALAAAAAABAAEAAAICTAEAOw==\" tabindex=\"-1\" title=\"pexels-photo-120153-medium\" width=\"640\"/>, <img alt=\"\" class=\"envira-gallery-image envira-gallery-image-13 envira-lazy\" data-caption=\"\" data-envira-gallery-id=\"225278\" data-envira-index=\"12\" data-envira-item-id=\"143763\" data-envira-src=\"https://enviragallery.com/wp-content/uploads/2016/09/pexels-photo-127753-medium-1024x281.jpeg\" data-envira-srcset=\"https://enviragallery.com/wp-content/uploads/2016/09/pexels-photo-127753-medium-1024x281.jpeg 400w,https://enviragallery.com/wp-content/uploads/2016/09/pexels-photo-127753-medium-1024x281.jpeg 2x\" data-envirabox=\"225278\" data-no-lazy=\"1\" data-title=\"pexels-photo-127753-medium\" draggable=\"false\" height=\"480\" id=\"envira-gallery-image-143763\" itemprop=\"thumbnailUrl\" onmousedown=\"event.preventDefault()\" src=\"https://enviragallery.com/wp-content/uploads/2016/09/pexels-photo-127753-medium-1024x281.jpeg\" srcset=\"data:image/gif;base64,R0lGODlhAQABAIAAAP///////yH5BAEKAAEALAAAAAABAAEAAAICTAEAOw==\" tabindex=\"-1\" title=\"pexels-photo-127753-medium\" width=\"640\"/>, <img alt=\"\" class=\"envira-gallery-image envira-gallery-image-14 envira-lazy\" data-caption=\"\" data-envira-gallery-id=\"225278\" data-envira-index=\"13\" data-envira-item-id=\"143765\" data-envira-src=\"https://enviragallery.com/wp-content/uploads/2016/09/pexels-photo-131032-medium.png\" data-envira-srcset=\"https://enviragallery.com/wp-content/uploads/2016/09/pexels-photo-131032-medium.png 400w,https://enviragallery.com/wp-content/uploads/2016/09/pexels-photo-131032-medium.png 2x\" data-envirabox=\"225278\" data-no-lazy=\"1\" data-title=\"pexels-photo-131032-medium\" draggable=\"false\" height=\"480\" id=\"envira-gallery-image-143765\" itemprop=\"thumbnailUrl\" onmousedown=\"event.preventDefault()\" src=\"https://enviragallery.com/wp-content/uploads/2016/09/pexels-photo-131032-medium.png\" srcset=\"data:image/gif;base64,R0lGODlhAQABAIAAAP///////yH5BAEKAAEALAAAAAABAAEAAAICTAEAOw==\" tabindex=\"-1\" title=\"pexels-photo-131032-medium\" width=\"640\"/>, <img alt=\"\" class=\"envira-gallery-image envira-gallery-image-15 envira-lazy\" data-caption=\"\" data-envira-gallery-id=\"225278\" data-envira-index=\"14\" data-envira-item-id=\"143760\" data-envira-src=\"https://enviragallery.com/wp-content/uploads/2016/09/night.jpg\" data-envira-srcset=\"https://enviragallery.com/wp-content/uploads/2016/09/night.jpg 400w,https://enviragallery.com/wp-content/uploads/2016/09/night.jpg 2x\" data-envirabox=\"225278\" data-no-lazy=\"1\" data-title=\"night\" draggable=\"false\" height=\"480\" id=\"envira-gallery-image-143760\" itemprop=\"thumbnailUrl\" onmousedown=\"event.preventDefault()\" src=\"https://enviragallery.com/wp-content/uploads/2016/09/night.jpg\" srcset=\"data:image/gif;base64,R0lGODlhAQABAIAAAP///////yH5BAEKAAEALAAAAAABAAEAAAICTAEAOw==\" tabindex=\"-1\" title=\"night\" width=\"640\"/>, <img alt=\"Footsteps\" class=\"envira-gallery-image envira-gallery-image-16 envira-lazy\" data-caption=\"Footsteps\" data-envira-gallery-id=\"225278\" data-envira-index=\"15\" data-envira-item-id=\"137511\" data-envira-src=\"https://enviragallery.com/wp-content/uploads/2016/08/pexels-photo-1-1024x683.jpg\" data-envira-srcset=\"https://enviragallery.com/wp-content/uploads/2016/08/pexels-photo-1-1024x683.jpg 400w,https://enviragallery.com/wp-content/uploads/2016/08/pexels-photo-1-1024x683.jpg 2x\" data-envirabox=\"225278\" data-no-lazy=\"1\" data-title=\"pexels-photo-(1)\" draggable=\"false\" height=\"480\" id=\"envira-gallery-image-137511\" itemprop=\"thumbnailUrl\" onmousedown=\"event.preventDefault()\" src=\"https://enviragallery.com/wp-content/uploads/2016/08/pexels-photo-1-1024x683.jpg\" srcset=\"data:image/gif;base64,R0lGODlhAQABAIAAAP///////yH5BAEKAAEALAAAAAABAAEAAAICTAEAOw==\" tabindex=\"-1\" title=\"pexels-photo-(1)\" width=\"640\"/>, <img alt=\"Where Sea &amp; Sky Meet\" class=\"envira-gallery-image envira-gallery-image-17 envira-lazy\" data-caption=\"Where Sea &amp; Sky Meet\" data-envira-gallery-id=\"225278\" data-envira-index=\"16\" data-envira-item-id=\"137510\" data-envira-src=\"https://enviragallery.com/wp-content/uploads/2016/08/jetty-landing-stage-sea-sky-1024x683.jpg\" data-envira-srcset=\"https://enviragallery.com/wp-content/uploads/2016/08/jetty-landing-stage-sea-sky-1024x683.jpg 400w,https://enviragallery.com/wp-content/uploads/2016/08/jetty-landing-stage-sea-sky-1024x683.jpg 2x\" data-envirabox=\"225278\" data-no-lazy=\"1\" data-title=\"jetty-landing-stage-sea-sky\" draggable=\"false\" height=\"480\" id=\"envira-gallery-image-137510\" itemprop=\"thumbnailUrl\" onmousedown=\"event.preventDefault()\" src=\"https://enviragallery.com/wp-content/uploads/2016/08/jetty-landing-stage-sea-sky-1024x683.jpg\" srcset=\"data:image/gif;base64,R0lGODlhAQABAIAAAP///////yH5BAEKAAEALAAAAAABAAEAAAICTAEAOw==\" tabindex=\"-1\" title=\"jetty-landing-stage-sea-sky\" width=\"640\"/>, <img alt=\"\" class=\"envira-gallery-image envira-gallery-image-18 envira-lazy\" data-caption=\"\" data-envira-gallery-id=\"225278\" data-envira-index=\"17\" data-envira-item-id=\"127819\" data-envira-src=\"https://enviragallery.com/wp-content/uploads/2016/07/desert-1024x768.jpg\" data-envira-srcset=\"https://enviragallery.com/wp-content/uploads/2016/07/desert-1024x768.jpg 400w,https://enviragallery.com/wp-content/uploads/2016/07/desert-1024x768.jpg 2x\" data-envirabox=\"225278\" data-no-lazy=\"1\" data-title=\"desert\" draggable=\"false\" height=\"480\" id=\"envira-gallery-image-127819\" itemprop=\"thumbnailUrl\" onmousedown=\"event.preventDefault()\" src=\"https://enviragallery.com/wp-content/uploads/2016/07/desert-1024x768.jpg\" srcset=\"data:image/gif;base64,R0lGODlhAQABAIAAAP///////yH5BAEKAAEALAAAAAABAAEAAAICTAEAOw==\" tabindex=\"-1\" title=\"desert\" width=\"640\"/>, <img alt=\"\" class=\"envira-gallery-image envira-gallery-image-19 envira-lazy\" data-caption=\"\" data-envira-gallery-id=\"225278\" data-envira-index=\"18\" data-envira-item-id=\"214184\" data-envira-src=\"https://enviragallery.com/wp-content/uploads/2017/03/badwater-basin-1024x683.jpg\" data-envira-srcset=\"https://enviragallery.com/wp-content/uploads/2017/03/badwater-basin-1024x683.jpg 400w,https://enviragallery.com/wp-content/uploads/2017/03/badwater-basin-1024x683.jpg 2x\" data-envirabox=\"225278\" data-no-lazy=\"1\" data-title=\"Badwater Basin\" draggable=\"false\" height=\"480\" id=\"envira-gallery-image-214184\" itemprop=\"thumbnailUrl\" onmousedown=\"event.preventDefault()\" src=\"https://enviragallery.com/wp-content/uploads/2017/03/badwater-basin-1024x683.jpg\" srcset=\"data:image/gif;base64,R0lGODlhAQABAIAAAP///////yH5BAEKAAEALAAAAAABAAEAAAICTAEAOw==\" tabindex=\"-1\" title=\"Badwater Basin\" width=\"640\"/>, <img alt=\"\" class=\"envira-gallery-image envira-gallery-image-20 envira-lazy\" data-caption=\"\" data-envira-gallery-id=\"225278\" data-envira-index=\"19\" data-envira-item-id=\"214186\" data-envira-src=\"https://enviragallery.com/wp-content/uploads/2017/03/great-sand-dunes-np-1024x448.jpg\" data-envira-srcset=\"https://enviragallery.com/wp-content/uploads/2017/03/great-sand-dunes-np-1024x448.jpg 400w,https://enviragallery.com/wp-content/uploads/2017/03/great-sand-dunes-np-1024x448.jpg 2x\" data-envirabox=\"225278\" data-no-lazy=\"1\" data-title=\"Great Sand Dunes National Park\" draggable=\"false\" height=\"480\" id=\"envira-gallery-image-214186\" itemprop=\"thumbnailUrl\" onmousedown=\"event.preventDefault()\" src=\"https://enviragallery.com/wp-content/uploads/2017/03/great-sand-dunes-np-1024x448.jpg\" srcset=\"data:image/gif;base64,R0lGODlhAQABAIAAAP///////yH5BAEKAAEALAAAAAABAAEAAAICTAEAOw==\" tabindex=\"-1\" title=\"Great Sand Dunes National Park\" width=\"640\"/>, <img alt=\"70-200mm Lens\" class=\"envira-gallery-image envira-gallery-image-21 envira-lazy\" data-caption=\"\" data-envira-gallery-id=\"225278\" data-envira-index=\"20\" data-envira-item-id=\"186959\" data-envira-src=\"https://enviragallery.com/wp-content/uploads/2016/07/70-200mm-lens.jpg\" data-envira-srcset=\"https://enviragallery.com/wp-content/uploads/2016/07/70-200mm-lens.jpg 400w,https://enviragallery.com/wp-content/uploads/2016/07/70-200mm-lens.jpg 2x\" data-envirabox=\"225278\" data-no-lazy=\"1\" data-title=\"70-200mm Lens\" draggable=\"false\" height=\"480\" id=\"envira-gallery-image-186959\" itemprop=\"thumbnailUrl\" onmousedown=\"event.preventDefault()\" src=\"https://enviragallery.com/wp-content/uploads/2016/07/70-200mm-lens.jpg\" srcset=\"data:image/gif;base64,R0lGODlhAQABAIAAAP///////yH5BAEKAAEALAAAAAABAAEAAAICTAEAOw==\" tabindex=\"-1\" title=\"70-200mm Lens\" width=\"640\"/>, <img alt=\"Lens is Best For Wedding Photography\" class=\"envira-gallery-image envira-gallery-image-22 envira-lazy\" data-caption=\"\" data-envira-gallery-id=\"225278\" data-envira-index=\"21\" data-envira-item-id=\"186958\" data-envira-src=\"https://enviragallery.com/wp-content/uploads/2016/07/lens-is-best-for-wedding-photography.jpg\" data-envira-srcset=\"https://enviragallery.com/wp-content/uploads/2016/07/lens-is-best-for-wedding-photography.jpg 400w,https://enviragallery.com/wp-content/uploads/2016/07/lens-is-best-for-wedding-photography.jpg 2x\" data-envirabox=\"225278\" data-no-lazy=\"1\" data-title=\"Lens is Best For Wedding Photography\" draggable=\"false\" height=\"480\" id=\"envira-gallery-image-186958\" itemprop=\"thumbnailUrl\" onmousedown=\"event.preventDefault()\" src=\"https://enviragallery.com/wp-content/uploads/2016/07/lens-is-best-for-wedding-photography.jpg\" srcset=\"data:image/gif;base64,R0lGODlhAQABAIAAAP///////yH5BAEKAAEALAAAAAABAAEAAAICTAEAOw==\" tabindex=\"-1\" title=\"Lens is Best For Wedding Photography\" width=\"640\"/>, <img alt=\"Change Lightbox Background Color\" class=\"envira-gallery-image envira-gallery-image-23 envira-lazy\" data-caption=\"\" data-envira-gallery-id=\"225278\" data-envira-index=\"22\" data-envira-item-id=\"179917\" data-envira-src=\"https://enviragallery.com/wp-content/uploads/2016/12/change-lightbox-background-color.jpg\" data-envira-srcset=\"https://enviragallery.com/wp-content/uploads/2016/12/change-lightbox-background-color.jpg 400w,https://enviragallery.com/wp-content/uploads/2016/12/change-lightbox-background-color.jpg 2x\" data-envirabox=\"225278\" data-no-lazy=\"1\" data-title=\"Change Lightbox Background Color\" draggable=\"false\" height=\"480\" id=\"envira-gallery-image-179917\" itemprop=\"thumbnailUrl\" onmousedown=\"event.preventDefault()\" src=\"https://enviragallery.com/wp-content/uploads/2016/12/change-lightbox-background-color.jpg\" srcset=\"data:image/gif;base64,R0lGODlhAQABAIAAAP///////yH5BAEKAAEALAAAAAABAAEAAAICTAEAOw==\" tabindex=\"-1\" title=\"Change Lightbox Background Color\" width=\"640\"/>, <img alt=\"Camera is Best For Wedding Photography\" class=\"envira-gallery-image envira-gallery-image-24 envira-lazy\" data-caption=\"\" data-envira-gallery-id=\"225278\" data-envira-index=\"23\" data-envira-item-id=\"179619\" data-envira-src=\"https://enviragallery.com/wp-content/uploads/2016/07/camera-is-best-for-wedding-photography.jpg\" data-envira-srcset=\"https://enviragallery.com/wp-content/uploads/2016/07/camera-is-best-for-wedding-photography.jpg 400w,https://enviragallery.com/wp-content/uploads/2016/07/camera-is-best-for-wedding-photography.jpg 2x\" data-envirabox=\"225278\" data-no-lazy=\"1\" data-title=\"Camera is Best For Wedding Photography\" draggable=\"false\" height=\"480\" id=\"envira-gallery-image-179619\" itemprop=\"thumbnailUrl\" onmousedown=\"event.preventDefault()\" src=\"https://enviragallery.com/wp-content/uploads/2016/07/camera-is-best-for-wedding-photography.jpg\" srcset=\"data:image/gif;base64,R0lGODlhAQABAIAAAP///////yH5BAEKAAEALAAAAAABAAEAAAICTAEAOw==\" tabindex=\"-1\" title=\"Camera is Best For Wedding Photography\" width=\"640\"/>, <img alt=\"Raindrops as Reflectors\" class=\"envira-gallery-image envira-gallery-image-25 envira-lazy\" data-caption=\"\" data-envira-gallery-id=\"225278\" data-envira-index=\"24\" data-envira-item-id=\"175170\" data-envira-src=\"https://enviragallery.com/wp-content/uploads/2016/07/raindrops-effect-shootinrain.jpg\" data-envira-srcset=\"https://enviragallery.com/wp-content/uploads/2016/07/raindrops-effect-shootinrain.jpg 400w,https://enviragallery.com/wp-content/uploads/2016/07/raindrops-effect-shootinrain.jpg 2x\" data-envirabox=\"225278\" data-no-lazy=\"1\" data-title=\"Raindrops as Reflectors\" draggable=\"false\" height=\"480\" id=\"envira-gallery-image-175170\" itemprop=\"thumbnailUrl\" onmousedown=\"event.preventDefault()\" src=\"https://enviragallery.com/wp-content/uploads/2016/07/raindrops-effect-shootinrain.jpg\" srcset=\"data:image/gif;base64,R0lGODlhAQABAIAAAP///////yH5BAEKAAEALAAAAAABAAEAAAICTAEAOw==\" tabindex=\"-1\" title=\"Raindrops as Reflectors\" width=\"640\"/>, <img alt=\"Ceremony\" class=\"envira-gallery-image envira-gallery-image-26 envira-lazy\" data-caption=\"\" data-envira-gallery-id=\"225278\" data-envira-index=\"25\" data-envira-item-id=\"173937\" data-envira-src=\"https://enviragallery.com/wp-content/uploads/2016/07/ceremony-weddingchecklist.jpg\" data-envira-srcset=\"https://enviragallery.com/wp-content/uploads/2016/07/ceremony-weddingchecklist.jpg 400w,https://enviragallery.com/wp-content/uploads/2016/07/ceremony-weddingchecklist.jpg 2x\" data-envirabox=\"225278\" data-no-lazy=\"1\" data-title=\"Ceremony\" draggable=\"false\" height=\"480\" id=\"envira-gallery-image-173937\" itemprop=\"thumbnailUrl\" onmousedown=\"event.preventDefault()\" src=\"https://enviragallery.com/wp-content/uploads/2016/07/ceremony-weddingchecklist.jpg\" srcset=\"data:image/gif;base64,R0lGODlhAQABAIAAAP///////yH5BAEKAAEALAAAAAABAAEAAAICTAEAOw==\" tabindex=\"-1\" title=\"Ceremony\" width=\"640\"/>, <img alt=\"Computer System\" class=\"envira-gallery-image envira-gallery-image-27 envira-lazy\" data-caption=\"\" data-envira-gallery-id=\"225278\" data-envira-index=\"26\" data-envira-item-id=\"158129\" data-envira-src=\"https://enviragallery.com/wp-content/uploads/2016/09/computer-system-weddingphotography.jpg\" data-envira-srcset=\"https://enviragallery.com/wp-content/uploads/2016/09/computer-system-weddingphotography.jpg 400w,https://enviragallery.com/wp-content/uploads/2016/09/computer-system-weddingphotography.jpg 2x\" data-envirabox=\"225278\" data-no-lazy=\"1\" data-title=\"Computer System\" draggable=\"false\" height=\"480\" id=\"envira-gallery-image-158129\" itemprop=\"thumbnailUrl\" onmousedown=\"event.preventDefault()\" src=\"https://enviragallery.com/wp-content/uploads/2016/09/computer-system-weddingphotography.jpg\" srcset=\"data:image/gif;base64,R0lGODlhAQABAIAAAP///////yH5BAEKAAEALAAAAAABAAEAAAICTAEAOw==\" tabindex=\"-1\" title=\"Computer System\" width=\"640\"/>, <img alt=\"Lens\" class=\"envira-gallery-image envira-gallery-image-28 envira-lazy\" data-caption=\"\" data-envira-gallery-id=\"225278\" data-envira-index=\"27\" data-envira-item-id=\"158126\" data-envira-src=\"https://enviragallery.com/wp-content/uploads/2016/09/lens-weddingphotography.jpg\" data-envira-srcset=\"https://enviragallery.com/wp-content/uploads/2016/09/lens-weddingphotography.jpg 400w,https://enviragallery.com/wp-content/uploads/2016/09/lens-weddingphotography.jpg 2x\" data-envirabox=\"225278\" data-no-lazy=\"1\" data-title=\"Lens\" draggable=\"false\" height=\"480\" id=\"envira-gallery-image-158126\" itemprop=\"thumbnailUrl\" onmousedown=\"event.preventDefault()\" src=\"https://enviragallery.com/wp-content/uploads/2016/09/lens-weddingphotography.jpg\" srcset=\"data:image/gif;base64,R0lGODlhAQABAIAAAP///////yH5BAEKAAEALAAAAAABAAEAAAICTAEAOw==\" tabindex=\"-1\" title=\"Lens\" width=\"640\"/>, <img alt=\"\" class=\"envira-gallery-image envira-gallery-image-29 envira-lazy\" data-caption=\"\" data-envira-gallery-id=\"225278\" data-envira-index=\"28\" data-envira-item-id=\"158125\" data-envira-src=\"https://enviragallery.com/wp-content/uploads/2016/09/camera-weddingphotography.jpg\" data-envira-srcset=\"https://enviragallery.com/wp-content/uploads/2016/09/camera-weddingphotography.jpg 400w,https://enviragallery.com/wp-content/uploads/2016/09/camera-weddingphotography.jpg 2x\" data-envirabox=\"225278\" data-no-lazy=\"1\" data-title=\"Camera\" draggable=\"false\" height=\"480\" id=\"envira-gallery-image-158125\" itemprop=\"thumbnailUrl\" onmousedown=\"event.preventDefault()\" src=\"https://enviragallery.com/wp-content/uploads/2016/09/camera-weddingphotography.jpg\" srcset=\"data:image/gif;base64,R0lGODlhAQABAIAAAP///////yH5BAEKAAEALAAAAAABAAEAAAICTAEAOw==\" tabindex=\"-1\" title=\"Camera\" width=\"640\"/>, <img alt=\"Travers &amp; Brown\" class=\"envira-gallery-image envira-gallery-image-30 envira-lazy\" data-caption=\"\" data-envira-gallery-id=\"225278\" data-envira-index=\"29\" data-envira-item-id=\"147445\" data-envira-src=\"https://enviragallery.com/wp-content/uploads/2016/09/travers-brown-weddingportfolios.jpg\" data-envira-srcset=\"https://enviragallery.com/wp-content/uploads/2016/09/travers-brown-weddingportfolios.jpg 400w,https://enviragallery.com/wp-content/uploads/2016/09/travers-brown-weddingportfolios.jpg 2x\" data-envirabox=\"225278\" data-no-lazy=\"1\" data-title=\"Travers &amp; Brown\" draggable=\"false\" height=\"480\" id=\"envira-gallery-image-147445\" itemprop=\"thumbnailUrl\" onmousedown=\"event.preventDefault()\" src=\"https://enviragallery.com/wp-content/uploads/2016/09/travers-brown-weddingportfolios.jpg\" srcset=\"data:image/gif;base64,R0lGODlhAQABAIAAAP///////yH5BAEKAAEALAAAAAABAAEAAAICTAEAOw==\" tabindex=\"-1\" title=\"Travers &amp; Brown\" width=\"640\"/>, <img alt=\"\" class=\"envira-gallery-image envira-gallery-image-31 envira-lazy\" data-caption=\"\" data-envira-gallery-id=\"225278\" data-envira-index=\"30\" data-envira-item-id=\"143776\" data-envira-src=\"https://enviragallery.com/wp-content/uploads/2016/09/grill2.jpg\" data-envira-srcset=\"https://enviragallery.com/wp-content/uploads/2016/09/grill2.jpg 400w,https://enviragallery.com/wp-content/uploads/2016/09/grill2.jpg 2x\" data-envirabox=\"225278\" data-no-lazy=\"1\" data-title=\"grill2\" draggable=\"false\" height=\"480\" id=\"envira-gallery-image-143776\" itemprop=\"thumbnailUrl\" onmousedown=\"event.preventDefault()\" src=\"https://enviragallery.com/wp-content/uploads/2016/09/grill2.jpg\" srcset=\"data:image/gif;base64,R0lGODlhAQABAIAAAP///////yH5BAEKAAEALAAAAAABAAEAAAICTAEAOw==\" tabindex=\"-1\" title=\"grill2\" width=\"640\"/>, <img alt=\"\" class=\"envira-gallery-image envira-gallery-image-32 envira-lazy\" data-caption=\"\" data-envira-gallery-id=\"225278\" data-envira-index=\"31\" data-envira-item-id=\"143774\" data-envira-src=\"https://enviragallery.com/wp-content/uploads/2016/09/grill1.jpeg\" data-envira-srcset=\"https://enviragallery.com/wp-content/uploads/2016/09/grill1.jpeg 400w,https://enviragallery.com/wp-content/uploads/2016/09/grill1.jpeg 2x\" data-envirabox=\"225278\" data-no-lazy=\"1\" data-title=\"grill1\" draggable=\"false\" height=\"480\" id=\"envira-gallery-image-143774\" itemprop=\"thumbnailUrl\" onmousedown=\"event.preventDefault()\" src=\"https://enviragallery.com/wp-content/uploads/2016/09/grill1.jpeg\" srcset=\"data:image/gif;base64,R0lGODlhAQABAIAAAP///////yH5BAEKAAEALAAAAAABAAEAAAICTAEAOw==\" tabindex=\"-1\" title=\"grill1\" width=\"640\"/>, <img alt=\"\" class=\"envira-gallery-image envira-gallery-image-33 envira-lazy\" data-caption=\"\" data-envira-gallery-id=\"225278\" data-envira-index=\"32\" data-envira-item-id=\"143772\" data-envira-src=\"https://enviragallery.com/wp-content/uploads/2016/09/grill.jpg\" data-envira-srcset=\"https://enviragallery.com/wp-content/uploads/2016/09/grill.jpg 400w,https://enviragallery.com/wp-content/uploads/2016/09/grill.jpg 2x\" data-envirabox=\"225278\" data-no-lazy=\"1\" data-title=\"grill\" draggable=\"false\" height=\"480\" id=\"envira-gallery-image-143772\" itemprop=\"thumbnailUrl\" onmousedown=\"event.preventDefault()\" src=\"https://enviragallery.com/wp-content/uploads/2016/09/grill.jpg\" srcset=\"data:image/gif;base64,R0lGODlhAQABAIAAAP///////yH5BAEKAAEALAAAAAABAAEAAAICTAEAOw==\" tabindex=\"-1\" title=\"grill\" width=\"640\"/>, <img alt=\"\" class=\"envira-gallery-image envira-gallery-image-34 envira-lazy\" data-caption=\"\" data-envira-gallery-id=\"225278\" data-envira-index=\"33\" data-envira-item-id=\"143766\" data-envira-src=\"https://enviragallery.com/wp-content/uploads/2016/09/pexels-photo-133459-medium.jpeg\" data-envira-srcset=\"https://enviragallery.com/wp-content/uploads/2016/09/pexels-photo-133459-medium.jpeg 400w,https://enviragallery.com/wp-content/uploads/2016/09/pexels-photo-133459-medium.jpeg 2x\" data-envirabox=\"225278\" data-no-lazy=\"1\" data-title=\"pexels-photo-133459-medium\" draggable=\"false\" height=\"480\" id=\"envira-gallery-image-143766\" itemprop=\"thumbnailUrl\" onmousedown=\"event.preventDefault()\" src=\"https://enviragallery.com/wp-content/uploads/2016/09/pexels-photo-133459-medium.jpeg\" srcset=\"data:image/gif;base64,R0lGODlhAQABAIAAAP///////yH5BAEKAAEALAAAAAABAAEAAAICTAEAOw==\" tabindex=\"-1\" title=\"pexels-photo-133459-medium\" width=\"640\"/>, <img alt=\"with the maid of honor\" class=\"envira-gallery-image envira-gallery-image-35 envira-lazy\" data-caption=\"via Kelsea Holder\" data-envira-gallery-id=\"225278\" data-envira-index=\"34\" data-envira-item-id=\"142723\" data-envira-src=\"https://enviragallery.com/wp-content/uploads/2016/07/bride3.jpg\" data-envira-srcset=\"https://enviragallery.com/wp-content/uploads/2016/07/bride3.jpg 400w,https://enviragallery.com/wp-content/uploads/2016/07/bride3.jpg 2x\" data-envirabox=\"225278\" data-no-lazy=\"1\" data-title=\"bride3\" draggable=\"false\" height=\"480\" id=\"envira-gallery-image-142723\" itemprop=\"thumbnailUrl\" onmousedown=\"event.preventDefault()\" src=\"https://enviragallery.com/wp-content/uploads/2016/07/bride3.jpg\" srcset=\"data:image/gif;base64,R0lGODlhAQABAIAAAP///////yH5BAEKAAEALAAAAAABAAEAAAICTAEAOw==\" tabindex=\"-1\" title=\"bride3\" width=\"640\"/>, <img alt=\"9 Top Wedding Photography Poses for the Groom\" class=\"envira-gallery-image envira-gallery-image-36 envira-lazy\" data-caption=\"\" data-envira-gallery-id=\"225278\" data-envira-index=\"35\" data-envira-item-id=\"138806\" data-envira-src=\"https://enviragallery.com/wp-content/uploads/2016/07/9-Top-Wedding-Photography-Poses-for-the-Groom-1.png\" data-envira-srcset=\"https://enviragallery.com/wp-content/uploads/2016/07/9-Top-Wedding-Photography-Poses-for-the-Groom-1.png 400w,https://enviragallery.com/wp-content/uploads/2016/07/9-Top-Wedding-Photography-Poses-for-the-Groom-1.png 2x\" data-envirabox=\"225278\" data-no-lazy=\"1\" data-title=\"9 Top Wedding Photography Poses for the Groom\" draggable=\"false\" height=\"480\" id=\"envira-gallery-image-138806\" itemprop=\"thumbnailUrl\" onmousedown=\"event.preventDefault()\" src=\"https://enviragallery.com/wp-content/uploads/2016/07/9-Top-Wedding-Photography-Poses-for-the-Groom-1.png\" srcset=\"data:image/gif;base64,R0lGODlhAQABAIAAAP///////yH5BAEKAAEALAAAAAABAAEAAAICTAEAOw==\" tabindex=\"-1\" title=\"9 Top Wedding Photography Poses for the Groom\" width=\"640\"/>, <img alt=\"\" class=\"envira-gallery-image envira-gallery-image-37 envira-lazy\" data-caption=\"\" data-envira-gallery-id=\"225278\" data-envira-index=\"36\" data-envira-item-id=\"126937\" data-envira-src=\"https://enviragallery.com/wp-content/uploads/2016/06/stars.png\" data-envira-srcset=\"https://enviragallery.com/wp-content/uploads/2016/06/stars.png 400w,https://enviragallery.com/wp-content/uploads/2016/06/stars.png 2x\" data-envirabox=\"225278\" data-no-lazy=\"1\" data-title=\"stars\" draggable=\"false\" height=\"480\" id=\"envira-gallery-image-126937\" itemprop=\"thumbnailUrl\" onmousedown=\"event.preventDefault()\" src=\"https://enviragallery.com/wp-content/uploads/2016/06/stars.png\" srcset=\"data:image/gif;base64,R0lGODlhAQABAIAAAP///////yH5BAEKAAEALAAAAAABAAEAAAICTAEAOw==\" tabindex=\"-1\" title=\"stars\" width=\"640\"/>, <img alt=\"\" class=\"envira-gallery-image envira-gallery-image-38 envira-lazy\" data-caption=\"\" data-envira-gallery-id=\"225278\" data-envira-index=\"37\" data-envira-item-id=\"125740\" data-envira-src=\"https://enviragallery.com/wp-content/uploads/2016/06/photo-1461088778056-88bf6d3cefcd-1024x729.jpeg\" data-envira-srcset=\"https://enviragallery.com/wp-content/uploads/2016/06/photo-1461088778056-88bf6d3cefcd-1024x729.jpeg 400w,https://enviragallery.com/wp-content/uploads/2016/06/photo-1461088778056-88bf6d3cefcd-1024x729.jpeg 2x\" data-envirabox=\"225278\" data-no-lazy=\"1\" data-title=\"photo-1461088778056-88bf6d3cefcd\" draggable=\"false\" height=\"480\" id=\"envira-gallery-image-125740\" itemprop=\"thumbnailUrl\" onmousedown=\"event.preventDefault()\" src=\"https://enviragallery.com/wp-content/uploads/2016/06/photo-1461088778056-88bf6d3cefcd-1024x729.jpeg\" srcset=\"data:image/gif;base64,R0lGODlhAQABAIAAAP///////yH5BAEKAAEALAAAAAABAAEAAAICTAEAOw==\" tabindex=\"-1\" title=\"photo-1461088778056-88bf6d3cefcd\" width=\"640\"/>, <img alt=\"\" class=\"envira-gallery-image envira-gallery-image-39 envira-lazy\" data-caption=\"\" data-envira-gallery-id=\"225278\" data-envira-index=\"38\" data-envira-item-id=\"125739\" data-envira-src=\"https://enviragallery.com/wp-content/uploads/2016/06/photo-1460499593944-39e14f96a8c6-1024x683.jpeg\" data-envira-srcset=\"https://enviragallery.com/wp-content/uploads/2016/06/photo-1460499593944-39e14f96a8c6-1024x683.jpeg 400w,https://enviragallery.com/wp-content/uploads/2016/06/photo-1460499593944-39e14f96a8c6-1024x683.jpeg 2x\" data-envirabox=\"225278\" data-no-lazy=\"1\" data-title=\"photo-1460499593944-39e14f96a8c6\" draggable=\"false\" height=\"480\" id=\"envira-gallery-image-125739\" itemprop=\"thumbnailUrl\" onmousedown=\"event.preventDefault()\" src=\"https://enviragallery.com/wp-content/uploads/2016/06/photo-1460499593944-39e14f96a8c6-1024x683.jpeg\" srcset=\"data:image/gif;base64,R0lGODlhAQABAIAAAP///////yH5BAEKAAEALAAAAAABAAEAAAICTAEAOw==\" tabindex=\"-1\" title=\"photo-1460499593944-39e14f96a8c6\" width=\"640\"/>, <img alt=\"\" class=\"envira-gallery-image envira-gallery-image-40 envira-lazy\" data-caption=\"\" data-envira-gallery-id=\"225278\" data-envira-index=\"39\" data-envira-item-id=\"125737\" data-envira-src=\"https://enviragallery.com/wp-content/uploads/2016/06/photo-1452473767141-7c6086eacf42-1024x683.jpeg\" data-envira-srcset=\"https://enviragallery.com/wp-content/uploads/2016/06/photo-1452473767141-7c6086eacf42-1024x683.jpeg 400w,https://enviragallery.com/wp-content/uploads/2016/06/photo-1452473767141-7c6086eacf42-1024x683.jpeg 2x\" data-envirabox=\"225278\" data-no-lazy=\"1\" data-title=\"photo-1452473767141-7c6086eacf42\" draggable=\"false\" height=\"480\" id=\"envira-gallery-image-125737\" itemprop=\"thumbnailUrl\" onmousedown=\"event.preventDefault()\" src=\"https://enviragallery.com/wp-content/uploads/2016/06/photo-1452473767141-7c6086eacf42-1024x683.jpeg\" srcset=\"data:image/gif;base64,R0lGODlhAQABAIAAAP///////yH5BAEKAAEALAAAAAABAAEAAAICTAEAOw==\" tabindex=\"-1\" title=\"photo-1452473767141-7c6086eacf42\" width=\"640\"/>]\n"
          ]
        }
      ]
    },
    {
      "cell_type": "markdown",
      "source": [
        "At the time of writing the website contained 43 images. We could first store the soup object containing only the images in a new list:"
      ],
      "metadata": {
        "id": "nqPvpYyTIqPb"
      }
    },
    {
      "cell_type": "code",
      "source": [
        "images = soup.find_all(\"img\")"
      ],
      "metadata": {
        "id": "gBOfDwsgI0Id"
      },
      "execution_count": 21,
      "outputs": []
    },
    {
      "cell_type": "markdown",
      "source": [
        "The link to the image itself isn't stored in the attribute \"src\" (usually) but in the attribute \"data-envira-src\""
      ],
      "metadata": {
        "id": "5_VoTMJPJOPl"
      }
    },
    {
      "cell_type": "code",
      "source": [
        "for image in images:\n",
        "  #print(image.get('title'))\n",
        "  print(image.get('data-envira-src'))"
      ],
      "metadata": {
        "id": "TI3W9xZDI3OS",
        "outputId": "ad22526f-668f-4e60-e4eb-5374803c94ef",
        "colab": {
          "base_uri": "https://localhost:8080/"
        }
      },
      "execution_count": 33,
      "outputs": [
        {
          "output_type": "stream",
          "name": "stdout",
          "text": [
            "None\n",
            "None\n",
            "None\n",
            "Zion - Canyon Overlook\n",
            "Sunset View - Bryce Canyon\n",
            "Some Random Highway in Colorado - Because why not stop for mountains and stars\n",
            "Looking Up\n",
            "mequite-dunes\n",
            "It's About the Experience\n",
            "Great Sand Dunes National Park - Star Trails\n",
            "pexels-photo-280189\n",
            "pexels-photo-157233\n",
            "water2\n",
            "water\n",
            "pexels-photo-120153-medium\n",
            "pexels-photo-127753-medium\n",
            "pexels-photo-131032-medium\n",
            "night\n",
            "pexels-photo-(1)\n",
            "jetty-landing-stage-sea-sky\n",
            "desert\n",
            "Badwater Basin\n",
            "Great Sand Dunes National Park\n",
            "70-200mm Lens\n",
            "Lens is Best For Wedding Photography\n",
            "Change Lightbox Background Color\n",
            "Camera is Best For Wedding Photography\n",
            "Raindrops as Reflectors\n",
            "Ceremony\n",
            "Computer System\n",
            "Lens\n",
            "Camera\n",
            "Travers & Brown\n",
            "grill2\n",
            "grill1\n",
            "grill\n",
            "pexels-photo-133459-medium\n",
            "bride3\n",
            "9 Top Wedding Photography Poses for the Groom\n",
            "stars\n",
            "photo-1461088778056-88bf6d3cefcd\n",
            "photo-1460499593944-39e14f96a8c6\n",
            "photo-1452473767141-7c6086eacf42\n"
          ]
        }
      ]
    },
    {
      "cell_type": "markdown",
      "source": [
        "Some of the images on the page don't have this attribute (most likely icons or similar menu related things). We can include a little if-condition to get only the images we are interested in:\n"
      ],
      "metadata": {
        "id": "Mx9LRPPFJpU5"
      }
    },
    {
      "cell_type": "code",
      "source": [
        "for image in images:\n",
        "  if image.get('data-envira-src') != None:\n",
        "    print(image.get('data-envira-src'))"
      ],
      "metadata": {
        "id": "fOhnDVInJ0K0",
        "outputId": "9ddfde7c-63f3-46e8-dce9-a43e2171390a",
        "colab": {
          "base_uri": "https://localhost:8080/"
        }
      },
      "execution_count": 30,
      "outputs": [
        {
          "output_type": "stream",
          "name": "stdout",
          "text": [
            "https://enviragallery.com/wp-content/uploads/2017/03/zion-canyon-overlook-1024x659.jpg\n",
            "https://enviragallery.com/wp-content/uploads/2017/03/sunset-view-bryce-canyon-1024x419.jpg\n",
            "https://enviragallery.com/wp-content/uploads/2017/03/random-highway-1024x668.jpg\n",
            "https://enviragallery.com/wp-content/uploads/2017/03/looking-up-787x1024.jpg\n",
            "https://enviragallery.com/wp-content/uploads/2017/03/mequite-dunes-1024x683.jpg\n",
            "https://enviragallery.com/wp-content/uploads/2017/03/experience-1024x427.jpg\n",
            "https://enviragallery.com/wp-content/uploads/2017/03/great-sand-dunes-star-trails-1024x683.jpg\n",
            "https://enviragallery.com/wp-content/uploads/2017/02/pexels-photo-280189-1024x683.jpg\n",
            "https://enviragallery.com/wp-content/uploads/2017/02/pexels-photo-157233-1024x576.jpg\n",
            "https://enviragallery.com/wp-content/uploads/2016/09/water2.jpeg\n",
            "https://enviragallery.com/wp-content/uploads/2016/09/water.jpeg\n",
            "https://enviragallery.com/wp-content/uploads/2016/09/pexels-photo-120153-medium.jpeg\n",
            "https://enviragallery.com/wp-content/uploads/2016/09/pexels-photo-127753-medium-1024x281.jpeg\n",
            "https://enviragallery.com/wp-content/uploads/2016/09/pexels-photo-131032-medium.png\n",
            "https://enviragallery.com/wp-content/uploads/2016/09/night.jpg\n",
            "https://enviragallery.com/wp-content/uploads/2016/08/pexels-photo-1-1024x683.jpg\n",
            "https://enviragallery.com/wp-content/uploads/2016/08/jetty-landing-stage-sea-sky-1024x683.jpg\n",
            "https://enviragallery.com/wp-content/uploads/2016/07/desert-1024x768.jpg\n",
            "https://enviragallery.com/wp-content/uploads/2017/03/badwater-basin-1024x683.jpg\n",
            "https://enviragallery.com/wp-content/uploads/2017/03/great-sand-dunes-np-1024x448.jpg\n",
            "https://enviragallery.com/wp-content/uploads/2016/07/70-200mm-lens.jpg\n",
            "https://enviragallery.com/wp-content/uploads/2016/07/lens-is-best-for-wedding-photography.jpg\n",
            "https://enviragallery.com/wp-content/uploads/2016/12/change-lightbox-background-color.jpg\n",
            "https://enviragallery.com/wp-content/uploads/2016/07/camera-is-best-for-wedding-photography.jpg\n",
            "https://enviragallery.com/wp-content/uploads/2016/07/raindrops-effect-shootinrain.jpg\n",
            "https://enviragallery.com/wp-content/uploads/2016/07/ceremony-weddingchecklist.jpg\n",
            "https://enviragallery.com/wp-content/uploads/2016/09/computer-system-weddingphotography.jpg\n",
            "https://enviragallery.com/wp-content/uploads/2016/09/lens-weddingphotography.jpg\n",
            "https://enviragallery.com/wp-content/uploads/2016/09/camera-weddingphotography.jpg\n",
            "https://enviragallery.com/wp-content/uploads/2016/09/travers-brown-weddingportfolios.jpg\n",
            "https://enviragallery.com/wp-content/uploads/2016/09/grill2.jpg\n",
            "https://enviragallery.com/wp-content/uploads/2016/09/grill1.jpeg\n",
            "https://enviragallery.com/wp-content/uploads/2016/09/grill.jpg\n",
            "https://enviragallery.com/wp-content/uploads/2016/09/pexels-photo-133459-medium.jpeg\n",
            "https://enviragallery.com/wp-content/uploads/2016/07/bride3.jpg\n",
            "https://enviragallery.com/wp-content/uploads/2016/07/9-Top-Wedding-Photography-Poses-for-the-Groom-1.png\n",
            "https://enviragallery.com/wp-content/uploads/2016/06/stars.png\n",
            "https://enviragallery.com/wp-content/uploads/2016/06/photo-1461088778056-88bf6d3cefcd-1024x729.jpeg\n",
            "https://enviragallery.com/wp-content/uploads/2016/06/photo-1460499593944-39e14f96a8c6-1024x683.jpeg\n",
            "https://enviragallery.com/wp-content/uploads/2016/06/photo-1452473767141-7c6086eacf42-1024x683.jpeg\n"
          ]
        }
      ]
    },
    {
      "cell_type": "markdown",
      "source": [
        "We can combine this with the batch-downloading script from our previous example. Let's take the title as filename:"
      ],
      "metadata": {
        "id": "qkhaFTivJ7Kc"
      }
    },
    {
      "cell_type": "code",
      "source": [
        "for image in images:\n",
        "  if image.get('data-envira-src') != None:\n",
        "    filename = f\"{image.get('title')}.jpg\"\n",
        "    url = image.get('data-envira-src')\n",
        "    response = requests.get(url)\n",
        "    image_content = response.content\n",
        "    image_file = open(f\"sample_data/{filename}\", \"wb\")\n",
        "    image_file.write(image_content)\n",
        "    image_file.close()"
      ],
      "metadata": {
        "id": "OkvUErY2KCES"
      },
      "execution_count": 34,
      "outputs": []
    }
  ]
}